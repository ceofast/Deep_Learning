{
  "nbformat": 4,
  "nbformat_minor": 0,
  "metadata": {
    "colab": {
      "provenance": [],
      "authorship_tag": "ABX9TyOZyXhdGD7yvfws74i8aSKt",
      "include_colab_link": true
    },
    "kernelspec": {
      "name": "python3",
      "display_name": "Python 3"
    },
    "language_info": {
      "name": "python"
    },
    "accelerator": "GPU"
  },
  "cells": [
    {
      "cell_type": "markdown",
      "metadata": {
        "id": "view-in-github",
        "colab_type": "text"
      },
      "source": [
        "<a href=\"https://colab.research.google.com/github/ceofast/-Fuel-Consumption-Prediction-from-Kaggle/blob/main/Introduction_deep_learning.ipynb\" target=\"_parent\"><img src=\"https://colab.research.google.com/assets/colab-badge.svg\" alt=\"Open In Colab\"/></a>"
      ]
    },
    {
      "cell_type": "markdown",
      "source": [
        "## AI90201 Neural Networks"
      ],
      "metadata": {
        "id": "t6sxyY0mc4lT"
      }
    },
    {
      "cell_type": "code",
      "source": [
        "from sklearn.datasets import fetch_openml\n",
        "from sklearn.model_selection import train_test_split\n",
        "\n",
        "X, y = fetch_openml('mnist_784', version = 1, return_X_y = True, as_frame = False)\n",
        "\n",
        "X = X / 255.0\n",
        "\n",
        "X_train, X_test, y_train, y_test = train_test_split(X, y, random_state = 0, test_size = 0.7)"
      ],
      "metadata": {
        "id": "OwRh41UBdCKB"
      },
      "execution_count": 1,
      "outputs": []
    },
    {
      "cell_type": "code",
      "source": [
        "import pandas as pd\n",
        "\n",
        "data = pd.DataFrame(X)\n",
        "\n",
        "data.insert(784, 'label', y)\n",
        "\n",
        "data.head()"
      ],
      "metadata": {
        "colab": {
          "base_uri": "https://localhost:8080/",
          "height": 236
        },
        "id": "cJD_9is3duq7",
        "outputId": "c7ec36dd-c262-42b3-9b6d-c1a93ec5f19a"
      },
      "execution_count": 2,
      "outputs": [
        {
          "output_type": "execute_result",
          "data": {
            "text/plain": [
              "     0    1    2    3    4    5    6    7    8    9  ...  775  776  777  778  \\\n",
              "0  0.0  0.0  0.0  0.0  0.0  0.0  0.0  0.0  0.0  0.0  ...  0.0  0.0  0.0  0.0   \n",
              "1  0.0  0.0  0.0  0.0  0.0  0.0  0.0  0.0  0.0  0.0  ...  0.0  0.0  0.0  0.0   \n",
              "2  0.0  0.0  0.0  0.0  0.0  0.0  0.0  0.0  0.0  0.0  ...  0.0  0.0  0.0  0.0   \n",
              "3  0.0  0.0  0.0  0.0  0.0  0.0  0.0  0.0  0.0  0.0  ...  0.0  0.0  0.0  0.0   \n",
              "4  0.0  0.0  0.0  0.0  0.0  0.0  0.0  0.0  0.0  0.0  ...  0.0  0.0  0.0  0.0   \n",
              "\n",
              "   779  780  781  782  783  label  \n",
              "0  0.0  0.0  0.0  0.0  0.0      5  \n",
              "1  0.0  0.0  0.0  0.0  0.0      0  \n",
              "2  0.0  0.0  0.0  0.0  0.0      4  \n",
              "3  0.0  0.0  0.0  0.0  0.0      1  \n",
              "4  0.0  0.0  0.0  0.0  0.0      9  \n",
              "\n",
              "[5 rows x 785 columns]"
            ],
            "text/html": [
              "\n",
              "  <div id=\"df-01a1acf0-ce07-4240-b4e5-eee24217c2d7\">\n",
              "    <div class=\"colab-df-container\">\n",
              "      <div>\n",
              "<style scoped>\n",
              "    .dataframe tbody tr th:only-of-type {\n",
              "        vertical-align: middle;\n",
              "    }\n",
              "\n",
              "    .dataframe tbody tr th {\n",
              "        vertical-align: top;\n",
              "    }\n",
              "\n",
              "    .dataframe thead th {\n",
              "        text-align: right;\n",
              "    }\n",
              "</style>\n",
              "<table border=\"1\" class=\"dataframe\">\n",
              "  <thead>\n",
              "    <tr style=\"text-align: right;\">\n",
              "      <th></th>\n",
              "      <th>0</th>\n",
              "      <th>1</th>\n",
              "      <th>2</th>\n",
              "      <th>3</th>\n",
              "      <th>4</th>\n",
              "      <th>5</th>\n",
              "      <th>6</th>\n",
              "      <th>7</th>\n",
              "      <th>8</th>\n",
              "      <th>9</th>\n",
              "      <th>...</th>\n",
              "      <th>775</th>\n",
              "      <th>776</th>\n",
              "      <th>777</th>\n",
              "      <th>778</th>\n",
              "      <th>779</th>\n",
              "      <th>780</th>\n",
              "      <th>781</th>\n",
              "      <th>782</th>\n",
              "      <th>783</th>\n",
              "      <th>label</th>\n",
              "    </tr>\n",
              "  </thead>\n",
              "  <tbody>\n",
              "    <tr>\n",
              "      <th>0</th>\n",
              "      <td>0.0</td>\n",
              "      <td>0.0</td>\n",
              "      <td>0.0</td>\n",
              "      <td>0.0</td>\n",
              "      <td>0.0</td>\n",
              "      <td>0.0</td>\n",
              "      <td>0.0</td>\n",
              "      <td>0.0</td>\n",
              "      <td>0.0</td>\n",
              "      <td>0.0</td>\n",
              "      <td>...</td>\n",
              "      <td>0.0</td>\n",
              "      <td>0.0</td>\n",
              "      <td>0.0</td>\n",
              "      <td>0.0</td>\n",
              "      <td>0.0</td>\n",
              "      <td>0.0</td>\n",
              "      <td>0.0</td>\n",
              "      <td>0.0</td>\n",
              "      <td>0.0</td>\n",
              "      <td>5</td>\n",
              "    </tr>\n",
              "    <tr>\n",
              "      <th>1</th>\n",
              "      <td>0.0</td>\n",
              "      <td>0.0</td>\n",
              "      <td>0.0</td>\n",
              "      <td>0.0</td>\n",
              "      <td>0.0</td>\n",
              "      <td>0.0</td>\n",
              "      <td>0.0</td>\n",
              "      <td>0.0</td>\n",
              "      <td>0.0</td>\n",
              "      <td>0.0</td>\n",
              "      <td>...</td>\n",
              "      <td>0.0</td>\n",
              "      <td>0.0</td>\n",
              "      <td>0.0</td>\n",
              "      <td>0.0</td>\n",
              "      <td>0.0</td>\n",
              "      <td>0.0</td>\n",
              "      <td>0.0</td>\n",
              "      <td>0.0</td>\n",
              "      <td>0.0</td>\n",
              "      <td>0</td>\n",
              "    </tr>\n",
              "    <tr>\n",
              "      <th>2</th>\n",
              "      <td>0.0</td>\n",
              "      <td>0.0</td>\n",
              "      <td>0.0</td>\n",
              "      <td>0.0</td>\n",
              "      <td>0.0</td>\n",
              "      <td>0.0</td>\n",
              "      <td>0.0</td>\n",
              "      <td>0.0</td>\n",
              "      <td>0.0</td>\n",
              "      <td>0.0</td>\n",
              "      <td>...</td>\n",
              "      <td>0.0</td>\n",
              "      <td>0.0</td>\n",
              "      <td>0.0</td>\n",
              "      <td>0.0</td>\n",
              "      <td>0.0</td>\n",
              "      <td>0.0</td>\n",
              "      <td>0.0</td>\n",
              "      <td>0.0</td>\n",
              "      <td>0.0</td>\n",
              "      <td>4</td>\n",
              "    </tr>\n",
              "    <tr>\n",
              "      <th>3</th>\n",
              "      <td>0.0</td>\n",
              "      <td>0.0</td>\n",
              "      <td>0.0</td>\n",
              "      <td>0.0</td>\n",
              "      <td>0.0</td>\n",
              "      <td>0.0</td>\n",
              "      <td>0.0</td>\n",
              "      <td>0.0</td>\n",
              "      <td>0.0</td>\n",
              "      <td>0.0</td>\n",
              "      <td>...</td>\n",
              "      <td>0.0</td>\n",
              "      <td>0.0</td>\n",
              "      <td>0.0</td>\n",
              "      <td>0.0</td>\n",
              "      <td>0.0</td>\n",
              "      <td>0.0</td>\n",
              "      <td>0.0</td>\n",
              "      <td>0.0</td>\n",
              "      <td>0.0</td>\n",
              "      <td>1</td>\n",
              "    </tr>\n",
              "    <tr>\n",
              "      <th>4</th>\n",
              "      <td>0.0</td>\n",
              "      <td>0.0</td>\n",
              "      <td>0.0</td>\n",
              "      <td>0.0</td>\n",
              "      <td>0.0</td>\n",
              "      <td>0.0</td>\n",
              "      <td>0.0</td>\n",
              "      <td>0.0</td>\n",
              "      <td>0.0</td>\n",
              "      <td>0.0</td>\n",
              "      <td>...</td>\n",
              "      <td>0.0</td>\n",
              "      <td>0.0</td>\n",
              "      <td>0.0</td>\n",
              "      <td>0.0</td>\n",
              "      <td>0.0</td>\n",
              "      <td>0.0</td>\n",
              "      <td>0.0</td>\n",
              "      <td>0.0</td>\n",
              "      <td>0.0</td>\n",
              "      <td>9</td>\n",
              "    </tr>\n",
              "  </tbody>\n",
              "</table>\n",
              "<p>5 rows × 785 columns</p>\n",
              "</div>\n",
              "      <button class=\"colab-df-convert\" onclick=\"convertToInteractive('df-01a1acf0-ce07-4240-b4e5-eee24217c2d7')\"\n",
              "              title=\"Convert this dataframe to an interactive table.\"\n",
              "              style=\"display:none;\">\n",
              "        \n",
              "  <svg xmlns=\"http://www.w3.org/2000/svg\" height=\"24px\"viewBox=\"0 0 24 24\"\n",
              "       width=\"24px\">\n",
              "    <path d=\"M0 0h24v24H0V0z\" fill=\"none\"/>\n",
              "    <path d=\"M18.56 5.44l.94 2.06.94-2.06 2.06-.94-2.06-.94-.94-2.06-.94 2.06-2.06.94zm-11 1L8.5 8.5l.94-2.06 2.06-.94-2.06-.94L8.5 2.5l-.94 2.06-2.06.94zm10 10l.94 2.06.94-2.06 2.06-.94-2.06-.94-.94-2.06-.94 2.06-2.06.94z\"/><path d=\"M17.41 7.96l-1.37-1.37c-.4-.4-.92-.59-1.43-.59-.52 0-1.04.2-1.43.59L10.3 9.45l-7.72 7.72c-.78.78-.78 2.05 0 2.83L4 21.41c.39.39.9.59 1.41.59.51 0 1.02-.2 1.41-.59l7.78-7.78 2.81-2.81c.8-.78.8-2.07 0-2.86zM5.41 20L4 18.59l7.72-7.72 1.47 1.35L5.41 20z\"/>\n",
              "  </svg>\n",
              "      </button>\n",
              "      \n",
              "  <style>\n",
              "    .colab-df-container {\n",
              "      display:flex;\n",
              "      flex-wrap:wrap;\n",
              "      gap: 12px;\n",
              "    }\n",
              "\n",
              "    .colab-df-convert {\n",
              "      background-color: #E8F0FE;\n",
              "      border: none;\n",
              "      border-radius: 50%;\n",
              "      cursor: pointer;\n",
              "      display: none;\n",
              "      fill: #1967D2;\n",
              "      height: 32px;\n",
              "      padding: 0 0 0 0;\n",
              "      width: 32px;\n",
              "    }\n",
              "\n",
              "    .colab-df-convert:hover {\n",
              "      background-color: #E2EBFA;\n",
              "      box-shadow: 0px 1px 2px rgba(60, 64, 67, 0.3), 0px 1px 3px 1px rgba(60, 64, 67, 0.15);\n",
              "      fill: #174EA6;\n",
              "    }\n",
              "\n",
              "    [theme=dark] .colab-df-convert {\n",
              "      background-color: #3B4455;\n",
              "      fill: #D2E3FC;\n",
              "    }\n",
              "\n",
              "    [theme=dark] .colab-df-convert:hover {\n",
              "      background-color: #434B5C;\n",
              "      box-shadow: 0px 1px 3px 1px rgba(0, 0, 0, 0.15);\n",
              "      filter: drop-shadow(0px 1px 2px rgba(0, 0, 0, 0.3));\n",
              "      fill: #FFFFFF;\n",
              "    }\n",
              "  </style>\n",
              "\n",
              "      <script>\n",
              "        const buttonEl =\n",
              "          document.querySelector('#df-01a1acf0-ce07-4240-b4e5-eee24217c2d7 button.colab-df-convert');\n",
              "        buttonEl.style.display =\n",
              "          google.colab.kernel.accessAllowed ? 'block' : 'none';\n",
              "\n",
              "        async function convertToInteractive(key) {\n",
              "          const element = document.querySelector('#df-01a1acf0-ce07-4240-b4e5-eee24217c2d7');\n",
              "          const dataTable =\n",
              "            await google.colab.kernel.invokeFunction('convertToInteractive',\n",
              "                                                     [key], {});\n",
              "          if (!dataTable) return;\n",
              "\n",
              "          const docLinkHtml = 'Like what you see? Visit the ' +\n",
              "            '<a target=\"_blank\" href=https://colab.research.google.com/notebooks/data_table.ipynb>data table notebook</a>'\n",
              "            + ' to learn more about interactive tables.';\n",
              "          element.innerHTML = '';\n",
              "          dataTable['output_type'] = 'display_data';\n",
              "          await google.colab.output.renderOutput(dataTable, element);\n",
              "          const docLink = document.createElement('div');\n",
              "          docLink.innerHTML = docLinkHtml;\n",
              "          element.appendChild(docLink);\n",
              "        }\n",
              "      </script>\n",
              "    </div>\n",
              "  </div>\n",
              "  "
            ]
          },
          "metadata": {},
          "execution_count": 2
        }
      ]
    },
    {
      "cell_type": "code",
      "source": [
        "import matplotlib.pyplot as plt\n",
        "\n",
        "for i in range(5):\n",
        "  plt.imshow(X[i].reshape((28, 28)), cmap = 'gray')\n",
        "  plt.show()"
      ],
      "metadata": {
        "colab": {
          "base_uri": "https://localhost:8080/",
          "height": 1000
        },
        "id": "Gh19z_-ld7_-",
        "outputId": "6a21894d-ad0f-4c76-9012-4e1a0b99e228"
      },
      "execution_count": 4,
      "outputs": [
        {
          "output_type": "display_data",
          "data": {
            "text/plain": [
              "<Figure size 432x288 with 1 Axes>"
            ],
            "image/png": "[encoded data removed]"
          },
          "metadata": {
            "needs_background": "light"
          }
        },
        {
          "output_type": "display_data",
          "data": {
            "text/plain": [
              "<Figure size 432x288 with 1 Axes>"
            ],
            "image/png": "[encoded data removed]"
          },
          "metadata": {
            "needs_background": "light"
          }
        },
        {
          "output_type": "display_data",
          "data": {
            "text/plain": [
              "<Figure size 432x288 with 1 Axes>"
            ],
            "image/png": "[encoded data removed]"
          },
          "metadata": {
            "needs_background": "light"
          }
        },
        {
          "output_type": "display_data",
          "data": {
            "text/plain": [
              "<Figure size 432x288 with 1 Axes>"
            ],
            "image/png": "[encoded data removed]"
          },
          "metadata": {
            "needs_background": "light"
          }
        },
        {
          "output_type": "display_data",
          "data": {
            "text/plain": [
              "<Figure size 432x288 with 1 Axes>"
            ],
            "image/png": "[encoded data removed]"
          },
          "metadata": {
            "needs_background": "light"
          }
        }
      ]
    },
    {
      "cell_type": "code",
      "source": [
        "from sklearn.neural_network import MLPClassifier\n",
        "\n",
        "mlp = MLPClassifier(hidden_layer_sizes = 1, activation = 'logistic')\n",
        "\n",
        "mlp1 = MLPClassifier(hidden_layer_sizes = 100, activation = 'logistic')\n",
        "\n",
        "mlp2 = MLPClassifier(hidden_layer_sizes = 1000, activation = 'logistic')"
      ],
      "metadata": {
        "id": "yvy1FibueUhZ"
      },
      "execution_count": 5,
      "outputs": []
    },
    {
      "cell_type": "code",
      "source": [
        "mlp.fit(X_train, y_train)\n",
        "\n",
        "mlp1.fit(X_train, y_train)\n",
        "\n",
        "mlp2.fit(X_train, y_train)"
      ],
      "metadata": {
        "colab": {
          "base_uri": "https://localhost:8080/"
        },
        "id": "aUuX0xiMe6nZ",
        "outputId": "03796d47-27db-406a-f4b0-e684937c7390"
      },
      "execution_count": 6,
      "outputs": [
        {
          "output_type": "stream",
          "name": "stderr",
          "text": [
            "/usr/local/lib/python3.7/dist-packages/sklearn/neural_network/_multilayer_perceptron.py:696: ConvergenceWarning: Stochastic Optimizer: Maximum iterations (200) reached and the optimization hasn't converged yet.\n",
            "  ConvergenceWarning,\n"
          ]
        },
        {
          "output_type": "execute_result",
          "data": {
            "text/plain": [
              "MLPClassifier(activation='logistic', hidden_layer_sizes=1000)"
            ]
          },
          "metadata": {},
          "execution_count": 6
        }
      ]
    },
    {
      "cell_type": "code",
      "source": [
        "predictions_NN = mlp.predict(X_test)\n",
        "predictions_NN"
      ],
      "metadata": {
        "colab": {
          "base_uri": "https://localhost:8080/"
        },
        "id": "02IG6mVnfRuC",
        "outputId": "2c35a7e8-a1e6-44e2-e130-bb39bdec8403"
      },
      "execution_count": 7,
      "outputs": [
        {
          "output_type": "execute_result",
          "data": {
            "text/plain": [
              "array(['6', '4', '1', ..., '3', '1', '4'], dtype='<U1')"
            ]
          },
          "metadata": {},
          "execution_count": 7
        }
      ]
    },
    {
      "cell_type": "code",
      "source": [
        "predictions_NN1 = mlp1.predict(X_test)\n",
        "predictions_NN1"
      ],
      "metadata": {
        "colab": {
          "base_uri": "https://localhost:8080/"
        },
        "id": "IF_HO7tujOp4",
        "outputId": "56835c6c-9ca9-4032-cd65-5da99e7df00e"
      },
      "execution_count": 8,
      "outputs": [
        {
          "output_type": "execute_result",
          "data": {
            "text/plain": [
              "array(['0', '4', '1', ..., '8', '3', '2'], dtype='<U1')"
            ]
          },
          "metadata": {},
          "execution_count": 8
        }
      ]
    },
    {
      "cell_type": "code",
      "source": [
        "predictions_NN2 = mlp2.predict(X_test)\n",
        "predictions_NN2"
      ],
      "metadata": {
        "colab": {
          "base_uri": "https://localhost:8080/"
        },
        "id": "q9jsud65jWDs",
        "outputId": "5084f97e-dee3-466e-9d5e-69591d5d70b2"
      },
      "execution_count": 9,
      "outputs": [
        {
          "output_type": "execute_result",
          "data": {
            "text/plain": [
              "array(['0', '4', '1', ..., '8', '3', '9'], dtype='<U1')"
            ]
          },
          "metadata": {},
          "execution_count": 9
        }
      ]
    },
    {
      "cell_type": "code",
      "source": [
        "print(f'Actual Value: {y_test[1]}')\n",
        "print(f'Predicted Value For 1 Hidden Layer: {predictions_NN[1]}')\n",
        "print(f'Predicted Value For 100 Hidden Layer: {predictions_NN1[1]}')\n",
        "print(f'Predicted Value For 1000 Hidden Layer: {predictions_NN2[1]}')\n",
        "\n",
        "plt.imshow(X_test[1].reshape((28,28)), cmap='gray')\n",
        "plt.show()"
      ],
      "metadata": {
        "colab": {
          "base_uri": "https://localhost:8080/",
          "height": 334
        },
        "id": "s8iCGGVAjc8s",
        "outputId": "c1f3a8b7-2216-4c7d-9a4f-7114231cedbd"
      },
      "execution_count": 10,
      "outputs": [
        {
          "output_type": "stream",
          "name": "stdout",
          "text": [
            "Actual Value: 4\n",
            "Predicted Value For 1 Hidden Layer: 4\n",
            "Predicted Value For 100 Hidden Layer: 4\n",
            "Predicted Value For 1000 Hidden Layer: 4\n"
          ]
        },
        {
          "output_type": "display_data",
          "data": {
            "text/plain": [
              "<Figure size 432x288 with 1 Axes>"
            ],
            "image/png": "[encoded data removed]"
          },
          "metadata": {
            "needs_background": "light"
          }
        }
      ]
    },
    {
      "cell_type": "code",
      "source": [
        "from sklearn.metrics import confusion_matrix\n",
        "\n",
        "confusion_matrix(y_test, predictions_NN)"
      ],
      "metadata": {
        "colab": {
          "base_uri": "https://localhost:8080/"
        },
        "id": "G4shA1bPkQKe",
        "outputId": "87ab9b42-69b1-4291-dae9-a7207973ab29"
      },
      "execution_count": 11,
      "outputs": [
        {
          "output_type": "execute_result",
          "data": {
            "text/plain": [
              "array([[ 106, 1060,    0,  164,   16,    0, 3548,   17,    0,    0],\n",
              "       [  59, 4731,    0,  496,   45,    0,  177,   36,    0,    0],\n",
              "       [ 112, 1900,    0,  633,   51,    0, 2167,   33,    0,    0],\n",
              "       [  10,  740,    0, 2994,  636,    0,  175,  431,    0,    0],\n",
              "       [   0,   97,    0,  686, 2092,    0,   19, 1874,    0,    0],\n",
              "       [  16,  768,    0, 2491,  551,    0,  119,  439,    0,    0],\n",
              "       [  46,  505,    0,   88,   10,    0, 4130,    1,    0,    0],\n",
              "       [   0,   51,    0,  114,  131,    0,    4, 4772,    0,    0],\n",
              "       [   5,  869,    0, 2872,  545,    0,   49,  417,    0,    0],\n",
              "       [   0,   33,    0,  160,  240,    0,    9, 4460,    0,    0]])"
            ]
          },
          "metadata": {},
          "execution_count": 11
        }
      ]
    },
    {
      "cell_type": "code",
      "source": [
        "confusion_matrix(y_test, predictions_NN1)"
      ],
      "metadata": {
        "colab": {
          "base_uri": "https://localhost:8080/"
        },
        "id": "iqGV8SK7kdiV",
        "outputId": "438aab37-5103-4d93-b07c-a131ab33e3e2"
      },
      "execution_count": 12,
      "outputs": [
        {
          "output_type": "execute_result",
          "data": {
            "text/plain": [
              "array([[4794,    2,   13,    7,   10,   15,   36,    7,   21,    6],\n",
              "       [   2, 5475,   22,   11,    4,    3,    3,    8,    8,    8],\n",
              "       [  15,    8, 4721,   22,   37,    2,   17,   34,   34,    6],\n",
              "       [   6,   11,   69, 4711,    3,   86,    5,   27,   47,   21],\n",
              "       [   3,   11,   15,    4, 4610,    4,   27,   14,    7,   73],\n",
              "       [  13,    7,   16,   62,   16, 4169,   42,    8,   27,   24],\n",
              "       [  17,   11,   11,    3,   21,   27, 4673,    4,   13,    0],\n",
              "       [   6,   17,   42,   13,   36,    3,    0, 4911,    5,   39],\n",
              "       [  25,   38,   33,   37,   16,   45,   21,    7, 4509,   26],\n",
              "       [  14,    9,   10,   35,   92,   24,    2,   67,   18, 4631]])"
            ]
          },
          "metadata": {},
          "execution_count": 12
        }
      ]
    },
    {
      "cell_type": "code",
      "source": [
        "confusion_matrix(y_test, predictions_NN2)"
      ],
      "metadata": {
        "colab": {
          "base_uri": "https://localhost:8080/"
        },
        "id": "K9yX3owSkiYm",
        "outputId": "ed93100e-b818-42db-ee39-73872011b63c"
      },
      "execution_count": 13,
      "outputs": [
        {
          "output_type": "execute_result",
          "data": {
            "text/plain": [
              "array([[4823,    2,   13,    6,    5,   13,   21,    3,   17,    8],\n",
              "       [   1, 5476,   27,    8,    5,    1,    5,    5,    7,    9],\n",
              "       [  17,    8, 4760,   17,   28,    2,   14,   25,   20,    5],\n",
              "       [   6,   11,   65, 4751,    5,   60,    3,   15,   49,   21],\n",
              "       [   5,   14,   15,    2, 4612,    3,   20,    9,    7,   81],\n",
              "       [  16,    7,   10,   39,    8, 4228,   29,    7,   22,   18],\n",
              "       [  20,   11,   20,    4,   16,   19, 4671,    6,   13,    0],\n",
              "       [   1,   21,   52,   18,   37,    5,    0, 4877,   10,   51],\n",
              "       [  18,   31,   23,   32,   14,   29,   19,    1, 4564,   26],\n",
              "       [  20,   13,    1,   27,   56,   26,    3,   44,   20, 4692]])"
            ]
          },
          "metadata": {},
          "execution_count": 13
        }
      ]
    },
    {
      "cell_type": "code",
      "source": [
        "from sklearn.metrics import classification_report\n",
        "\n",
        "print(classification_report(y_test, predictions_NN))"
      ],
      "metadata": {
        "colab": {
          "base_uri": "https://localhost:8080/"
        },
        "id": "zWPYwiIbkkN0",
        "outputId": "2f2cca2f-acc9-417c-c62c-9b441f0ce895"
      },
      "execution_count": 17,
      "outputs": [
        {
          "output_type": "stream",
          "name": "stderr",
          "text": [
            "/usr/local/lib/python3.7/dist-packages/sklearn/metrics/_classification.py:1318: UndefinedMetricWarning: Precision and F-score are ill-defined and being set to 0.0 in labels with no predicted samples. Use `zero_division` parameter to control this behavior.\n",
            "  _warn_prf(average, modifier, msg_start, len(result))\n",
            "/usr/local/lib/python3.7/dist-packages/sklearn/metrics/_classification.py:1318: UndefinedMetricWarning: Precision and F-score are ill-defined and being set to 0.0 in labels with no predicted samples. Use `zero_division` parameter to control this behavior.\n",
            "  _warn_prf(average, modifier, msg_start, len(result))\n"
          ]
        },
        {
          "output_type": "stream",
          "name": "stdout",
          "text": [
            "              precision    recall  f1-score   support\n",
            "\n",
            "           0       0.30      0.02      0.04      4911\n",
            "           1       0.44      0.85      0.58      5544\n",
            "           2       0.00      0.00      0.00      4896\n",
            "           3       0.28      0.60      0.38      4986\n",
            "           4       0.48      0.44      0.46      4768\n",
            "           5       0.00      0.00      0.00      4384\n",
            "           6       0.40      0.86      0.54      4780\n",
            "           7       0.38      0.94      0.54      5072\n",
            "           8       0.00      0.00      0.00      4757\n",
            "           9       0.00      0.00      0.00      4902\n",
            "\n",
            "    accuracy                           0.38     49000\n",
            "   macro avg       0.23      0.37      0.26     49000\n",
            "weighted avg       0.23      0.38      0.26     49000\n",
            "\n"
          ]
        },
        {
          "output_type": "stream",
          "name": "stderr",
          "text": [
            "/usr/local/lib/python3.7/dist-packages/sklearn/metrics/_classification.py:1318: UndefinedMetricWarning: Precision and F-score are ill-defined and being set to 0.0 in labels with no predicted samples. Use `zero_division` parameter to control this behavior.\n",
            "  _warn_prf(average, modifier, msg_start, len(result))\n"
          ]
        }
      ]
    },
    {
      "cell_type": "code",
      "source": [
        "print(classification_report(y_test, predictions_NN1))"
      ],
      "metadata": {
        "colab": {
          "base_uri": "https://localhost:8080/"
        },
        "id": "EDg5Zh_skwi4",
        "outputId": "bc35e9b3-b149-4c6e-cdbc-dc53269190a5"
      },
      "execution_count": 15,
      "outputs": [
        {
          "output_type": "stream",
          "name": "stdout",
          "text": [
            "              precision    recall  f1-score   support\n",
            "\n",
            "           0       0.98      0.98      0.98      4911\n",
            "           1       0.98      0.99      0.98      5544\n",
            "           2       0.95      0.96      0.96      4896\n",
            "           3       0.96      0.94      0.95      4986\n",
            "           4       0.95      0.97      0.96      4768\n",
            "           5       0.95      0.95      0.95      4384\n",
            "           6       0.97      0.98      0.97      4780\n",
            "           7       0.97      0.97      0.97      5072\n",
            "           8       0.96      0.95      0.95      4757\n",
            "           9       0.96      0.94      0.95      4902\n",
            "\n",
            "    accuracy                           0.96     49000\n",
            "   macro avg       0.96      0.96      0.96     49000\n",
            "weighted avg       0.96      0.96      0.96     49000\n",
            "\n"
          ]
        }
      ]
    },
    {
      "cell_type": "code",
      "source": [
        "print(classification_report(y_test, predictions_NN2))"
      ],
      "metadata": {
        "colab": {
          "base_uri": "https://localhost:8080/"
        },
        "id": "I3cd3Axdk5xK",
        "outputId": "d7975b85-1cbf-4130-cdee-5462707585e1"
      },
      "execution_count": 16,
      "outputs": [
        {
          "output_type": "stream",
          "name": "stdout",
          "text": [
            "              precision    recall  f1-score   support\n",
            "\n",
            "           0       0.98      0.98      0.98      4911\n",
            "           1       0.98      0.99      0.98      5544\n",
            "           2       0.95      0.97      0.96      4896\n",
            "           3       0.97      0.95      0.96      4986\n",
            "           4       0.96      0.97      0.97      4768\n",
            "           5       0.96      0.96      0.96      4384\n",
            "           6       0.98      0.98      0.98      4780\n",
            "           7       0.98      0.96      0.97      5072\n",
            "           8       0.97      0.96      0.96      4757\n",
            "           9       0.96      0.96      0.96      4902\n",
            "\n",
            "    accuracy                           0.97     49000\n",
            "   macro avg       0.97      0.97      0.97     49000\n",
            "weighted avg       0.97      0.97      0.97     49000\n",
            "\n"
          ]
        }
      ]
    },
    {
      "cell_type": "markdown",
      "source": [
        "## AI9022 Training Neural Networks\n",
        "\n",
        "There are two types of parameters in any deep learning model.\n",
        "\n",
        "* Hyperparameters\n",
        "* Learnable \n",
        "\n",
        "Hyperparameters are the parameters that we humans can adjust. Examples of Hyperparameters can be the learning rate, number of hidden layers or number of nodes."
      ],
      "metadata": {
        "id": "eccSHDmlls9p"
      }
    },
    {
      "cell_type": "markdown",
      "source": [
        "## AI9032 Build an Artificial Neural Network\n",
        "\n",
        "#### Classifying Dates\n",
        "\n",
        "In tihs project, we will build a neural network to classify dates. For this we will use the \"Date Fruit Dataset\" available on Kaggle. This dataset includes samples of dates that can be classified into 7 classes according to their types."
      ],
      "metadata": {
        "id": "KeFWdRRQw5_F"
      }
    },
    {
      "cell_type": "markdown",
      "source": [
        "### Importing the required libraries\n",
        "\n",
        "We'll start with importing required libraries.\n",
        "Use the keywords \"import\" and \"from\"."
      ],
      "metadata": {
        "id": "D3SUb7zqxi0V"
      }
    },
    {
      "cell_type": "code",
      "source": [
        "# Import Pandas and Matplotlib\n",
        "\n",
        "import pandas as pd\n",
        "import matplotlib.pyplot as plt\n",
        "\n",
        "# Import Label Encoder and train_test_split\n",
        "from sklearn.preprocessing import LabelEncoder, minmax_scale\n",
        "from sklearn.model_selection import train_test_split"
      ],
      "metadata": {
        "id": "jMsaC7jNlxYO"
      },
      "execution_count": 10,
      "outputs": []
    },
    {
      "cell_type": "markdown",
      "source": [
        "### Dataset\n",
        "\n",
        "Let's load the .xlsx file.\n",
        "\n",
        "Use the read_excel() function of the Pandas library."
      ],
      "metadata": {
        "id": "AUcp8xEQyOCu"
      }
    },
    {
      "cell_type": "code",
      "source": [
        "# Read the \"date_fruit.xlsx\" file\n",
        "\n",
        "data = pd.read_excel('/content/date_fruit.xlsx')"
      ],
      "metadata": {
        "id": "nJJFGNenyM5E"
      },
      "execution_count": 13,
      "outputs": []
    },
    {
      "cell_type": "markdown",
      "source": [
        "Next, we take a look at the dataset.\n",
        "\n",
        "Use the data.head() function.\n",
        "\n",
        "Use .shape attribute and .uniqe() methods.\n",
        "\n"
      ],
      "metadata": {
        "id": "kGDApW_9yjzy"
      }
    },
    {
      "cell_type": "code",
      "source": [
        "# Use the head() function to display the first 5 rows of the data.\n",
        "\n",
        "data.head()"
      ],
      "metadata": {
        "colab": {
          "base_uri": "https://localhost:8080/",
          "height": 300
        },
        "id": "bhQPZVMZyvLt",
        "outputId": "b308beca-4b37-46b1-8f77-f78fd136dd97"
      },
      "execution_count": 14,
      "outputs": [
        {
          "output_type": "execute_result",
          "data": {
            "text/plain": [
              "     AREA  PERIMETER  MAJOR_AXIS  MINOR_AXIS  ECCENTRICITY   EQDIASQ  \\\n",
              "0  422163   2378.908    837.8484    645.6693        0.6373  733.1539   \n",
              "1  338136   2085.144    723.8198    595.2073        0.5690  656.1464   \n",
              "2  526843   2647.394    940.7379    715.3638        0.6494  819.0222   \n",
              "3  416063   2351.210    827.9804    645.2988        0.6266  727.8378   \n",
              "4  347562   2160.354    763.9877    582.8359        0.6465  665.2291   \n",
              "\n",
              "   SOLIDITY  CONVEX_AREA  EXTENT  ASPECT_RATIO  ...  KurtosisRR  KurtosisRG  \\\n",
              "0    0.9947       424428  0.7831        1.2976  ...      3.2370      2.9574   \n",
              "1    0.9974       339014  0.7795        1.2161  ...      2.6228      2.6350   \n",
              "2    0.9962       528876  0.7657        1.3150  ...      3.7516      3.8611   \n",
              "3    0.9948       418255  0.7759        1.2831  ...      5.0401      8.6136   \n",
              "4    0.9908       350797  0.7569        1.3108  ...      2.7016      2.9761   \n",
              "\n",
              "   KurtosisRB    EntropyRR    EntropyRG    EntropyRB  ALLdaub4RR  ALLdaub4RG  \\\n",
              "0      4.2287 -59191263232 -50714214400 -39922372608     58.7255     54.9554   \n",
              "1      3.1704 -34233065472 -37462601728 -31477794816     50.0259     52.8168   \n",
              "2      4.7192 -93948354560 -74738221056 -60311207936     65.4772     59.2860   \n",
              "3      8.2618 -32074307584 -32060925952 -29575010304     43.3900     44.1259   \n",
              "4      4.4146 -39980974080 -35980042240 -25593278464     52.7743     50.9080   \n",
              "\n",
              "   ALLdaub4RB  Class  \n",
              "0     47.8400  BERHI  \n",
              "1     47.8315  BERHI  \n",
              "2     51.9378  BERHI  \n",
              "3     41.1882  BERHI  \n",
              "4     42.6666  BERHI  \n",
              "\n",
              "[5 rows x 35 columns]"
            ],
            "text/html": [
              "\n",
              "  <div id=\"df-863c912e-4ab4-423b-9dc2-add80f2c228a\">\n",
              "    <div class=\"colab-df-container\">\n",
              "      <div>\n",
              "<style scoped>\n",
              "    .dataframe tbody tr th:only-of-type {\n",
              "        vertical-align: middle;\n",
              "    }\n",
              "\n",
              "    .dataframe tbody tr th {\n",
              "        vertical-align: top;\n",
              "    }\n",
              "\n",
              "    .dataframe thead th {\n",
              "        text-align: right;\n",
              "    }\n",
              "</style>\n",
              "<table border=\"1\" class=\"dataframe\">\n",
              "  <thead>\n",
              "    <tr style=\"text-align: right;\">\n",
              "      <th></th>\n",
              "      <th>AREA</th>\n",
              "      <th>PERIMETER</th>\n",
              "      <th>MAJOR_AXIS</th>\n",
              "      <th>MINOR_AXIS</th>\n",
              "      <th>ECCENTRICITY</th>\n",
              "      <th>EQDIASQ</th>\n",
              "      <th>SOLIDITY</th>\n",
              "      <th>CONVEX_AREA</th>\n",
              "      <th>EXTENT</th>\n",
              "      <th>ASPECT_RATIO</th>\n",
              "      <th>...</th>\n",
              "      <th>KurtosisRR</th>\n",
              "      <th>KurtosisRG</th>\n",
              "      <th>KurtosisRB</th>\n",
              "      <th>EntropyRR</th>\n",
              "      <th>EntropyRG</th>\n",
              "      <th>EntropyRB</th>\n",
              "      <th>ALLdaub4RR</th>\n",
              "      <th>ALLdaub4RG</th>\n",
              "      <th>ALLdaub4RB</th>\n",
              "      <th>Class</th>\n",
              "    </tr>\n",
              "  </thead>\n",
              "  <tbody>\n",
              "    <tr>\n",
              "      <th>0</th>\n",
              "      <td>422163</td>\n",
              "      <td>2378.908</td>\n",
              "      <td>837.8484</td>\n",
              "      <td>645.6693</td>\n",
              "      <td>0.6373</td>\n",
              "      <td>733.1539</td>\n",
              "      <td>0.9947</td>\n",
              "      <td>424428</td>\n",
              "      <td>0.7831</td>\n",
              "      <td>1.2976</td>\n",
              "      <td>...</td>\n",
              "      <td>3.2370</td>\n",
              "      <td>2.9574</td>\n",
              "      <td>4.2287</td>\n",
              "      <td>-59191263232</td>\n",
              "      <td>-50714214400</td>\n",
              "      <td>-39922372608</td>\n",
              "      <td>58.7255</td>\n",
              "      <td>54.9554</td>\n",
              "      <td>47.8400</td>\n",
              "      <td>BERHI</td>\n",
              "    </tr>\n",
              "    <tr>\n",
              "      <th>1</th>\n",
              "      <td>338136</td>\n",
              "      <td>2085.144</td>\n",
              "      <td>723.8198</td>\n",
              "      <td>595.2073</td>\n",
              "      <td>0.5690</td>\n",
              "      <td>656.1464</td>\n",
              "      <td>0.9974</td>\n",
              "      <td>339014</td>\n",
              "      <td>0.7795</td>\n",
              "      <td>1.2161</td>\n",
              "      <td>...</td>\n",
              "      <td>2.6228</td>\n",
              "      <td>2.6350</td>\n",
              "      <td>3.1704</td>\n",
              "      <td>-34233065472</td>\n",
              "      <td>-37462601728</td>\n",
              "      <td>-31477794816</td>\n",
              "      <td>50.0259</td>\n",
              "      <td>52.8168</td>\n",
              "      <td>47.8315</td>\n",
              "      <td>BERHI</td>\n",
              "    </tr>\n",
              "    <tr>\n",
              "      <th>2</th>\n",
              "      <td>526843</td>\n",
              "      <td>2647.394</td>\n",
              "      <td>940.7379</td>\n",
              "      <td>715.3638</td>\n",
              "      <td>0.6494</td>\n",
              "      <td>819.0222</td>\n",
              "      <td>0.9962</td>\n",
              "      <td>528876</td>\n",
              "      <td>0.7657</td>\n",
              "      <td>1.3150</td>\n",
              "      <td>...</td>\n",
              "      <td>3.7516</td>\n",
              "      <td>3.8611</td>\n",
              "      <td>4.7192</td>\n",
              "      <td>-93948354560</td>\n",
              "      <td>-74738221056</td>\n",
              "      <td>-60311207936</td>\n",
              "      <td>65.4772</td>\n",
              "      <td>59.2860</td>\n",
              "      <td>51.9378</td>\n",
              "      <td>BERHI</td>\n",
              "    </tr>\n",
              "    <tr>\n",
              "      <th>3</th>\n",
              "      <td>416063</td>\n",
              "      <td>2351.210</td>\n",
              "      <td>827.9804</td>\n",
              "      <td>645.2988</td>\n",
              "      <td>0.6266</td>\n",
              "      <td>727.8378</td>\n",
              "      <td>0.9948</td>\n",
              "      <td>418255</td>\n",
              "      <td>0.7759</td>\n",
              "      <td>1.2831</td>\n",
              "      <td>...</td>\n",
              "      <td>5.0401</td>\n",
              "      <td>8.6136</td>\n",
              "      <td>8.2618</td>\n",
              "      <td>-32074307584</td>\n",
              "      <td>-32060925952</td>\n",
              "      <td>-29575010304</td>\n",
              "      <td>43.3900</td>\n",
              "      <td>44.1259</td>\n",
              "      <td>41.1882</td>\n",
              "      <td>BERHI</td>\n",
              "    </tr>\n",
              "    <tr>\n",
              "      <th>4</th>\n",
              "      <td>347562</td>\n",
              "      <td>2160.354</td>\n",
              "      <td>763.9877</td>\n",
              "      <td>582.8359</td>\n",
              "      <td>0.6465</td>\n",
              "      <td>665.2291</td>\n",
              "      <td>0.9908</td>\n",
              "      <td>350797</td>\n",
              "      <td>0.7569</td>\n",
              "      <td>1.3108</td>\n",
              "      <td>...</td>\n",
              "      <td>2.7016</td>\n",
              "      <td>2.9761</td>\n",
              "      <td>4.4146</td>\n",
              "      <td>-39980974080</td>\n",
              "      <td>-35980042240</td>\n",
              "      <td>-25593278464</td>\n",
              "      <td>52.7743</td>\n",
              "      <td>50.9080</td>\n",
              "      <td>42.6666</td>\n",
              "      <td>BERHI</td>\n",
              "    </tr>\n",
              "  </tbody>\n",
              "</table>\n",
              "<p>5 rows × 35 columns</p>\n",
              "</div>\n",
              "      <button class=\"colab-df-convert\" onclick=\"convertToInteractive('df-863c912e-4ab4-423b-9dc2-add80f2c228a')\"\n",
              "              title=\"Convert this dataframe to an interactive table.\"\n",
              "              style=\"display:none;\">\n",
              "        \n",
              "  <svg xmlns=\"http://www.w3.org/2000/svg\" height=\"24px\"viewBox=\"0 0 24 24\"\n",
              "       width=\"24px\">\n",
              "    <path d=\"M0 0h24v24H0V0z\" fill=\"none\"/>\n",
              "    <path d=\"M18.56 5.44l.94 2.06.94-2.06 2.06-.94-2.06-.94-.94-2.06-.94 2.06-2.06.94zm-11 1L8.5 8.5l.94-2.06 2.06-.94-2.06-.94L8.5 2.5l-.94 2.06-2.06.94zm10 10l.94 2.06.94-2.06 2.06-.94-2.06-.94-.94-2.06-.94 2.06-2.06.94z\"/><path d=\"M17.41 7.96l-1.37-1.37c-.4-.4-.92-.59-1.43-.59-.52 0-1.04.2-1.43.59L10.3 9.45l-7.72 7.72c-.78.78-.78 2.05 0 2.83L4 21.41c.39.39.9.59 1.41.59.51 0 1.02-.2 1.41-.59l7.78-7.78 2.81-2.81c.8-.78.8-2.07 0-2.86zM5.41 20L4 18.59l7.72-7.72 1.47 1.35L5.41 20z\"/>\n",
              "  </svg>\n",
              "      </button>\n",
              "      \n",
              "  <style>\n",
              "    .colab-df-container {\n",
              "      display:flex;\n",
              "      flex-wrap:wrap;\n",
              "      gap: 12px;\n",
              "    }\n",
              "\n",
              "    .colab-df-convert {\n",
              "      background-color: #E8F0FE;\n",
              "      border: none;\n",
              "      border-radius: 50%;\n",
              "      cursor: pointer;\n",
              "      display: none;\n",
              "      fill: #1967D2;\n",
              "      height: 32px;\n",
              "      padding: 0 0 0 0;\n",
              "      width: 32px;\n",
              "    }\n",
              "\n",
              "    .colab-df-convert:hover {\n",
              "      background-color: #E2EBFA;\n",
              "      box-shadow: 0px 1px 2px rgba(60, 64, 67, 0.3), 0px 1px 3px 1px rgba(60, 64, 67, 0.15);\n",
              "      fill: #174EA6;\n",
              "    }\n",
              "\n",
              "    [theme=dark] .colab-df-convert {\n",
              "      background-color: #3B4455;\n",
              "      fill: #D2E3FC;\n",
              "    }\n",
              "\n",
              "    [theme=dark] .colab-df-convert:hover {\n",
              "      background-color: #434B5C;\n",
              "      box-shadow: 0px 1px 3px 1px rgba(0, 0, 0, 0.15);\n",
              "      filter: drop-shadow(0px 1px 2px rgba(0, 0, 0, 0.3));\n",
              "      fill: #FFFFFF;\n",
              "    }\n",
              "  </style>\n",
              "\n",
              "      <script>\n",
              "        const buttonEl =\n",
              "          document.querySelector('#df-863c912e-4ab4-423b-9dc2-add80f2c228a button.colab-df-convert');\n",
              "        buttonEl.style.display =\n",
              "          google.colab.kernel.accessAllowed ? 'block' : 'none';\n",
              "\n",
              "        async function convertToInteractive(key) {\n",
              "          const element = document.querySelector('#df-863c912e-4ab4-423b-9dc2-add80f2c228a');\n",
              "          const dataTable =\n",
              "            await google.colab.kernel.invokeFunction('convertToInteractive',\n",
              "                                                     [key], {});\n",
              "          if (!dataTable) return;\n",
              "\n",
              "          const docLinkHtml = 'Like what you see? Visit the ' +\n",
              "            '<a target=\"_blank\" href=https://colab.research.google.com/notebooks/data_table.ipynb>data table notebook</a>'\n",
              "            + ' to learn more about interactive tables.';\n",
              "          element.innerHTML = '';\n",
              "          dataTable['output_type'] = 'display_data';\n",
              "          await google.colab.output.renderOutput(dataTable, element);\n",
              "          const docLink = document.createElement('div');\n",
              "          docLink.innerHTML = docLinkHtml;\n",
              "          element.appendChild(docLink);\n",
              "        }\n",
              "      </script>\n",
              "    </div>\n",
              "  </div>\n",
              "  "
            ]
          },
          "metadata": {},
          "execution_count": 14
        }
      ]
    },
    {
      "cell_type": "code",
      "source": [
        "# Print the shape pof data and classes\n",
        "\n",
        "print(data.shape)\n",
        "\n",
        "print(data['Class'].unique())"
      ],
      "metadata": {
        "colab": {
          "base_uri": "https://localhost:8080/"
        },
        "id": "OlK0NeZ-y3Ie",
        "outputId": "87c68e93-bd17-4745-c3af-3d7cd03ba70c"
      },
      "execution_count": 15,
      "outputs": [
        {
          "output_type": "stream",
          "name": "stdout",
          "text": [
            "(898, 35)\n",
            "['BERHI' 'DEGLET' 'DOKOL' 'IRAQI' 'ROTANA' 'SAFAVI' 'SOGAY']\n"
          ]
        }
      ]
    },
    {
      "cell_type": "markdown",
      "source": [
        "### Preprocessing\n",
        "\n",
        "Now that we have a better understanding of our data, let's split the dataset into features and labels.\n",
        "\n",
        "Create X and y datasets using .drop() and .loc() methods"
      ],
      "metadata": {
        "id": "cm_GGJgrzEGn"
      }
    },
    {
      "cell_type": "code",
      "source": [
        "# Create the features dataset\n",
        "X = data.drop('Class', axis = 1)\n",
        "\n",
        "# Create the labels dataset\n",
        "y = data.loc[:,'Class']"
      ],
      "metadata": {
        "id": "lMl-9Or7zBTM"
      },
      "execution_count": 16,
      "outputs": []
    },
    {
      "cell_type": "markdown",
      "source": [
        "### Feature Scaling\n",
        "\n",
        "Having features in different units or ranges can be problematic in deep learning. We need to scale all of the values between the 0 and 1 range.\n",
        "\n",
        "Use the minmax_scale() function of the sklearn library."
      ],
      "metadata": {
        "id": "uOvU9kNozlRV"
      }
    },
    {
      "cell_type": "code",
      "source": [
        "# Normalize the features dataset and assign it to a variable.\n",
        "X_scaled = minmax_scale(X)\n",
        "\n",
        "# Create a DataFrame using the new variable\n",
        "\n",
        "X = pd.DataFrame(X_scaled)"
      ],
      "metadata": {
        "id": "sbZIvZtrzkI_"
      },
      "execution_count": 17,
      "outputs": []
    },
    {
      "cell_type": "markdown",
      "source": [
        "Then, we print the X data again so we can see the difference.\n",
        "\n",
        "\n",
        "Use the .head() method"
      ],
      "metadata": {
        "id": "zB7BNdHy0EgK"
      }
    },
    {
      "cell_type": "code",
      "source": [
        "# Print the newly created DataFrame\n",
        "\n",
        "X.head()"
      ],
      "metadata": {
        "colab": {
          "base_uri": "https://localhost:8080/",
          "height": 300
        },
        "id": "1yE9B7jg0LvC",
        "outputId": "58e3fbae-1e7c-4f99-9e21-2871e7049b76"
      },
      "execution_count": 18,
      "outputs": [
        {
          "output_type": "execute_result",
          "data": {
            "text/plain": [
              "         0         1         2         3         4         5         6   \\\n",
              "0  0.772274  0.772079  0.565604  0.841941  0.446429  0.871512  0.983209   \n",
              "1  0.617835  0.617480  0.436904  0.775906  0.342186  0.773229  1.000000   \n",
              "2  0.964674  0.913374  0.681733  0.933143  0.464896  0.981104  0.992537   \n",
              "3  0.761063  0.757502  0.554467  0.841456  0.430098  0.864727  0.983831   \n",
              "4  0.635159  0.657060  0.482240  0.759716  0.460470  0.784821  0.958955   \n",
              "\n",
              "         7         8         9   ...        24        25        26        27  \\\n",
              "0  0.767108  0.787438  0.000435  ...  0.395739  0.062495  0.053715  0.080752   \n",
              "1  0.611906  0.776970  0.000282  ...  0.350002  0.037387  0.040885  0.046033   \n",
              "2  0.956896  0.736842  0.000467  ...  0.472509  0.083531  0.089677  0.096843   \n",
              "3  0.755891  0.766502  0.000408  ...  0.687121  0.136202  0.278800  0.213061   \n",
              "4  0.633316  0.711253  0.000459  ...  0.464794  0.040608  0.054459  0.086850   \n",
              "\n",
              "         28        29        30        31        32        33  \n",
              "0  0.458253  0.455197  0.546327  0.673513  0.550537  0.494665  \n",
              "1  0.687312  0.599151  0.643352  0.538923  0.516341  0.494501  \n",
              "2  0.139263  0.194220  0.312066  0.777967  0.619782  0.573507  \n",
              "3  0.707125  0.657830  0.665214  0.436260  0.377376  0.366683  \n",
              "4  0.634560  0.615256  0.710963  0.581443  0.485820  0.395128  \n",
              "\n",
              "[5 rows x 34 columns]"
            ],
            "text/html": [
              "\n",
              "  <div id=\"df-ff62b978-9f8b-4d91-924f-895b7ec20282\">\n",
              "    <div class=\"colab-df-container\">\n",
              "      <div>\n",
              "<style scoped>\n",
              "    .dataframe tbody tr th:only-of-type {\n",
              "        vertical-align: middle;\n",
              "    }\n",
              "\n",
              "    .dataframe tbody tr th {\n",
              "        vertical-align: top;\n",
              "    }\n",
              "\n",
              "    .dataframe thead th {\n",
              "        text-align: right;\n",
              "    }\n",
              "</style>\n",
              "<table border=\"1\" class=\"dataframe\">\n",
              "  <thead>\n",
              "    <tr style=\"text-align: right;\">\n",
              "      <th></th>\n",
              "      <th>0</th>\n",
              "      <th>1</th>\n",
              "      <th>2</th>\n",
              "      <th>3</th>\n",
              "      <th>4</th>\n",
              "      <th>5</th>\n",
              "      <th>6</th>\n",
              "      <th>7</th>\n",
              "      <th>8</th>\n",
              "      <th>9</th>\n",
              "      <th>...</th>\n",
              "      <th>24</th>\n",
              "      <th>25</th>\n",
              "      <th>26</th>\n",
              "      <th>27</th>\n",
              "      <th>28</th>\n",
              "      <th>29</th>\n",
              "      <th>30</th>\n",
              "      <th>31</th>\n",
              "      <th>32</th>\n",
              "      <th>33</th>\n",
              "    </tr>\n",
              "  </thead>\n",
              "  <tbody>\n",
              "    <tr>\n",
              "      <th>0</th>\n",
              "      <td>0.772274</td>\n",
              "      <td>0.772079</td>\n",
              "      <td>0.565604</td>\n",
              "      <td>0.841941</td>\n",
              "      <td>0.446429</td>\n",
              "      <td>0.871512</td>\n",
              "      <td>0.983209</td>\n",
              "      <td>0.767108</td>\n",
              "      <td>0.787438</td>\n",
              "      <td>0.000435</td>\n",
              "      <td>...</td>\n",
              "      <td>0.395739</td>\n",
              "      <td>0.062495</td>\n",
              "      <td>0.053715</td>\n",
              "      <td>0.080752</td>\n",
              "      <td>0.458253</td>\n",
              "      <td>0.455197</td>\n",
              "      <td>0.546327</td>\n",
              "      <td>0.673513</td>\n",
              "      <td>0.550537</td>\n",
              "      <td>0.494665</td>\n",
              "    </tr>\n",
              "    <tr>\n",
              "      <th>1</th>\n",
              "      <td>0.617835</td>\n",
              "      <td>0.617480</td>\n",
              "      <td>0.436904</td>\n",
              "      <td>0.775906</td>\n",
              "      <td>0.342186</td>\n",
              "      <td>0.773229</td>\n",
              "      <td>1.000000</td>\n",
              "      <td>0.611906</td>\n",
              "      <td>0.776970</td>\n",
              "      <td>0.000282</td>\n",
              "      <td>...</td>\n",
              "      <td>0.350002</td>\n",
              "      <td>0.037387</td>\n",
              "      <td>0.040885</td>\n",
              "      <td>0.046033</td>\n",
              "      <td>0.687312</td>\n",
              "      <td>0.599151</td>\n",
              "      <td>0.643352</td>\n",
              "      <td>0.538923</td>\n",
              "      <td>0.516341</td>\n",
              "      <td>0.494501</td>\n",
              "    </tr>\n",
              "    <tr>\n",
              "      <th>2</th>\n",
              "      <td>0.964674</td>\n",
              "      <td>0.913374</td>\n",
              "      <td>0.681733</td>\n",
              "      <td>0.933143</td>\n",
              "      <td>0.464896</td>\n",
              "      <td>0.981104</td>\n",
              "      <td>0.992537</td>\n",
              "      <td>0.956896</td>\n",
              "      <td>0.736842</td>\n",
              "      <td>0.000467</td>\n",
              "      <td>...</td>\n",
              "      <td>0.472509</td>\n",
              "      <td>0.083531</td>\n",
              "      <td>0.089677</td>\n",
              "      <td>0.096843</td>\n",
              "      <td>0.139263</td>\n",
              "      <td>0.194220</td>\n",
              "      <td>0.312066</td>\n",
              "      <td>0.777967</td>\n",
              "      <td>0.619782</td>\n",
              "      <td>0.573507</td>\n",
              "    </tr>\n",
              "    <tr>\n",
              "      <th>3</th>\n",
              "      <td>0.761063</td>\n",
              "      <td>0.757502</td>\n",
              "      <td>0.554467</td>\n",
              "      <td>0.841456</td>\n",
              "      <td>0.430098</td>\n",
              "      <td>0.864727</td>\n",
              "      <td>0.983831</td>\n",
              "      <td>0.755891</td>\n",
              "      <td>0.766502</td>\n",
              "      <td>0.000408</td>\n",
              "      <td>...</td>\n",
              "      <td>0.687121</td>\n",
              "      <td>0.136202</td>\n",
              "      <td>0.278800</td>\n",
              "      <td>0.213061</td>\n",
              "      <td>0.707125</td>\n",
              "      <td>0.657830</td>\n",
              "      <td>0.665214</td>\n",
              "      <td>0.436260</td>\n",
              "      <td>0.377376</td>\n",
              "      <td>0.366683</td>\n",
              "    </tr>\n",
              "    <tr>\n",
              "      <th>4</th>\n",
              "      <td>0.635159</td>\n",
              "      <td>0.657060</td>\n",
              "      <td>0.482240</td>\n",
              "      <td>0.759716</td>\n",
              "      <td>0.460470</td>\n",
              "      <td>0.784821</td>\n",
              "      <td>0.958955</td>\n",
              "      <td>0.633316</td>\n",
              "      <td>0.711253</td>\n",
              "      <td>0.000459</td>\n",
              "      <td>...</td>\n",
              "      <td>0.464794</td>\n",
              "      <td>0.040608</td>\n",
              "      <td>0.054459</td>\n",
              "      <td>0.086850</td>\n",
              "      <td>0.634560</td>\n",
              "      <td>0.615256</td>\n",
              "      <td>0.710963</td>\n",
              "      <td>0.581443</td>\n",
              "      <td>0.485820</td>\n",
              "      <td>0.395128</td>\n",
              "    </tr>\n",
              "  </tbody>\n",
              "</table>\n",
              "<p>5 rows × 34 columns</p>\n",
              "</div>\n",
              "      <button class=\"colab-df-convert\" onclick=\"convertToInteractive('df-ff62b978-9f8b-4d91-924f-895b7ec20282')\"\n",
              "              title=\"Convert this dataframe to an interactive table.\"\n",
              "              style=\"display:none;\">\n",
              "        \n",
              "  <svg xmlns=\"http://www.w3.org/2000/svg\" height=\"24px\"viewBox=\"0 0 24 24\"\n",
              "       width=\"24px\">\n",
              "    <path d=\"M0 0h24v24H0V0z\" fill=\"none\"/>\n",
              "    <path d=\"M18.56 5.44l.94 2.06.94-2.06 2.06-.94-2.06-.94-.94-2.06-.94 2.06-2.06.94zm-11 1L8.5 8.5l.94-2.06 2.06-.94-2.06-.94L8.5 2.5l-.94 2.06-2.06.94zm10 10l.94 2.06.94-2.06 2.06-.94-2.06-.94-.94-2.06-.94 2.06-2.06.94z\"/><path d=\"M17.41 7.96l-1.37-1.37c-.4-.4-.92-.59-1.43-.59-.52 0-1.04.2-1.43.59L10.3 9.45l-7.72 7.72c-.78.78-.78 2.05 0 2.83L4 21.41c.39.39.9.59 1.41.59.51 0 1.02-.2 1.41-.59l7.78-7.78 2.81-2.81c.8-.78.8-2.07 0-2.86zM5.41 20L4 18.59l7.72-7.72 1.47 1.35L5.41 20z\"/>\n",
              "  </svg>\n",
              "      </button>\n",
              "      \n",
              "  <style>\n",
              "    .colab-df-container {\n",
              "      display:flex;\n",
              "      flex-wrap:wrap;\n",
              "      gap: 12px;\n",
              "    }\n",
              "\n",
              "    .colab-df-convert {\n",
              "      background-color: #E8F0FE;\n",
              "      border: none;\n",
              "      border-radius: 50%;\n",
              "      cursor: pointer;\n",
              "      display: none;\n",
              "      fill: #1967D2;\n",
              "      height: 32px;\n",
              "      padding: 0 0 0 0;\n",
              "      width: 32px;\n",
              "    }\n",
              "\n",
              "    .colab-df-convert:hover {\n",
              "      background-color: #E2EBFA;\n",
              "      box-shadow: 0px 1px 2px rgba(60, 64, 67, 0.3), 0px 1px 3px 1px rgba(60, 64, 67, 0.15);\n",
              "      fill: #174EA6;\n",
              "    }\n",
              "\n",
              "    [theme=dark] .colab-df-convert {\n",
              "      background-color: #3B4455;\n",
              "      fill: #D2E3FC;\n",
              "    }\n",
              "\n",
              "    [theme=dark] .colab-df-convert:hover {\n",
              "      background-color: #434B5C;\n",
              "      box-shadow: 0px 1px 3px 1px rgba(0, 0, 0, 0.15);\n",
              "      filter: drop-shadow(0px 1px 2px rgba(0, 0, 0, 0.3));\n",
              "      fill: #FFFFFF;\n",
              "    }\n",
              "  </style>\n",
              "\n",
              "      <script>\n",
              "        const buttonEl =\n",
              "          document.querySelector('#df-ff62b978-9f8b-4d91-924f-895b7ec20282 button.colab-df-convert');\n",
              "        buttonEl.style.display =\n",
              "          google.colab.kernel.accessAllowed ? 'block' : 'none';\n",
              "\n",
              "        async function convertToInteractive(key) {\n",
              "          const element = document.querySelector('#df-ff62b978-9f8b-4d91-924f-895b7ec20282');\n",
              "          const dataTable =\n",
              "            await google.colab.kernel.invokeFunction('convertToInteractive',\n",
              "                                                     [key], {});\n",
              "          if (!dataTable) return;\n",
              "\n",
              "          const docLinkHtml = 'Like what you see? Visit the ' +\n",
              "            '<a target=\"_blank\" href=https://colab.research.google.com/notebooks/data_table.ipynb>data table notebook</a>'\n",
              "            + ' to learn more about interactive tables.';\n",
              "          element.innerHTML = '';\n",
              "          dataTable['output_type'] = 'display_data';\n",
              "          await google.colab.output.renderOutput(dataTable, element);\n",
              "          const docLink = document.createElement('div');\n",
              "          docLink.innerHTML = docLinkHtml;\n",
              "          element.appendChild(docLink);\n",
              "        }\n",
              "      </script>\n",
              "    </div>\n",
              "  </div>\n",
              "  "
            ]
          },
          "metadata": {},
          "execution_count": 18
        }
      ]
    },
    {
      "cell_type": "markdown",
      "source": [
        "Our features are ready for training. Now it's time to prepare the labels.\n",
        "\n",
        "Print y to take a look at it."
      ],
      "metadata": {
        "id": "juq_SAT80Qpw"
      }
    },
    {
      "cell_type": "code",
      "source": [
        "# Print the y array\n",
        "\n",
        "y"
      ],
      "metadata": {
        "colab": {
          "base_uri": "https://localhost:8080/"
        },
        "id": "hEnBegdv0PzK",
        "outputId": "a3edf59e-8644-4236-fcc2-629c47c56a12"
      },
      "execution_count": 19,
      "outputs": [
        {
          "output_type": "execute_result",
          "data": {
            "text/plain": [
              "0      BERHI\n",
              "1      BERHI\n",
              "2      BERHI\n",
              "3      BERHI\n",
              "4      BERHI\n",
              "       ...  \n",
              "893    SOGAY\n",
              "894    SOGAY\n",
              "895    SOGAY\n",
              "896    SOGAY\n",
              "897    SOGAY\n",
              "Name: Class, Length: 898, dtype: object"
            ]
          },
          "metadata": {},
          "execution_count": 19
        }
      ]
    },
    {
      "cell_type": "markdown",
      "source": [
        "Artificial intelligence algorithms can't use any string data when training a model because mathematical operations can't be done on them.\n",
        "\n",
        "Use the LabelEncoder of the sklearn library to converting strings to integer. "
      ],
      "metadata": {
        "id": "0Ak2oZ8W06ZT"
      }
    },
    {
      "cell_type": "code",
      "source": [
        "# Create an LabelEncoder object.\n",
        "encoder = LabelEncoder()\n",
        "\n",
        "# Convert string classes to integers using fit_transform() method\n",
        "y = encoder.fit_transform(y)\n"
      ],
      "metadata": {
        "id": "TZnaxgwe04hC"
      },
      "execution_count": 20,
      "outputs": []
    },
    {
      "cell_type": "markdown",
      "source": [
        "Then, we print y to check the result."
      ],
      "metadata": {
        "id": "eYLWTRUR2SPB"
      }
    },
    {
      "cell_type": "code",
      "source": [
        "# Print the y array\n",
        "y"
      ],
      "metadata": {
        "colab": {
          "base_uri": "https://localhost:8080/"
        },
        "id": "6KfSd9DF2XOq",
        "outputId": "4a4a487f-a9ef-4895-f041-42ce2bedd69f"
      },
      "execution_count": 21,
      "outputs": [
        {
          "output_type": "execute_result",
          "data": {
            "text/plain": [
              "array([0, 0, 0, 0, 0, 0, 0, 0, 0, 0, 0, 0, 0, 0, 0, 0, 0, 0, 0, 0, 0, 0,\n",
              "       0, 0, 0, 0, 0, 0, 0, 0, 0, 0, 0, 0, 0, 0, 0, 0, 0, 0, 0, 0, 0, 0,\n",
              "       0, 0, 0, 0, 0, 0, 0, 0, 0, 0, 0, 0, 0, 0, 0, 0, 0, 0, 0, 0, 0, 1,\n",
              "       1, 1, 1, 1, 1, 1, 1, 1, 1, 1, 1, 1, 1, 1, 1, 1, 1, 1, 1, 1, 1, 1,\n",
              "       1, 1, 1, 1, 1, 1, 1, 1, 1, 1, 1, 1, 1, 1, 1, 1, 1, 1, 1, 1, 1, 1,\n",
              "       1, 1, 1, 1, 1, 1, 1, 1, 1, 1, 1, 1, 1, 1, 1, 1, 1, 1, 1, 1, 1, 1,\n",
              "       1, 1, 1, 1, 1, 1, 1, 1, 1, 1, 1, 1, 1, 1, 1, 1, 1, 1, 1, 1, 1, 1,\n",
              "       1, 1, 1, 1, 1, 1, 1, 1, 1, 2, 2, 2, 2, 2, 2, 2, 2, 2, 2, 2, 2, 2,\n",
              "       2, 2, 2, 2, 2, 2, 2, 2, 2, 2, 2, 2, 2, 2, 2, 2, 2, 2, 2, 2, 2, 2,\n",
              "       2, 2, 2, 2, 2, 2, 2, 2, 2, 2, 2, 2, 2, 2, 2, 2, 2, 2, 2, 2, 2, 2,\n",
              "       2, 2, 2, 2, 2, 2, 2, 2, 2, 2, 2, 2, 2, 2, 2, 2, 2, 2, 2, 2, 2, 2,\n",
              "       2, 2, 2, 2, 2, 2, 2, 2, 2, 2, 2, 2, 2, 2, 2, 2, 2, 2, 2, 2, 2, 2,\n",
              "       2, 2, 2, 2, 2, 2, 2, 2, 2, 2, 2, 2, 2, 2, 2, 2, 2, 2, 2, 2, 2, 2,\n",
              "       2, 2, 2, 2, 2, 2, 2, 2, 2, 2, 2, 2, 2, 2, 2, 2, 2, 2, 2, 2, 2, 2,\n",
              "       2, 2, 2, 2, 2, 2, 2, 2, 2, 2, 2, 2, 2, 2, 2, 2, 2, 2, 2, 2, 2, 2,\n",
              "       2, 2, 2, 2, 2, 2, 2, 2, 2, 2, 2, 2, 2, 2, 2, 2, 2, 2, 2, 2, 2, 2,\n",
              "       2, 2, 2, 2, 2, 2, 2, 2, 2, 2, 2, 2, 2, 2, 2, 3, 3, 3, 3, 3, 3, 3,\n",
              "       3, 3, 3, 3, 3, 3, 3, 3, 3, 3, 3, 3, 3, 3, 3, 3, 3, 3, 3, 3, 3, 3,\n",
              "       3, 3, 3, 3, 3, 3, 3, 3, 3, 3, 3, 3, 3, 3, 3, 3, 3, 3, 3, 3, 3, 3,\n",
              "       3, 3, 3, 3, 3, 3, 3, 3, 3, 3, 3, 3, 3, 3, 3, 3, 3, 3, 3, 3, 3, 4,\n",
              "       4, 4, 4, 4, 4, 4, 4, 4, 4, 4, 4, 4, 4, 4, 4, 4, 4, 4, 4, 4, 4, 4,\n",
              "       4, 4, 4, 4, 4, 4, 4, 4, 4, 4, 4, 4, 4, 4, 4, 4, 4, 4, 4, 4, 4, 4,\n",
              "       4, 4, 4, 4, 4, 4, 4, 4, 4, 4, 4, 4, 4, 4, 4, 4, 4, 4, 4, 4, 4, 4,\n",
              "       4, 4, 4, 4, 4, 4, 4, 4, 4, 4, 4, 4, 4, 4, 4, 4, 4, 4, 4, 4, 4, 4,\n",
              "       4, 4, 4, 4, 4, 4, 4, 4, 4, 4, 4, 4, 4, 4, 4, 4, 4, 4, 4, 4, 4, 4,\n",
              "       4, 4, 4, 4, 4, 4, 4, 4, 4, 4, 4, 4, 4, 4, 4, 4, 4, 4, 4, 4, 4, 4,\n",
              "       4, 4, 4, 4, 4, 4, 4, 4, 4, 4, 4, 4, 4, 4, 4, 4, 4, 4, 4, 4, 4, 4,\n",
              "       4, 4, 4, 4, 4, 4, 4, 4, 4, 4, 4, 5, 5, 5, 5, 5, 5, 5, 5, 5, 5, 5,\n",
              "       5, 5, 5, 5, 5, 5, 5, 5, 5, 5, 5, 5, 5, 5, 5, 5, 5, 5, 5, 5, 5, 5,\n",
              "       5, 5, 5, 5, 5, 5, 5, 5, 5, 5, 5, 5, 5, 5, 5, 5, 5, 5, 5, 5, 5, 5,\n",
              "       5, 5, 5, 5, 5, 5, 5, 5, 5, 5, 5, 5, 5, 5, 5, 5, 5, 5, 5, 5, 5, 5,\n",
              "       5, 5, 5, 5, 5, 5, 5, 5, 5, 5, 5, 5, 5, 5, 5, 5, 5, 5, 5, 5, 5, 5,\n",
              "       5, 5, 5, 5, 5, 5, 5, 5, 5, 5, 5, 5, 5, 5, 5, 5, 5, 5, 5, 5, 5, 5,\n",
              "       5, 5, 5, 5, 5, 5, 5, 5, 5, 5, 5, 5, 5, 5, 5, 5, 5, 5, 5, 5, 5, 5,\n",
              "       5, 5, 5, 5, 5, 5, 5, 5, 5, 5, 5, 5, 5, 5, 5, 5, 5, 5, 5, 5, 5, 5,\n",
              "       5, 5, 5, 5, 5, 5, 5, 5, 5, 5, 5, 5, 5, 5, 5, 5, 5, 5, 5, 5, 5, 5,\n",
              "       5, 5, 5, 5, 5, 5, 5, 5, 5, 5, 5, 5, 6, 6, 6, 6, 6, 6, 6, 6, 6, 6,\n",
              "       6, 6, 6, 6, 6, 6, 6, 6, 6, 6, 6, 6, 6, 6, 6, 6, 6, 6, 6, 6, 6, 6,\n",
              "       6, 6, 6, 6, 6, 6, 6, 6, 6, 6, 6, 6, 6, 6, 6, 6, 6, 6, 6, 6, 6, 6,\n",
              "       6, 6, 6, 6, 6, 6, 6, 6, 6, 6, 6, 6, 6, 6, 6, 6, 6, 6, 6, 6, 6, 6,\n",
              "       6, 6, 6, 6, 6, 6, 6, 6, 6, 6, 6, 6, 6, 6, 6, 6, 6, 6])"
            ]
          },
          "metadata": {},
          "execution_count": 21
        }
      ]
    },
    {
      "cell_type": "markdown",
      "source": [
        "### Splitting \n",
        "\n",
        "Great, that worked out as we wanted it to. We now split the dataset into training, validation and test datasets. In general, the ratio for splitting is 80% for training, 10% for validation and 10% for test sets.\n",
        "\n",
        "Use train_Test_split function of the sklearn library."
      ],
      "metadata": {
        "id": "R_UueMHO2abU"
      }
    },
    {
      "cell_type": "code",
      "source": [
        "# First, create X_train, y_train and X_temporary and y_temporary datasets from X and y.\n",
        "X_train, X_temporary, y_train, y_temporary = train_test_split(X, y, train_size = 0.8)\n",
        "\n",
        "# Using the X_temporary and y_temporary dataset we just created create validation and test datasets.\n",
        "X_val, X_test, y_val, y_test = train_test_split(X_temporary, y_temporary, train_size = 0.5)\n"
      ],
      "metadata": {
        "id": "kMlXEL1t2v0K"
      },
      "execution_count": 22,
      "outputs": []
    },
    {
      "cell_type": "markdown",
      "source": [
        "Let's print the total length of th initial dataset and lengths of the newly created datasets to check our results.\n",
        "\n",
        "Use the len() function to print the lengths."
      ],
      "metadata": {
        "id": "uJ1ltNKT3Pfx"
      }
    },
    {
      "cell_type": "code",
      "source": [
        "# Print the lengths of the X, X_train, X_val and X_test\n",
        "\n",
        "print(f'Length of the dataset: {len(X)}')\n",
        "print(f'Length of the training dataset: {len(X_train)}')\n",
        "print(f'Length of the validation dataset: {len(X_val)}')\n",
        "print(f'Length of the test dataset: {len(X_test)}')"
      ],
      "metadata": {
        "colab": {
          "base_uri": "https://localhost:8080/"
        },
        "id": "41Hp_w3F2-lP",
        "outputId": "04603c69-2dfd-434c-f0e8-0421ce5bcd7c"
      },
      "execution_count": 23,
      "outputs": [
        {
          "output_type": "stream",
          "name": "stdout",
          "text": [
            "Length of the dataset: 898\n",
            "Length of the training dataset: 718\n",
            "Length of the validation dataset: 90\n",
            "Length of the test dataset: 90\n"
          ]
        }
      ]
    },
    {
      "cell_type": "markdown",
      "source": [
        "### Constructing the Neural Network\n",
        "\n",
        "And with that our data is ready to be used in a model. We can move on to the exciting part: constructing a deep learning model. We'll use TensorFlow for this. To speed up the training time activate the GPU of Google Colab.\n",
        "\n",
        "Import TensorFlow"
      ],
      "metadata": {
        "id": "JVs3A5aY3QIL"
      }
    },
    {
      "cell_type": "code",
      "source": [
        "# Import TensorFlow\n",
        "import tensorflow as tf"
      ],
      "metadata": {
        "id": "_8fbO0H74gO0"
      },
      "execution_count": 24,
      "outputs": []
    },
    {
      "cell_type": "markdown",
      "source": [
        "Let's start by creating a model object using Sequential API of Keras.\n",
        "\n",
        "Use tf.keras.Sequential() to create a model object"
      ],
      "metadata": {
        "id": "R-Lr3Uso4nvq"
      }
    },
    {
      "cell_type": "code",
      "source": [
        "# Create a model object\n",
        "\n",
        "model = tf.keras.Sequential()"
      ],
      "metadata": {
        "id": "Vla1hQYO4mpf"
      },
      "execution_count": 25,
      "outputs": []
    },
    {
      "cell_type": "markdown",
      "source": [
        "### Input Layer\n",
        "\n",
        "First, we construct an input layer and assing it to a variable. The first argument is the number of nodes we want in that hidden layer. Only for the input layer we have to set input_shape argument which is number of columns , in this case 34. For the activation function we specify \"ReLU\".\n",
        "\n",
        "Use tf.keras.layers.Dense() to create the layer.\n",
        "\n",
        "Use .add() method of the object to add the layer."
      ],
      "metadata": {
        "id": "8n29r9JP40ob"
      }
    },
    {
      "cell_type": "code",
      "source": [
        "# Create an input layer \n",
        "input_layer = tf.keras.layers.Dense(4096, input_shape = (34,), activation = 'relu')\n",
        "\n",
        "# Add input layer to model object\n",
        "model.add(input_layer)"
      ],
      "metadata": {
        "id": "S_1RWCoM4zwZ"
      },
      "execution_count": 26,
      "outputs": []
    },
    {
      "cell_type": "markdown",
      "source": [
        "### Hidden Layer\n",
        "\n",
        "Next, we need to add the hidden layers. We'll add 4 hidden layers each with 4096 nodes. Again, we specify ReLU as the activation functions and 0.5 dropouts.\n",
        "\n",
        "Use tf.keras.layers.Dense() to create the layers.\n",
        "\n",
        "Use .add() method of the object to add the layer."
      ],
      "metadata": {
        "id": "KaW5FKZDA1mG"
      }
    },
    {
      "cell_type": "code",
      "source": [
        "# Add the first hidden layer with 4096 nodes and relu activation function\n",
        "model.add(tf.keras.layers.Dense(4096, activation = 'relu'))\n",
        "\n",
        "# Add 0.5 dropout\n",
        "model.add(tf.keras.layers.Dropout(0.5))\n",
        "\n",
        "# Add the second hidden layer with 4096 nodes and relu activation function\n",
        "model.add(tf.keras.layers.Dense(4096, activation = 'relu'))\n",
        "\n",
        "# Add 0.5 dropout\n",
        "model.add(tf.keras.layers.Dropout(0.5))\n",
        "\n",
        "# Add the third hidden layer with 4096 nodes and relu activation function\n",
        "model.add(tf.keras.layers.Dense(4096, activation = 'relu'))\n",
        "\n",
        "# Add 0.5 dropout\n",
        "model.add(tf.keras.layers.Dropout(0.5))\n",
        "\n",
        "# Add the fourth hidden layer with 4096 nodes and relu activation function\n",
        "model.add(tf.keras.layers.Dense(4096, activation = 'relu'))\n",
        "\n",
        "# Add 0.5 dropout\n",
        "model.add(tf.keras.layers.Dropout(0.5))\n"
      ],
      "metadata": {
        "id": "Ov3eQHu-BMUn"
      },
      "execution_count": 27,
      "outputs": []
    },
    {
      "cell_type": "markdown",
      "source": [
        "### Output Layer\n",
        "\n",
        "As the last part of our neural network, we add the output layer. The number of nodes will be equal to the number of target classes which is 7 in our case. We'll use the softmax activation function in the output layer."
      ],
      "metadata": {
        "id": "eQm1ooIBCvQD"
      }
    },
    {
      "cell_type": "code",
      "source": [
        "# Add the output layer\n",
        "model.add(tf.keras.layers.Dense(7, activation = 'softmax'))"
      ],
      "metadata": {
        "id": "6OOxeLJJCr-N"
      },
      "execution_count": 28,
      "outputs": []
    },
    {
      "cell_type": "markdown",
      "source": [
        "### Optimizer \n",
        "\n",
        "Now we have the structure of our model. To configure the model for training we'll use the .compile() method. Inside the compile method we have to define the following:\n",
        "\n",
        "* \"Adam\" for optimizer\n",
        "\n",
        "* \"Sparse Categorical Crossentropy\" for the loss function\n",
        "\n",
        "Construct the model with the .compile() method"
      ],
      "metadata": {
        "id": "CzCG-0IlDFcd"
      }
    },
    {
      "cell_type": "code",
      "source": [
        "# Compile the model\n",
        "model.compile(optimizer = 'adam', loss = 'sparse_categorical_crossentropy', metrics = ['accuracy'])"
      ],
      "metadata": {
        "id": "qb_JFTuEDEtv"
      },
      "execution_count": 29,
      "outputs": []
    },
    {
      "cell_type": "markdown",
      "source": [
        "### Training the model\n",
        "\n",
        "It's time to train the model. We'll give the X_train and y_train datasets as the first wto arguments. These will be used for training. And with the validation_data parameter we'll give the X_val and y_val as a tuple.\n",
        "\n",
        "* Use .fit() method of the model object for the training."
      ],
      "metadata": {
        "id": "qMfNo_bMDjVv"
      }
    },
    {
      "cell_type": "code",
      "source": [
        "# Train the model for 100 epochs\n",
        "results = model.fit(X_train, y_train, epochs = 100, validation_data = (X_val, y_val))"
      ],
      "metadata": {
        "colab": {
          "base_uri": "https://localhost:8080/"
        },
        "id": "wgCPlGJ1ETQm",
        "outputId": "1ccb15a6-eaca-41f4-ba48-b27ead9009a3"
      },
      "execution_count": 30,
      "outputs": [
        {
          "output_type": "stream",
          "name": "stdout",
          "text": [
            "Epoch 1/100\n",
            "23/23 [==============================] - 4s 26ms/step - loss: 1.6604 - accuracy: 0.3691 - val_loss: 0.8462 - val_accuracy: 0.6667\n",
            "Epoch 2/100\n",
            "23/23 [==============================] - 0s 17ms/step - loss: 0.8242 - accuracy: 0.6908 - val_loss: 0.8757 - val_accuracy: 0.6556\n",
            "Epoch 3/100\n",
            "23/23 [==============================] - 0s 17ms/step - loss: 0.6946 - accuracy: 0.7354 - val_loss: 0.6356 - val_accuracy: 0.7333\n",
            "Epoch 4/100\n",
            "23/23 [==============================] - 0s 18ms/step - loss: 0.5670 - accuracy: 0.7953 - val_loss: 0.8901 - val_accuracy: 0.7444\n",
            "Epoch 5/100\n",
            "23/23 [==============================] - 0s 17ms/step - loss: 0.5715 - accuracy: 0.7841 - val_loss: 0.4733 - val_accuracy: 0.8222\n",
            "Epoch 6/100\n",
            "23/23 [==============================] - 0s 17ms/step - loss: 0.4897 - accuracy: 0.8036 - val_loss: 0.5923 - val_accuracy: 0.8111\n",
            "Epoch 7/100\n",
            "23/23 [==============================] - 0s 17ms/step - loss: 0.5878 - accuracy: 0.7688 - val_loss: 0.5785 - val_accuracy: 0.8222\n",
            "Epoch 8/100\n",
            "23/23 [==============================] - 0s 18ms/step - loss: 0.4594 - accuracy: 0.8162 - val_loss: 0.5351 - val_accuracy: 0.7889\n",
            "Epoch 9/100\n",
            "23/23 [==============================] - 0s 18ms/step - loss: 0.4128 - accuracy: 0.8315 - val_loss: 0.6187 - val_accuracy: 0.8333\n",
            "Epoch 10/100\n",
            "23/23 [==============================] - 0s 22ms/step - loss: 0.5357 - accuracy: 0.7883 - val_loss: 0.6418 - val_accuracy: 0.7333\n",
            "Epoch 11/100\n",
            "23/23 [==============================] - 1s 23ms/step - loss: 0.4074 - accuracy: 0.8287 - val_loss: 0.5056 - val_accuracy: 0.8333\n",
            "Epoch 12/100\n",
            "23/23 [==============================] - 1s 25ms/step - loss: 0.4675 - accuracy: 0.8022 - val_loss: 0.4783 - val_accuracy: 0.8556\n",
            "Epoch 13/100\n",
            "23/23 [==============================] - 0s 18ms/step - loss: 0.3938 - accuracy: 0.8301 - val_loss: 0.5478 - val_accuracy: 0.8000\n",
            "Epoch 14/100\n",
            "23/23 [==============================] - 0s 18ms/step - loss: 0.3791 - accuracy: 0.8426 - val_loss: 0.4854 - val_accuracy: 0.8667\n",
            "Epoch 15/100\n",
            "23/23 [==============================] - 0s 18ms/step - loss: 0.3573 - accuracy: 0.8579 - val_loss: 0.7423 - val_accuracy: 0.7667\n",
            "Epoch 16/100\n",
            "23/23 [==============================] - 0s 17ms/step - loss: 0.4928 - accuracy: 0.8189 - val_loss: 0.4536 - val_accuracy: 0.8667\n",
            "Epoch 17/100\n",
            "23/23 [==============================] - 0s 17ms/step - loss: 0.3770 - accuracy: 0.8384 - val_loss: 0.5378 - val_accuracy: 0.8111\n",
            "Epoch 18/100\n",
            "23/23 [==============================] - 0s 19ms/step - loss: 0.4094 - accuracy: 0.8496 - val_loss: 0.5965 - val_accuracy: 0.8556\n",
            "Epoch 19/100\n",
            "23/23 [==============================] - 0s 19ms/step - loss: 0.3556 - accuracy: 0.8677 - val_loss: 0.5345 - val_accuracy: 0.8778\n",
            "Epoch 20/100\n",
            "23/23 [==============================] - 0s 19ms/step - loss: 0.6461 - accuracy: 0.7813 - val_loss: 0.8339 - val_accuracy: 0.7333\n",
            "Epoch 21/100\n",
            "23/23 [==============================] - 0s 18ms/step - loss: 0.4664 - accuracy: 0.8189 - val_loss: 0.5169 - val_accuracy: 0.7889\n",
            "Epoch 22/100\n",
            "23/23 [==============================] - 0s 21ms/step - loss: 0.4021 - accuracy: 0.8538 - val_loss: 0.6085 - val_accuracy: 0.8000\n",
            "Epoch 23/100\n",
            "23/23 [==============================] - 0s 20ms/step - loss: 0.3516 - accuracy: 0.8788 - val_loss: 0.5105 - val_accuracy: 0.7889\n",
            "Epoch 24/100\n",
            "23/23 [==============================] - 0s 18ms/step - loss: 0.3688 - accuracy: 0.8538 - val_loss: 0.5355 - val_accuracy: 0.8222\n",
            "Epoch 25/100\n",
            "23/23 [==============================] - 0s 18ms/step - loss: 0.3601 - accuracy: 0.8593 - val_loss: 0.4884 - val_accuracy: 0.8778\n",
            "Epoch 26/100\n",
            "23/23 [==============================] - 0s 18ms/step - loss: 0.3115 - accuracy: 0.8705 - val_loss: 0.6701 - val_accuracy: 0.8111\n",
            "Epoch 27/100\n",
            "23/23 [==============================] - 0s 20ms/step - loss: 0.3619 - accuracy: 0.8649 - val_loss: 0.7115 - val_accuracy: 0.7778\n",
            "Epoch 28/100\n",
            "23/23 [==============================] - 0s 19ms/step - loss: 0.4895 - accuracy: 0.8384 - val_loss: 0.5647 - val_accuracy: 0.8000\n",
            "Epoch 29/100\n",
            "23/23 [==============================] - 0s 18ms/step - loss: 0.5095 - accuracy: 0.8092 - val_loss: 0.6204 - val_accuracy: 0.8556\n",
            "Epoch 30/100\n",
            "23/23 [==============================] - 0s 20ms/step - loss: 0.3410 - accuracy: 0.8830 - val_loss: 0.9326 - val_accuracy: 0.7556\n",
            "Epoch 31/100\n",
            "23/23 [==============================] - 0s 19ms/step - loss: 0.3560 - accuracy: 0.8482 - val_loss: 0.4674 - val_accuracy: 0.8667\n",
            "Epoch 32/100\n",
            "23/23 [==============================] - 0s 19ms/step - loss: 0.3325 - accuracy: 0.8816 - val_loss: 0.6639 - val_accuracy: 0.8222\n",
            "Epoch 33/100\n",
            "23/23 [==============================] - 0s 19ms/step - loss: 0.3322 - accuracy: 0.8816 - val_loss: 0.5429 - val_accuracy: 0.8667\n",
            "Epoch 34/100\n",
            "23/23 [==============================] - 0s 19ms/step - loss: 0.3671 - accuracy: 0.8733 - val_loss: 0.4048 - val_accuracy: 0.8889\n",
            "Epoch 35/100\n",
            "23/23 [==============================] - 0s 19ms/step - loss: 0.3533 - accuracy: 0.8691 - val_loss: 0.3888 - val_accuracy: 0.8778\n",
            "Epoch 36/100\n",
            "23/23 [==============================] - 0s 19ms/step - loss: 0.3538 - accuracy: 0.8900 - val_loss: 0.4797 - val_accuracy: 0.8333\n",
            "Epoch 37/100\n",
            "23/23 [==============================] - 0s 20ms/step - loss: 0.3968 - accuracy: 0.8468 - val_loss: 0.5074 - val_accuracy: 0.7667\n",
            "Epoch 38/100\n",
            "23/23 [==============================] - 0s 19ms/step - loss: 0.3749 - accuracy: 0.8552 - val_loss: 0.5347 - val_accuracy: 0.8556\n",
            "Epoch 39/100\n",
            "23/23 [==============================] - 0s 18ms/step - loss: 0.3086 - accuracy: 0.8928 - val_loss: 0.7626 - val_accuracy: 0.8333\n",
            "Epoch 40/100\n",
            "23/23 [==============================] - 0s 18ms/step - loss: 0.3629 - accuracy: 0.8663 - val_loss: 0.4552 - val_accuracy: 0.8556\n",
            "Epoch 41/100\n",
            "23/23 [==============================] - 0s 17ms/step - loss: 0.3564 - accuracy: 0.8677 - val_loss: 0.5980 - val_accuracy: 0.8222\n",
            "Epoch 42/100\n",
            "23/23 [==============================] - 0s 17ms/step - loss: 0.2519 - accuracy: 0.9011 - val_loss: 0.5258 - val_accuracy: 0.8778\n",
            "Epoch 43/100\n",
            "23/23 [==============================] - 0s 18ms/step - loss: 0.3070 - accuracy: 0.8983 - val_loss: 0.5583 - val_accuracy: 0.8667\n",
            "Epoch 44/100\n",
            "23/23 [==============================] - 0s 18ms/step - loss: 0.3257 - accuracy: 0.8900 - val_loss: 0.6004 - val_accuracy: 0.8556\n",
            "Epoch 45/100\n",
            "23/23 [==============================] - 0s 19ms/step - loss: 0.2832 - accuracy: 0.8969 - val_loss: 0.5575 - val_accuracy: 0.8333\n",
            "Epoch 46/100\n",
            "23/23 [==============================] - 0s 19ms/step - loss: 0.3275 - accuracy: 0.8844 - val_loss: 0.4571 - val_accuracy: 0.8000\n",
            "Epoch 47/100\n",
            "23/23 [==============================] - 0s 20ms/step - loss: 0.3245 - accuracy: 0.8802 - val_loss: 0.4964 - val_accuracy: 0.8778\n",
            "Epoch 48/100\n",
            "23/23 [==============================] - 0s 19ms/step - loss: 0.2792 - accuracy: 0.9123 - val_loss: 0.7155 - val_accuracy: 0.8222\n",
            "Epoch 49/100\n",
            "23/23 [==============================] - 0s 20ms/step - loss: 0.2844 - accuracy: 0.8942 - val_loss: 0.4810 - val_accuracy: 0.8889\n",
            "Epoch 50/100\n",
            "23/23 [==============================] - 0s 18ms/step - loss: 0.2815 - accuracy: 0.8942 - val_loss: 0.5879 - val_accuracy: 0.8667\n",
            "Epoch 51/100\n",
            "23/23 [==============================] - 0s 20ms/step - loss: 0.2815 - accuracy: 0.8955 - val_loss: 0.5710 - val_accuracy: 0.7889\n",
            "Epoch 52/100\n",
            "23/23 [==============================] - 0s 20ms/step - loss: 0.3062 - accuracy: 0.8886 - val_loss: 0.5115 - val_accuracy: 0.8778\n",
            "Epoch 53/100\n",
            "23/23 [==============================] - 1s 26ms/step - loss: 0.2635 - accuracy: 0.8969 - val_loss: 0.4892 - val_accuracy: 0.8778\n",
            "Epoch 54/100\n",
            "23/23 [==============================] - 0s 19ms/step - loss: 0.3653 - accuracy: 0.8774 - val_loss: 0.5810 - val_accuracy: 0.8000\n",
            "Epoch 55/100\n",
            "23/23 [==============================] - 0s 18ms/step - loss: 0.2548 - accuracy: 0.9095 - val_loss: 0.5177 - val_accuracy: 0.8444\n",
            "Epoch 56/100\n",
            "23/23 [==============================] - 0s 19ms/step - loss: 0.2648 - accuracy: 0.9011 - val_loss: 0.5074 - val_accuracy: 0.9000\n",
            "Epoch 57/100\n",
            "23/23 [==============================] - 1s 23ms/step - loss: 0.2296 - accuracy: 0.9081 - val_loss: 0.6868 - val_accuracy: 0.8444\n",
            "Epoch 58/100\n",
            "23/23 [==============================] - 0s 18ms/step - loss: 0.2428 - accuracy: 0.9123 - val_loss: 0.5620 - val_accuracy: 0.8222\n",
            "Epoch 59/100\n",
            "23/23 [==============================] - 0s 19ms/step - loss: 0.2927 - accuracy: 0.8788 - val_loss: 0.5313 - val_accuracy: 0.8111\n",
            "Epoch 60/100\n",
            "23/23 [==============================] - 0s 19ms/step - loss: 0.2390 - accuracy: 0.9039 - val_loss: 0.5065 - val_accuracy: 0.8444\n",
            "Epoch 61/100\n",
            "23/23 [==============================] - 0s 18ms/step - loss: 0.2298 - accuracy: 0.9192 - val_loss: 0.6151 - val_accuracy: 0.8778\n",
            "Epoch 62/100\n",
            "23/23 [==============================] - 0s 19ms/step - loss: 0.2811 - accuracy: 0.8914 - val_loss: 0.5521 - val_accuracy: 0.8000\n",
            "Epoch 63/100\n",
            "23/23 [==============================] - 0s 18ms/step - loss: 0.3224 - accuracy: 0.8760 - val_loss: 0.5552 - val_accuracy: 0.8222\n",
            "Epoch 64/100\n",
            "23/23 [==============================] - 0s 20ms/step - loss: 0.3831 - accuracy: 0.8482 - val_loss: 0.5491 - val_accuracy: 0.8889\n",
            "Epoch 65/100\n",
            "23/23 [==============================] - 0s 21ms/step - loss: 0.2323 - accuracy: 0.9067 - val_loss: 0.6049 - val_accuracy: 0.9000\n",
            "Epoch 66/100\n",
            "23/23 [==============================] - 0s 21ms/step - loss: 0.3120 - accuracy: 0.8872 - val_loss: 0.4535 - val_accuracy: 0.8667\n",
            "Epoch 67/100\n",
            "23/23 [==============================] - 0s 17ms/step - loss: 0.2225 - accuracy: 0.9150 - val_loss: 0.3956 - val_accuracy: 0.9000\n",
            "Epoch 68/100\n",
            "23/23 [==============================] - 0s 17ms/step - loss: 0.2675 - accuracy: 0.9109 - val_loss: 0.4737 - val_accuracy: 0.8778\n",
            "Epoch 69/100\n",
            "23/23 [==============================] - 0s 19ms/step - loss: 0.2303 - accuracy: 0.9136 - val_loss: 0.4740 - val_accuracy: 0.9111\n",
            "Epoch 70/100\n",
            "23/23 [==============================] - 1s 22ms/step - loss: 0.2514 - accuracy: 0.9011 - val_loss: 0.5508 - val_accuracy: 0.8778\n",
            "Epoch 71/100\n",
            "23/23 [==============================] - 0s 18ms/step - loss: 0.2573 - accuracy: 0.8969 - val_loss: 0.4583 - val_accuracy: 0.8889\n",
            "Epoch 72/100\n",
            "23/23 [==============================] - 0s 19ms/step - loss: 0.2514 - accuracy: 0.9095 - val_loss: 0.6168 - val_accuracy: 0.8222\n",
            "Epoch 73/100\n",
            "23/23 [==============================] - 0s 21ms/step - loss: 0.2573 - accuracy: 0.8983 - val_loss: 0.5394 - val_accuracy: 0.8889\n",
            "Epoch 74/100\n",
            "23/23 [==============================] - 0s 19ms/step - loss: 0.2123 - accuracy: 0.9206 - val_loss: 0.4800 - val_accuracy: 0.8667\n",
            "Epoch 75/100\n",
            "23/23 [==============================] - 0s 19ms/step - loss: 0.1791 - accuracy: 0.9248 - val_loss: 0.4863 - val_accuracy: 0.8778\n",
            "Epoch 76/100\n",
            "23/23 [==============================] - 0s 21ms/step - loss: 0.1894 - accuracy: 0.9192 - val_loss: 0.4256 - val_accuracy: 0.8889\n",
            "Epoch 77/100\n",
            "23/23 [==============================] - 0s 19ms/step - loss: 0.2538 - accuracy: 0.9109 - val_loss: 0.6687 - val_accuracy: 0.8444\n",
            "Epoch 78/100\n",
            "23/23 [==============================] - 0s 20ms/step - loss: 0.2425 - accuracy: 0.9067 - val_loss: 0.4169 - val_accuracy: 0.9111\n",
            "Epoch 79/100\n",
            "23/23 [==============================] - 0s 18ms/step - loss: 0.2068 - accuracy: 0.9206 - val_loss: 0.3626 - val_accuracy: 0.9000\n",
            "Epoch 80/100\n",
            "23/23 [==============================] - 0s 19ms/step - loss: 0.1965 - accuracy: 0.9220 - val_loss: 0.5174 - val_accuracy: 0.8778\n",
            "Epoch 81/100\n",
            "23/23 [==============================] - 0s 18ms/step - loss: 0.2453 - accuracy: 0.9136 - val_loss: 0.4822 - val_accuracy: 0.8444\n",
            "Epoch 82/100\n",
            "23/23 [==============================] - 0s 18ms/step - loss: 0.2795 - accuracy: 0.8969 - val_loss: 0.4788 - val_accuracy: 0.8556\n",
            "Epoch 83/100\n",
            "23/23 [==============================] - 0s 18ms/step - loss: 0.2112 - accuracy: 0.9150 - val_loss: 0.4842 - val_accuracy: 0.9000\n",
            "Epoch 84/100\n",
            "23/23 [==============================] - 0s 19ms/step - loss: 0.3401 - accuracy: 0.8886 - val_loss: 0.5116 - val_accuracy: 0.8667\n",
            "Epoch 85/100\n",
            "23/23 [==============================] - 0s 18ms/step - loss: 0.2187 - accuracy: 0.9178 - val_loss: 0.5286 - val_accuracy: 0.9000\n",
            "Epoch 86/100\n",
            "23/23 [==============================] - 0s 18ms/step - loss: 0.3339 - accuracy: 0.8705 - val_loss: 0.4717 - val_accuracy: 0.8778\n",
            "Epoch 87/100\n",
            "23/23 [==============================] - 0s 20ms/step - loss: 0.2270 - accuracy: 0.9248 - val_loss: 0.4149 - val_accuracy: 0.8889\n",
            "Epoch 88/100\n",
            "23/23 [==============================] - 0s 19ms/step - loss: 0.2194 - accuracy: 0.9053 - val_loss: 0.9488 - val_accuracy: 0.8111\n",
            "Epoch 89/100\n",
            "23/23 [==============================] - 0s 18ms/step - loss: 0.2370 - accuracy: 0.9178 - val_loss: 0.4670 - val_accuracy: 0.8889\n",
            "Epoch 90/100\n",
            "23/23 [==============================] - 0s 18ms/step - loss: 0.2221 - accuracy: 0.8955 - val_loss: 0.6266 - val_accuracy: 0.8667\n",
            "Epoch 91/100\n",
            "23/23 [==============================] - 0s 18ms/step - loss: 0.2724 - accuracy: 0.8928 - val_loss: 0.5137 - val_accuracy: 0.9000\n",
            "Epoch 92/100\n",
            "23/23 [==============================] - 0s 18ms/step - loss: 0.2607 - accuracy: 0.8983 - val_loss: 0.4626 - val_accuracy: 0.8667\n",
            "Epoch 93/100\n",
            "23/23 [==============================] - 1s 24ms/step - loss: 0.2292 - accuracy: 0.9011 - val_loss: 0.4466 - val_accuracy: 0.8667\n",
            "Epoch 94/100\n",
            "23/23 [==============================] - 0s 21ms/step - loss: 0.2027 - accuracy: 0.9053 - val_loss: 0.5479 - val_accuracy: 0.8667\n",
            "Epoch 95/100\n",
            "23/23 [==============================] - 0s 21ms/step - loss: 0.2321 - accuracy: 0.9095 - val_loss: 0.4197 - val_accuracy: 0.9000\n",
            "Epoch 96/100\n",
            "23/23 [==============================] - 0s 20ms/step - loss: 0.2317 - accuracy: 0.9109 - val_loss: 0.5193 - val_accuracy: 0.8778\n",
            "Epoch 97/100\n",
            "23/23 [==============================] - 0s 20ms/step - loss: 0.2258 - accuracy: 0.9178 - val_loss: 0.4208 - val_accuracy: 0.8778\n",
            "Epoch 98/100\n",
            "23/23 [==============================] - 0s 22ms/step - loss: 0.2495 - accuracy: 0.9164 - val_loss: 0.6366 - val_accuracy: 0.8778\n",
            "Epoch 99/100\n",
            "23/23 [==============================] - 0s 18ms/step - loss: 0.2134 - accuracy: 0.9192 - val_loss: 0.4673 - val_accuracy: 0.8556\n",
            "Epoch 100/100\n",
            "23/23 [==============================] - 0s 19ms/step - loss: 0.3063 - accuracy: 0.8858 - val_loss: 0.5692 - val_accuracy: 0.8889\n"
          ]
        }
      ]
    },
    {
      "cell_type": "markdown",
      "source": [
        "### Visualize the Result\n",
        "\n",
        "After the model is trained we can create a graph to visualize the chamge of loss over time. Results are held in:\n",
        "\n",
        "* results.history[\"loss\"]\n",
        "\n",
        "* results.history[\"val_loss\"]\n",
        "\n",
        "Use plt.show() to display the graph."
      ],
      "metadata": {
        "id": "2Ha2LieWFlrg"
      }
    },
    {
      "cell_type": "code",
      "source": [
        "# Plot the training loss\n",
        "plt.plot(results.history['loss'], label = 'Train')\n",
        "\n",
        "# Plot the validation loss\n",
        "plt.plot(results.history['val_loss'], label = 'Test')\n",
        "\n",
        "# Name the x and y axises\n",
        "plt.ylabel('Loss')\n",
        "plt.xlabel('Epoch')\n",
        "\n",
        "# Put legend table\n",
        "plt.legend()\n",
        "\n",
        "# Show the plot\n",
        "plt.show()"
      ],
      "metadata": {
        "colab": {
          "base_uri": "https://localhost:8080/",
          "height": 279
        },
        "id": "uf0xBTZKFMnK",
        "outputId": "0e187ead-c873-4769-97ad-9bc69b9a15b5"
      },
      "execution_count": 31,
      "outputs": [
        {
          "output_type": "display_data",
          "data": {
            "text/plain": [
              "<Figure size 432x288 with 1 Axes>"
            ],
            "image/png": "[encoded data removed]"
          },
          "metadata": {
            "needs_background": "light"
          }
        }
      ]
    },
    {
      "cell_type": "markdown",
      "source": [
        "### Performance Evaluation\n",
        "\n",
        "Finally, we are going to use the test dataset we created to evaluate the performance of the model.\n",
        "\n",
        "Use test_on_batch() method with test dataset as parameter"
      ],
      "metadata": {
        "id": "dpP1MXZ_Gzvu"
      }
    },
    {
      "cell_type": "code",
      "source": [
        "# Evaluate the performance\n",
        "test_result = model.test_on_batch(X_test, y_test)\n",
        "\n",
        "# Print the result\n",
        "print(test_result)"
      ],
      "metadata": {
        "colab": {
          "base_uri": "https://localhost:8080/"
        },
        "id": "4tjpTs2CGmw4",
        "outputId": "e203a60c-e89a-4e1d-9169-695ac918a5d2"
      },
      "execution_count": 32,
      "outputs": [
        {
          "output_type": "stream",
          "name": "stdout",
          "text": [
            "[0.2716849446296692, 0.9222221970558167]\n"
          ]
        }
      ]
    },
    {
      "cell_type": "code",
      "source": [],
      "metadata": {
        "id": "tBq5fTafHUtp"
      },
      "execution_count": null,
      "outputs": []
    }
  ]
}