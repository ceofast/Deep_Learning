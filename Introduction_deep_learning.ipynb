{
  "nbformat": 4,
  "nbformat_minor": 0,
  "metadata": {
    "colab": {
      "provenance": [],
      "authorship_tag": "ABX9TyNd1qd2k613gc5aKI8sf5i7",
      "include_colab_link": true
    },
    "kernelspec": {
      "name": "python3",
      "display_name": "Python 3"
    },
    "language_info": {
      "name": "python"
    },
    "accelerator": "GPU"
  },
  "cells": [
    {
      "cell_type": "markdown",
      "metadata": {
        "id": "view-in-github",
        "colab_type": "text"
      },
      "source": [
        "<a href=\"https://colab.research.google.com/github/ceofast/Deep_Learning/blob/main/Introduction_deep_learning.ipynb\" target=\"_parent\"><img src=\"https://colab.research.google.com/assets/colab-badge.svg\" alt=\"Open In Colab\"/></a>"
      ]
    },
    {
      "cell_type": "markdown",
      "source": [
        "## AI90201 Neural Networks"
      ],
      "metadata": {
        "id": "t6sxyY0mc4lT"
      }
    },
    {
      "cell_type": "code",
      "source": [
        "from sklearn.datasets import fetch_openml\n",
        "from sklearn.model_selection import train_test_split\n",
        "\n",
        "X, y = fetch_openml('mnist_784', version = 1, return_X_y = True, as_frame = False)\n",
        "\n",
        "X = X / 255.0\n",
        "\n",
        "X_train, X_test, y_train, y_test = train_test_split(X, y, random_state = 0, test_size = 0.7)"
      ],
      "metadata": {
        "id": "OwRh41UBdCKB"
      },
      "execution_count": null,
      "outputs": []
    },
    {
      "cell_type": "code",
      "source": [
        "import pandas as pd\n",
        "\n",
        "data = pd.DataFrame(X)\n",
        "\n",
        "data.insert(784, 'label', y)\n",
        "\n",
        "data.head()"
      ],
      "metadata": {
        "colab": {
          "base_uri": "https://localhost:8080/",
          "height": 236
        },
        "id": "cJD_9is3duq7",
        "outputId": "c7ec36dd-c262-42b3-9b6d-c1a93ec5f19a"
      },
      "execution_count": null,
      "outputs": [
        {
          "output_type": "execute_result",
          "data": {
            "text/plain": [
              "     0    1    2    3    4    5    6    7    8    9  ...  775  776  777  778  \\\n",
              "0  0.0  0.0  0.0  0.0  0.0  0.0  0.0  0.0  0.0  0.0  ...  0.0  0.0  0.0  0.0   \n",
              "1  0.0  0.0  0.0  0.0  0.0  0.0  0.0  0.0  0.0  0.0  ...  0.0  0.0  0.0  0.0   \n",
              "2  0.0  0.0  0.0  0.0  0.0  0.0  0.0  0.0  0.0  0.0  ...  0.0  0.0  0.0  0.0   \n",
              "3  0.0  0.0  0.0  0.0  0.0  0.0  0.0  0.0  0.0  0.0  ...  0.0  0.0  0.0  0.0   \n",
              "4  0.0  0.0  0.0  0.0  0.0  0.0  0.0  0.0  0.0  0.0  ...  0.0  0.0  0.0  0.0   \n",
              "\n",
              "   779  780  781  782  783  label  \n",
              "0  0.0  0.0  0.0  0.0  0.0      5  \n",
              "1  0.0  0.0  0.0  0.0  0.0      0  \n",
              "2  0.0  0.0  0.0  0.0  0.0      4  \n",
              "3  0.0  0.0  0.0  0.0  0.0      1  \n",
              "4  0.0  0.0  0.0  0.0  0.0      9  \n",
              "\n",
              "[5 rows x 785 columns]"
            ],
            "text/html": [
              "\n",
              "  <div id=\"df-01a1acf0-ce07-4240-b4e5-eee24217c2d7\">\n",
              "    <div class=\"colab-df-container\">\n",
              "      <div>\n",
              "<style scoped>\n",
              "    .dataframe tbody tr th:only-of-type {\n",
              "        vertical-align: middle;\n",
              "    }\n",
              "\n",
              "    .dataframe tbody tr th {\n",
              "        vertical-align: top;\n",
              "    }\n",
              "\n",
              "    .dataframe thead th {\n",
              "        text-align: right;\n",
              "    }\n",
              "</style>\n",
              "<table border=\"1\" class=\"dataframe\">\n",
              "  <thead>\n",
              "    <tr style=\"text-align: right;\">\n",
              "      <th></th>\n",
              "      <th>0</th>\n",
              "      <th>1</th>\n",
              "      <th>2</th>\n",
              "      <th>3</th>\n",
              "      <th>4</th>\n",
              "      <th>5</th>\n",
              "      <th>6</th>\n",
              "      <th>7</th>\n",
              "      <th>8</th>\n",
              "      <th>9</th>\n",
              "      <th>...</th>\n",
              "      <th>775</th>\n",
              "      <th>776</th>\n",
              "      <th>777</th>\n",
              "      <th>778</th>\n",
              "      <th>779</th>\n",
              "      <th>780</th>\n",
              "      <th>781</th>\n",
              "      <th>782</th>\n",
              "      <th>783</th>\n",
              "      <th>label</th>\n",
              "    </tr>\n",
              "  </thead>\n",
              "  <tbody>\n",
              "    <tr>\n",
              "      <th>0</th>\n",
              "      <td>0.0</td>\n",
              "      <td>0.0</td>\n",
              "      <td>0.0</td>\n",
              "      <td>0.0</td>\n",
              "      <td>0.0</td>\n",
              "      <td>0.0</td>\n",
              "      <td>0.0</td>\n",
              "      <td>0.0</td>\n",
              "      <td>0.0</td>\n",
              "      <td>0.0</td>\n",
              "      <td>...</td>\n",
              "      <td>0.0</td>\n",
              "      <td>0.0</td>\n",
              "      <td>0.0</td>\n",
              "      <td>0.0</td>\n",
              "      <td>0.0</td>\n",
              "      <td>0.0</td>\n",
              "      <td>0.0</td>\n",
              "      <td>0.0</td>\n",
              "      <td>0.0</td>\n",
              "      <td>5</td>\n",
              "    </tr>\n",
              "    <tr>\n",
              "      <th>1</th>\n",
              "      <td>0.0</td>\n",
              "      <td>0.0</td>\n",
              "      <td>0.0</td>\n",
              "      <td>0.0</td>\n",
              "      <td>0.0</td>\n",
              "      <td>0.0</td>\n",
              "      <td>0.0</td>\n",
              "      <td>0.0</td>\n",
              "      <td>0.0</td>\n",
              "      <td>0.0</td>\n",
              "      <td>...</td>\n",
              "      <td>0.0</td>\n",
              "      <td>0.0</td>\n",
              "      <td>0.0</td>\n",
              "      <td>0.0</td>\n",
              "      <td>0.0</td>\n",
              "      <td>0.0</td>\n",
              "      <td>0.0</td>\n",
              "      <td>0.0</td>\n",
              "      <td>0.0</td>\n",
              "      <td>0</td>\n",
              "    </tr>\n",
              "    <tr>\n",
              "      <th>2</th>\n",
              "      <td>0.0</td>\n",
              "      <td>0.0</td>\n",
              "      <td>0.0</td>\n",
              "      <td>0.0</td>\n",
              "      <td>0.0</td>\n",
              "      <td>0.0</td>\n",
              "      <td>0.0</td>\n",
              "      <td>0.0</td>\n",
              "      <td>0.0</td>\n",
              "      <td>0.0</td>\n",
              "      <td>...</td>\n",
              "      <td>0.0</td>\n",
              "      <td>0.0</td>\n",
              "      <td>0.0</td>\n",
              "      <td>0.0</td>\n",
              "      <td>0.0</td>\n",
              "      <td>0.0</td>\n",
              "      <td>0.0</td>\n",
              "      <td>0.0</td>\n",
              "      <td>0.0</td>\n",
              "      <td>4</td>\n",
              "    </tr>\n",
              "    <tr>\n",
              "      <th>3</th>\n",
              "      <td>0.0</td>\n",
              "      <td>0.0</td>\n",
              "      <td>0.0</td>\n",
              "      <td>0.0</td>\n",
              "      <td>0.0</td>\n",
              "      <td>0.0</td>\n",
              "      <td>0.0</td>\n",
              "      <td>0.0</td>\n",
              "      <td>0.0</td>\n",
              "      <td>0.0</td>\n",
              "      <td>...</td>\n",
              "      <td>0.0</td>\n",
              "      <td>0.0</td>\n",
              "      <td>0.0</td>\n",
              "      <td>0.0</td>\n",
              "      <td>0.0</td>\n",
              "      <td>0.0</td>\n",
              "      <td>0.0</td>\n",
              "      <td>0.0</td>\n",
              "      <td>0.0</td>\n",
              "      <td>1</td>\n",
              "    </tr>\n",
              "    <tr>\n",
              "      <th>4</th>\n",
              "      <td>0.0</td>\n",
              "      <td>0.0</td>\n",
              "      <td>0.0</td>\n",
              "      <td>0.0</td>\n",
              "      <td>0.0</td>\n",
              "      <td>0.0</td>\n",
              "      <td>0.0</td>\n",
              "      <td>0.0</td>\n",
              "      <td>0.0</td>\n",
              "      <td>0.0</td>\n",
              "      <td>...</td>\n",
              "      <td>0.0</td>\n",
              "      <td>0.0</td>\n",
              "      <td>0.0</td>\n",
              "      <td>0.0</td>\n",
              "      <td>0.0</td>\n",
              "      <td>0.0</td>\n",
              "      <td>0.0</td>\n",
              "      <td>0.0</td>\n",
              "      <td>0.0</td>\n",
              "      <td>9</td>\n",
              "    </tr>\n",
              "  </tbody>\n",
              "</table>\n",
              "<p>5 rows × 785 columns</p>\n",
              "</div>\n",
              "      <button class=\"colab-df-convert\" onclick=\"convertToInteractive('df-01a1acf0-ce07-4240-b4e5-eee24217c2d7')\"\n",
              "              title=\"Convert this dataframe to an interactive table.\"\n",
              "              style=\"display:none;\">\n",
              "        \n",
              "  <svg xmlns=\"http://www.w3.org/2000/svg\" height=\"24px\"viewBox=\"0 0 24 24\"\n",
              "       width=\"24px\">\n",
              "    <path d=\"M0 0h24v24H0V0z\" fill=\"none\"/>\n",
              "    <path d=\"M18.56 5.44l.94 2.06.94-2.06 2.06-.94-2.06-.94-.94-2.06-.94 2.06-2.06.94zm-11 1L8.5 8.5l.94-2.06 2.06-.94-2.06-.94L8.5 2.5l-.94 2.06-2.06.94zm10 10l.94 2.06.94-2.06 2.06-.94-2.06-.94-.94-2.06-.94 2.06-2.06.94z\"/><path d=\"M17.41 7.96l-1.37-1.37c-.4-.4-.92-.59-1.43-.59-.52 0-1.04.2-1.43.59L10.3 9.45l-7.72 7.72c-.78.78-.78 2.05 0 2.83L4 21.41c.39.39.9.59 1.41.59.51 0 1.02-.2 1.41-.59l7.78-7.78 2.81-2.81c.8-.78.8-2.07 0-2.86zM5.41 20L4 18.59l7.72-7.72 1.47 1.35L5.41 20z\"/>\n",
              "  </svg>\n",
              "      </button>\n",
              "      \n",
              "  <style>\n",
              "    .colab-df-container {\n",
              "      display:flex;\n",
              "      flex-wrap:wrap;\n",
              "      gap: 12px;\n",
              "    }\n",
              "\n",
              "    .colab-df-convert {\n",
              "      background-color: #E8F0FE;\n",
              "      border: none;\n",
              "      border-radius: 50%;\n",
              "      cursor: pointer;\n",
              "      display: none;\n",
              "      fill: #1967D2;\n",
              "      height: 32px;\n",
              "      padding: 0 0 0 0;\n",
              "      width: 32px;\n",
              "    }\n",
              "\n",
              "    .colab-df-convert:hover {\n",
              "      background-color: #E2EBFA;\n",
              "      box-shadow: 0px 1px 2px rgba(60, 64, 67, 0.3), 0px 1px 3px 1px rgba(60, 64, 67, 0.15);\n",
              "      fill: #174EA6;\n",
              "    }\n",
              "\n",
              "    [theme=dark] .colab-df-convert {\n",
              "      background-color: #3B4455;\n",
              "      fill: #D2E3FC;\n",
              "    }\n",
              "\n",
              "    [theme=dark] .colab-df-convert:hover {\n",
              "      background-color: #434B5C;\n",
              "      box-shadow: 0px 1px 3px 1px rgba(0, 0, 0, 0.15);\n",
              "      filter: drop-shadow(0px 1px 2px rgba(0, 0, 0, 0.3));\n",
              "      fill: #FFFFFF;\n",
              "    }\n",
              "  </style>\n",
              "\n",
              "      <script>\n",
              "        const buttonEl =\n",
              "          document.querySelector('#df-01a1acf0-ce07-4240-b4e5-eee24217c2d7 button.colab-df-convert');\n",
              "        buttonEl.style.display =\n",
              "          google.colab.kernel.accessAllowed ? 'block' : 'none';\n",
              "\n",
              "        async function convertToInteractive(key) {\n",
              "          const element = document.querySelector('#df-01a1acf0-ce07-4240-b4e5-eee24217c2d7');\n",
              "          const dataTable =\n",
              "            await google.colab.kernel.invokeFunction('convertToInteractive',\n",
              "                                                     [key], {});\n",
              "          if (!dataTable) return;\n",
              "\n",
              "          const docLinkHtml = 'Like what you see? Visit the ' +\n",
              "            '<a target=\"_blank\" href=https://colab.research.google.com/notebooks/data_table.ipynb>data table notebook</a>'\n",
              "            + ' to learn more about interactive tables.';\n",
              "          element.innerHTML = '';\n",
              "          dataTable['output_type'] = 'display_data';\n",
              "          await google.colab.output.renderOutput(dataTable, element);\n",
              "          const docLink = document.createElement('div');\n",
              "          docLink.innerHTML = docLinkHtml;\n",
              "          element.appendChild(docLink);\n",
              "        }\n",
              "      </script>\n",
              "    </div>\n",
              "  </div>\n",
              "  "
            ]
          },
          "metadata": {},
          "execution_count": 2
        }
      ]
    },
    {
      "cell_type": "code",
      "source": [
        "import matplotlib.pyplot as plt\n",
        "\n",
        "for i in range(5):\n",
        "  plt.imshow(X[i].reshape((28, 28)), cmap = 'gray')\n",
        "  plt.show()"
      ],
      "metadata": {
        "colab": {
          "base_uri": "https://localhost:8080/",
          "height": 1000
        },
        "id": "Gh19z_-ld7_-",
        "outputId": "6a21894d-ad0f-4c76-9012-4e1a0b99e228"
      },
      "execution_count": null,
      "outputs": [
        {
          "output_type": "display_data",
          "data": {
            "text/plain": [
              "<Figure size 432x288 with 1 Axes>"
            ],
            "image/png": "[encoded data removed]"
          },
          "metadata": {
            "needs_background": "light"
          }
        },
        {
          "output_type": "display_data",
          "data": {
            "text/plain": [
              "<Figure size 432x288 with 1 Axes>"
            ],
            "image/png": "[encoded data removed]"
          },
          "metadata": {
            "needs_background": "light"
          }
        },
        {
          "output_type": "display_data",
          "data": {
            "text/plain": [
              "<Figure size 432x288 with 1 Axes>"
            ],
            "image/png": "[encoded data removed]"
          },
          "metadata": {
            "needs_background": "light"
          }
        },
        {
          "output_type": "display_data",
          "data": {
            "text/plain": [
              "<Figure size 432x288 with 1 Axes>"
            ],
            "image/png": "[encoded data removed]"
          },
          "metadata": {
            "needs_background": "light"
          }
        },
        {
          "output_type": "display_data",
          "data": {
            "text/plain": [
              "<Figure size 432x288 with 1 Axes>"
            ],
            "image/png": "[encoded data removed]"
          },
          "metadata": {
            "needs_background": "light"
          }
        }
      ]
    },
    {
      "cell_type": "code",
      "source": [
        "from sklearn.neural_network import MLPClassifier\n",
        "\n",
        "mlp = MLPClassifier(hidden_layer_sizes = 1, activation = 'logistic')\n",
        "\n",
        "mlp1 = MLPClassifier(hidden_layer_sizes = 100, activation = 'logistic')\n",
        "\n",
        "mlp2 = MLPClassifier(hidden_layer_sizes = 1000, activation = 'logistic')"
      ],
      "metadata": {
        "id": "yvy1FibueUhZ"
      },
      "execution_count": null,
      "outputs": []
    },
    {
      "cell_type": "code",
      "source": [
        "mlp.fit(X_train, y_train)\n",
        "\n",
        "mlp1.fit(X_train, y_train)\n",
        "\n",
        "mlp2.fit(X_train, y_train)"
      ],
      "metadata": {
        "colab": {
          "base_uri": "https://localhost:8080/"
        },
        "id": "aUuX0xiMe6nZ",
        "outputId": "03796d47-27db-406a-f4b0-e684937c7390"
      },
      "execution_count": null,
      "outputs": [
        {
          "output_type": "stream",
          "name": "stderr",
          "text": [
            "/usr/local/lib/python3.7/dist-packages/sklearn/neural_network/_multilayer_perceptron.py:696: ConvergenceWarning: Stochastic Optimizer: Maximum iterations (200) reached and the optimization hasn't converged yet.\n",
            "  ConvergenceWarning,\n"
          ]
        },
        {
          "output_type": "execute_result",
          "data": {
            "text/plain": [
              "MLPClassifier(activation='logistic', hidden_layer_sizes=1000)"
            ]
          },
          "metadata": {},
          "execution_count": 6
        }
      ]
    },
    {
      "cell_type": "code",
      "source": [
        "predictions_NN = mlp.predict(X_test)\n",
        "predictions_NN"
      ],
      "metadata": {
        "colab": {
          "base_uri": "https://localhost:8080/"
        },
        "id": "02IG6mVnfRuC",
        "outputId": "2c35a7e8-a1e6-44e2-e130-bb39bdec8403"
      },
      "execution_count": null,
      "outputs": [
        {
          "output_type": "execute_result",
          "data": {
            "text/plain": [
              "array(['6', '4', '1', ..., '3', '1', '4'], dtype='<U1')"
            ]
          },
          "metadata": {},
          "execution_count": 7
        }
      ]
    },
    {
      "cell_type": "code",
      "source": [
        "predictions_NN1 = mlp1.predict(X_test)\n",
        "predictions_NN1"
      ],
      "metadata": {
        "colab": {
          "base_uri": "https://localhost:8080/"
        },
        "id": "IF_HO7tujOp4",
        "outputId": "56835c6c-9ca9-4032-cd65-5da99e7df00e"
      },
      "execution_count": null,
      "outputs": [
        {
          "output_type": "execute_result",
          "data": {
            "text/plain": [
              "array(['0', '4', '1', ..., '8', '3', '2'], dtype='<U1')"
            ]
          },
          "metadata": {},
          "execution_count": 8
        }
      ]
    },
    {
      "cell_type": "code",
      "source": [
        "predictions_NN2 = mlp2.predict(X_test)\n",
        "predictions_NN2"
      ],
      "metadata": {
        "colab": {
          "base_uri": "https://localhost:8080/"
        },
        "id": "q9jsud65jWDs",
        "outputId": "5084f97e-dee3-466e-9d5e-69591d5d70b2"
      },
      "execution_count": null,
      "outputs": [
        {
          "output_type": "execute_result",
          "data": {
            "text/plain": [
              "array(['0', '4', '1', ..., '8', '3', '9'], dtype='<U1')"
            ]
          },
          "metadata": {},
          "execution_count": 9
        }
      ]
    },
    {
      "cell_type": "code",
      "source": [
        "print(f'Actual Value: {y_test[1]}')\n",
        "print(f'Predicted Value For 1 Hidden Layer: {predictions_NN[1]}')\n",
        "print(f'Predicted Value For 100 Hidden Layer: {predictions_NN1[1]}')\n",
        "print(f'Predicted Value For 1000 Hidden Layer: {predictions_NN2[1]}')\n",
        "\n",
        "plt.imshow(X_test[1].reshape((28,28)), cmap='gray')\n",
        "plt.show()"
      ],
      "metadata": {
        "colab": {
          "base_uri": "https://localhost:8080/",
          "height": 334
        },
        "id": "s8iCGGVAjc8s",
        "outputId": "c1f3a8b7-2216-4c7d-9a4f-7114231cedbd"
      },
      "execution_count": null,
      "outputs": [
        {
          "output_type": "stream",
          "name": "stdout",
          "text": [
            "Actual Value: 4\n",
            "Predicted Value For 1 Hidden Layer: 4\n",
            "Predicted Value For 100 Hidden Layer: 4\n",
            "Predicted Value For 1000 Hidden Layer: 4\n"
          ]
        },
        {
          "output_type": "display_data",
          "data": {
            "text/plain": [
              "<Figure size 432x288 with 1 Axes>"
            ],
            "image/png": "[encoded data removed]"
          },
          "metadata": {
            "needs_background": "light"
          }
        }
      ]
    },
    {
      "cell_type": "code",
      "source": [
        "from sklearn.metrics import confusion_matrix\n",
        "\n",
        "confusion_matrix(y_test, predictions_NN)"
      ],
      "metadata": {
        "colab": {
          "base_uri": "https://localhost:8080/"
        },
        "id": "G4shA1bPkQKe",
        "outputId": "87ab9b42-69b1-4291-dae9-a7207973ab29"
      },
      "execution_count": null,
      "outputs": [
        {
          "output_type": "execute_result",
          "data": {
            "text/plain": [
              "array([[ 106, 1060,    0,  164,   16,    0, 3548,   17,    0,    0],\n",
              "       [  59, 4731,    0,  496,   45,    0,  177,   36,    0,    0],\n",
              "       [ 112, 1900,    0,  633,   51,    0, 2167,   33,    0,    0],\n",
              "       [  10,  740,    0, 2994,  636,    0,  175,  431,    0,    0],\n",
              "       [   0,   97,    0,  686, 2092,    0,   19, 1874,    0,    0],\n",
              "       [  16,  768,    0, 2491,  551,    0,  119,  439,    0,    0],\n",
              "       [  46,  505,    0,   88,   10,    0, 4130,    1,    0,    0],\n",
              "       [   0,   51,    0,  114,  131,    0,    4, 4772,    0,    0],\n",
              "       [   5,  869,    0, 2872,  545,    0,   49,  417,    0,    0],\n",
              "       [   0,   33,    0,  160,  240,    0,    9, 4460,    0,    0]])"
            ]
          },
          "metadata": {},
          "execution_count": 11
        }
      ]
    },
    {
      "cell_type": "code",
      "source": [
        "confusion_matrix(y_test, predictions_NN1)"
      ],
      "metadata": {
        "colab": {
          "base_uri": "https://localhost:8080/"
        },
        "id": "iqGV8SK7kdiV",
        "outputId": "438aab37-5103-4d93-b07c-a131ab33e3e2"
      },
      "execution_count": null,
      "outputs": [
        {
          "output_type": "execute_result",
          "data": {
            "text/plain": [
              "array([[4794,    2,   13,    7,   10,   15,   36,    7,   21,    6],\n",
              "       [   2, 5475,   22,   11,    4,    3,    3,    8,    8,    8],\n",
              "       [  15,    8, 4721,   22,   37,    2,   17,   34,   34,    6],\n",
              "       [   6,   11,   69, 4711,    3,   86,    5,   27,   47,   21],\n",
              "       [   3,   11,   15,    4, 4610,    4,   27,   14,    7,   73],\n",
              "       [  13,    7,   16,   62,   16, 4169,   42,    8,   27,   24],\n",
              "       [  17,   11,   11,    3,   21,   27, 4673,    4,   13,    0],\n",
              "       [   6,   17,   42,   13,   36,    3,    0, 4911,    5,   39],\n",
              "       [  25,   38,   33,   37,   16,   45,   21,    7, 4509,   26],\n",
              "       [  14,    9,   10,   35,   92,   24,    2,   67,   18, 4631]])"
            ]
          },
          "metadata": {},
          "execution_count": 12
        }
      ]
    },
    {
      "cell_type": "code",
      "source": [
        "confusion_matrix(y_test, predictions_NN2)"
      ],
      "metadata": {
        "colab": {
          "base_uri": "https://localhost:8080/"
        },
        "id": "K9yX3owSkiYm",
        "outputId": "ed93100e-b818-42db-ee39-73872011b63c"
      },
      "execution_count": null,
      "outputs": [
        {
          "output_type": "execute_result",
          "data": {
            "text/plain": [
              "array([[4823,    2,   13,    6,    5,   13,   21,    3,   17,    8],\n",
              "       [   1, 5476,   27,    8,    5,    1,    5,    5,    7,    9],\n",
              "       [  17,    8, 4760,   17,   28,    2,   14,   25,   20,    5],\n",
              "       [   6,   11,   65, 4751,    5,   60,    3,   15,   49,   21],\n",
              "       [   5,   14,   15,    2, 4612,    3,   20,    9,    7,   81],\n",
              "       [  16,    7,   10,   39,    8, 4228,   29,    7,   22,   18],\n",
              "       [  20,   11,   20,    4,   16,   19, 4671,    6,   13,    0],\n",
              "       [   1,   21,   52,   18,   37,    5,    0, 4877,   10,   51],\n",
              "       [  18,   31,   23,   32,   14,   29,   19,    1, 4564,   26],\n",
              "       [  20,   13,    1,   27,   56,   26,    3,   44,   20, 4692]])"
            ]
          },
          "metadata": {},
          "execution_count": 13
        }
      ]
    },
    {
      "cell_type": "code",
      "source": [
        "from sklearn.metrics import classification_report\n",
        "\n",
        "print(classification_report(y_test, predictions_NN))"
      ],
      "metadata": {
        "colab": {
          "base_uri": "https://localhost:8080/"
        },
        "id": "zWPYwiIbkkN0",
        "outputId": "2f2cca2f-acc9-417c-c62c-9b441f0ce895"
      },
      "execution_count": null,
      "outputs": [
        {
          "output_type": "stream",
          "name": "stderr",
          "text": [
            "/usr/local/lib/python3.7/dist-packages/sklearn/metrics/_classification.py:1318: UndefinedMetricWarning: Precision and F-score are ill-defined and being set to 0.0 in labels with no predicted samples. Use `zero_division` parameter to control this behavior.\n",
            "  _warn_prf(average, modifier, msg_start, len(result))\n",
            "/usr/local/lib/python3.7/dist-packages/sklearn/metrics/_classification.py:1318: UndefinedMetricWarning: Precision and F-score are ill-defined and being set to 0.0 in labels with no predicted samples. Use `zero_division` parameter to control this behavior.\n",
            "  _warn_prf(average, modifier, msg_start, len(result))\n"
          ]
        },
        {
          "output_type": "stream",
          "name": "stdout",
          "text": [
            "              precision    recall  f1-score   support\n",
            "\n",
            "           0       0.30      0.02      0.04      4911\n",
            "           1       0.44      0.85      0.58      5544\n",
            "           2       0.00      0.00      0.00      4896\n",
            "           3       0.28      0.60      0.38      4986\n",
            "           4       0.48      0.44      0.46      4768\n",
            "           5       0.00      0.00      0.00      4384\n",
            "           6       0.40      0.86      0.54      4780\n",
            "           7       0.38      0.94      0.54      5072\n",
            "           8       0.00      0.00      0.00      4757\n",
            "           9       0.00      0.00      0.00      4902\n",
            "\n",
            "    accuracy                           0.38     49000\n",
            "   macro avg       0.23      0.37      0.26     49000\n",
            "weighted avg       0.23      0.38      0.26     49000\n",
            "\n"
          ]
        },
        {
          "output_type": "stream",
          "name": "stderr",
          "text": [
            "/usr/local/lib/python3.7/dist-packages/sklearn/metrics/_classification.py:1318: UndefinedMetricWarning: Precision and F-score are ill-defined and being set to 0.0 in labels with no predicted samples. Use `zero_division` parameter to control this behavior.\n",
            "  _warn_prf(average, modifier, msg_start, len(result))\n"
          ]
        }
      ]
    },
    {
      "cell_type": "code",
      "source": [
        "print(classification_report(y_test, predictions_NN1))"
      ],
      "metadata": {
        "colab": {
          "base_uri": "https://localhost:8080/"
        },
        "id": "EDg5Zh_skwi4",
        "outputId": "bc35e9b3-b149-4c6e-cdbc-dc53269190a5"
      },
      "execution_count": null,
      "outputs": [
        {
          "output_type": "stream",
          "name": "stdout",
          "text": [
            "              precision    recall  f1-score   support\n",
            "\n",
            "           0       0.98      0.98      0.98      4911\n",
            "           1       0.98      0.99      0.98      5544\n",
            "           2       0.95      0.96      0.96      4896\n",
            "           3       0.96      0.94      0.95      4986\n",
            "           4       0.95      0.97      0.96      4768\n",
            "           5       0.95      0.95      0.95      4384\n",
            "           6       0.97      0.98      0.97      4780\n",
            "           7       0.97      0.97      0.97      5072\n",
            "           8       0.96      0.95      0.95      4757\n",
            "           9       0.96      0.94      0.95      4902\n",
            "\n",
            "    accuracy                           0.96     49000\n",
            "   macro avg       0.96      0.96      0.96     49000\n",
            "weighted avg       0.96      0.96      0.96     49000\n",
            "\n"
          ]
        }
      ]
    },
    {
      "cell_type": "code",
      "source": [
        "print(classification_report(y_test, predictions_NN2))"
      ],
      "metadata": {
        "colab": {
          "base_uri": "https://localhost:8080/"
        },
        "id": "I3cd3Axdk5xK",
        "outputId": "d7975b85-1cbf-4130-cdee-5462707585e1"
      },
      "execution_count": null,
      "outputs": [
        {
          "output_type": "stream",
          "name": "stdout",
          "text": [
            "              precision    recall  f1-score   support\n",
            "\n",
            "           0       0.98      0.98      0.98      4911\n",
            "           1       0.98      0.99      0.98      5544\n",
            "           2       0.95      0.97      0.96      4896\n",
            "           3       0.97      0.95      0.96      4986\n",
            "           4       0.96      0.97      0.97      4768\n",
            "           5       0.96      0.96      0.96      4384\n",
            "           6       0.98      0.98      0.98      4780\n",
            "           7       0.98      0.96      0.97      5072\n",
            "           8       0.97      0.96      0.96      4757\n",
            "           9       0.96      0.96      0.96      4902\n",
            "\n",
            "    accuracy                           0.97     49000\n",
            "   macro avg       0.97      0.97      0.97     49000\n",
            "weighted avg       0.97      0.97      0.97     49000\n",
            "\n"
          ]
        }
      ]
    },
    {
      "cell_type": "markdown",
      "source": [
        "## AI9022 Training Neural Networks\n",
        "\n",
        "There are two types of parameters in any deep learning model.\n",
        "\n",
        "* Hyperparameters\n",
        "* Learnable \n",
        "\n",
        "Hyperparameters are the parameters that we humans can adjust. Examples of Hyperparameters can be the learning rate, number of hidden layers or number of nodes."
      ],
      "metadata": {
        "id": "eccSHDmlls9p"
      }
    },
    {
      "cell_type": "markdown",
      "source": [
        "## AI9032 Build an Artificial Neural Network\n",
        "\n",
        "#### Classifying Dates\n",
        "\n",
        "In tihs project, we will build a neural network to classify dates. For this we will use the \"Date Fruit Dataset\" available on Kaggle. This dataset includes samples of dates that can be classified into 7 classes according to their types."
      ],
      "metadata": {
        "id": "KeFWdRRQw5_F"
      }
    },
    {
      "cell_type": "markdown",
      "source": [
        "### Importing the required libraries\n",
        "\n",
        "We'll start with importing required libraries.\n",
        "Use the keywords \"import\" and \"from\"."
      ],
      "metadata": {
        "id": "D3SUb7zqxi0V"
      }
    },
    {
      "cell_type": "code",
      "source": [
        "# Import Pandas and Matplotlib\n",
        "\n",
        "import pandas as pd\n",
        "import matplotlib.pyplot as plt\n",
        "\n",
        "# Import Label Encoder and train_test_split\n",
        "from sklearn.preprocessing import LabelEncoder, minmax_scale\n",
        "from sklearn.model_selection import train_test_split"
      ],
      "metadata": {
        "id": "jMsaC7jNlxYO"
      },
      "execution_count": null,
      "outputs": []
    },
    {
      "cell_type": "markdown",
      "source": [
        "### Dataset\n",
        "\n",
        "Let's load the .xlsx file.\n",
        "\n",
        "Use the read_excel() function of the Pandas library."
      ],
      "metadata": {
        "id": "AUcp8xEQyOCu"
      }
    },
    {
      "cell_type": "code",
      "source": [
        "# Read the \"date_fruit.xlsx\" file\n",
        "\n",
        "data = pd.read_excel('/content/date_fruit.xlsx')"
      ],
      "metadata": {
        "id": "nJJFGNenyM5E"
      },
      "execution_count": null,
      "outputs": []
    },
    {
      "cell_type": "markdown",
      "source": [
        "Next, we take a look at the dataset.\n",
        "\n",
        "Use the data.head() function.\n",
        "\n",
        "Use .shape attribute and .uniqe() methods.\n",
        "\n"
      ],
      "metadata": {
        "id": "kGDApW_9yjzy"
      }
    },
    {
      "cell_type": "code",
      "source": [
        "# Use the head() function to display the first 5 rows of the data.\n",
        "\n",
        "data.head()"
      ],
      "metadata": {
        "colab": {
          "base_uri": "https://localhost:8080/",
          "height": 300
        },
        "id": "bhQPZVMZyvLt",
        "outputId": "b308beca-4b37-46b1-8f77-f78fd136dd97"
      },
      "execution_count": null,
      "outputs": [
        {
          "output_type": "execute_result",
          "data": {
            "text/plain": [
              "     AREA  PERIMETER  MAJOR_AXIS  MINOR_AXIS  ECCENTRICITY   EQDIASQ  \\\n",
              "0  422163   2378.908    837.8484    645.6693        0.6373  733.1539   \n",
              "1  338136   2085.144    723.8198    595.2073        0.5690  656.1464   \n",
              "2  526843   2647.394    940.7379    715.3638        0.6494  819.0222   \n",
              "3  416063   2351.210    827.9804    645.2988        0.6266  727.8378   \n",
              "4  347562   2160.354    763.9877    582.8359        0.6465  665.2291   \n",
              "\n",
              "   SOLIDITY  CONVEX_AREA  EXTENT  ASPECT_RATIO  ...  KurtosisRR  KurtosisRG  \\\n",
              "0    0.9947       424428  0.7831        1.2976  ...      3.2370      2.9574   \n",
              "1    0.9974       339014  0.7795        1.2161  ...      2.6228      2.6350   \n",
              "2    0.9962       528876  0.7657        1.3150  ...      3.7516      3.8611   \n",
              "3    0.9948       418255  0.7759        1.2831  ...      5.0401      8.6136   \n",
              "4    0.9908       350797  0.7569        1.3108  ...      2.7016      2.9761   \n",
              "\n",
              "   KurtosisRB    EntropyRR    EntropyRG    EntropyRB  ALLdaub4RR  ALLdaub4RG  \\\n",
              "0      4.2287 -59191263232 -50714214400 -39922372608     58.7255     54.9554   \n",
              "1      3.1704 -34233065472 -37462601728 -31477794816     50.0259     52.8168   \n",
              "2      4.7192 -93948354560 -74738221056 -60311207936     65.4772     59.2860   \n",
              "3      8.2618 -32074307584 -32060925952 -29575010304     43.3900     44.1259   \n",
              "4      4.4146 -39980974080 -35980042240 -25593278464     52.7743     50.9080   \n",
              "\n",
              "   ALLdaub4RB  Class  \n",
              "0     47.8400  BERHI  \n",
              "1     47.8315  BERHI  \n",
              "2     51.9378  BERHI  \n",
              "3     41.1882  BERHI  \n",
              "4     42.6666  BERHI  \n",
              "\n",
              "[5 rows x 35 columns]"
            ],
            "text/html": [
              "\n",
              "  <div id=\"df-863c912e-4ab4-423b-9dc2-add80f2c228a\">\n",
              "    <div class=\"colab-df-container\">\n",
              "      <div>\n",
              "<style scoped>\n",
              "    .dataframe tbody tr th:only-of-type {\n",
              "        vertical-align: middle;\n",
              "    }\n",
              "\n",
              "    .dataframe tbody tr th {\n",
              "        vertical-align: top;\n",
              "    }\n",
              "\n",
              "    .dataframe thead th {\n",
              "        text-align: right;\n",
              "    }\n",
              "</style>\n",
              "<table border=\"1\" class=\"dataframe\">\n",
              "  <thead>\n",
              "    <tr style=\"text-align: right;\">\n",
              "      <th></th>\n",
              "      <th>AREA</th>\n",
              "      <th>PERIMETER</th>\n",
              "      <th>MAJOR_AXIS</th>\n",
              "      <th>MINOR_AXIS</th>\n",
              "      <th>ECCENTRICITY</th>\n",
              "      <th>EQDIASQ</th>\n",
              "      <th>SOLIDITY</th>\n",
              "      <th>CONVEX_AREA</th>\n",
              "      <th>EXTENT</th>\n",
              "      <th>ASPECT_RATIO</th>\n",
              "      <th>...</th>\n",
              "      <th>KurtosisRR</th>\n",
              "      <th>KurtosisRG</th>\n",
              "      <th>KurtosisRB</th>\n",
              "      <th>EntropyRR</th>\n",
              "      <th>EntropyRG</th>\n",
              "      <th>EntropyRB</th>\n",
              "      <th>ALLdaub4RR</th>\n",
              "      <th>ALLdaub4RG</th>\n",
              "      <th>ALLdaub4RB</th>\n",
              "      <th>Class</th>\n",
              "    </tr>\n",
              "  </thead>\n",
              "  <tbody>\n",
              "    <tr>\n",
              "      <th>0</th>\n",
              "      <td>422163</td>\n",
              "      <td>2378.908</td>\n",
              "      <td>837.8484</td>\n",
              "      <td>645.6693</td>\n",
              "      <td>0.6373</td>\n",
              "      <td>733.1539</td>\n",
              "      <td>0.9947</td>\n",
              "      <td>424428</td>\n",
              "      <td>0.7831</td>\n",
              "      <td>1.2976</td>\n",
              "      <td>...</td>\n",
              "      <td>3.2370</td>\n",
              "      <td>2.9574</td>\n",
              "      <td>4.2287</td>\n",
              "      <td>-59191263232</td>\n",
              "      <td>-50714214400</td>\n",
              "      <td>-39922372608</td>\n",
              "      <td>58.7255</td>\n",
              "      <td>54.9554</td>\n",
              "      <td>47.8400</td>\n",
              "      <td>BERHI</td>\n",
              "    </tr>\n",
              "    <tr>\n",
              "      <th>1</th>\n",
              "      <td>338136</td>\n",
              "      <td>2085.144</td>\n",
              "      <td>723.8198</td>\n",
              "      <td>595.2073</td>\n",
              "      <td>0.5690</td>\n",
              "      <td>656.1464</td>\n",
              "      <td>0.9974</td>\n",
              "      <td>339014</td>\n",
              "      <td>0.7795</td>\n",
              "      <td>1.2161</td>\n",
              "      <td>...</td>\n",
              "      <td>2.6228</td>\n",
              "      <td>2.6350</td>\n",
              "      <td>3.1704</td>\n",
              "      <td>-34233065472</td>\n",
              "      <td>-37462601728</td>\n",
              "      <td>-31477794816</td>\n",
              "      <td>50.0259</td>\n",
              "      <td>52.8168</td>\n",
              "      <td>47.8315</td>\n",
              "      <td>BERHI</td>\n",
              "    </tr>\n",
              "    <tr>\n",
              "      <th>2</th>\n",
              "      <td>526843</td>\n",
              "      <td>2647.394</td>\n",
              "      <td>940.7379</td>\n",
              "      <td>715.3638</td>\n",
              "      <td>0.6494</td>\n",
              "      <td>819.0222</td>\n",
              "      <td>0.9962</td>\n",
              "      <td>528876</td>\n",
              "      <td>0.7657</td>\n",
              "      <td>1.3150</td>\n",
              "      <td>...</td>\n",
              "      <td>3.7516</td>\n",
              "      <td>3.8611</td>\n",
              "      <td>4.7192</td>\n",
              "      <td>-93948354560</td>\n",
              "      <td>-74738221056</td>\n",
              "      <td>-60311207936</td>\n",
              "      <td>65.4772</td>\n",
              "      <td>59.2860</td>\n",
              "      <td>51.9378</td>\n",
              "      <td>BERHI</td>\n",
              "    </tr>\n",
              "    <tr>\n",
              "      <th>3</th>\n",
              "      <td>416063</td>\n",
              "      <td>2351.210</td>\n",
              "      <td>827.9804</td>\n",
              "      <td>645.2988</td>\n",
              "      <td>0.6266</td>\n",
              "      <td>727.8378</td>\n",
              "      <td>0.9948</td>\n",
              "      <td>418255</td>\n",
              "      <td>0.7759</td>\n",
              "      <td>1.2831</td>\n",
              "      <td>...</td>\n",
              "      <td>5.0401</td>\n",
              "      <td>8.6136</td>\n",
              "      <td>8.2618</td>\n",
              "      <td>-32074307584</td>\n",
              "      <td>-32060925952</td>\n",
              "      <td>-29575010304</td>\n",
              "      <td>43.3900</td>\n",
              "      <td>44.1259</td>\n",
              "      <td>41.1882</td>\n",
              "      <td>BERHI</td>\n",
              "    </tr>\n",
              "    <tr>\n",
              "      <th>4</th>\n",
              "      <td>347562</td>\n",
              "      <td>2160.354</td>\n",
              "      <td>763.9877</td>\n",
              "      <td>582.8359</td>\n",
              "      <td>0.6465</td>\n",
              "      <td>665.2291</td>\n",
              "      <td>0.9908</td>\n",
              "      <td>350797</td>\n",
              "      <td>0.7569</td>\n",
              "      <td>1.3108</td>\n",
              "      <td>...</td>\n",
              "      <td>2.7016</td>\n",
              "      <td>2.9761</td>\n",
              "      <td>4.4146</td>\n",
              "      <td>-39980974080</td>\n",
              "      <td>-35980042240</td>\n",
              "      <td>-25593278464</td>\n",
              "      <td>52.7743</td>\n",
              "      <td>50.9080</td>\n",
              "      <td>42.6666</td>\n",
              "      <td>BERHI</td>\n",
              "    </tr>\n",
              "  </tbody>\n",
              "</table>\n",
              "<p>5 rows × 35 columns</p>\n",
              "</div>\n",
              "      <button class=\"colab-df-convert\" onclick=\"convertToInteractive('df-863c912e-4ab4-423b-9dc2-add80f2c228a')\"\n",
              "              title=\"Convert this dataframe to an interactive table.\"\n",
              "              style=\"display:none;\">\n",
              "        \n",
              "  <svg xmlns=\"http://www.w3.org/2000/svg\" height=\"24px\"viewBox=\"0 0 24 24\"\n",
              "       width=\"24px\">\n",
              "    <path d=\"M0 0h24v24H0V0z\" fill=\"none\"/>\n",
              "    <path d=\"M18.56 5.44l.94 2.06.94-2.06 2.06-.94-2.06-.94-.94-2.06-.94 2.06-2.06.94zm-11 1L8.5 8.5l.94-2.06 2.06-.94-2.06-.94L8.5 2.5l-.94 2.06-2.06.94zm10 10l.94 2.06.94-2.06 2.06-.94-2.06-.94-.94-2.06-.94 2.06-2.06.94z\"/><path d=\"M17.41 7.96l-1.37-1.37c-.4-.4-.92-.59-1.43-.59-.52 0-1.04.2-1.43.59L10.3 9.45l-7.72 7.72c-.78.78-.78 2.05 0 2.83L4 21.41c.39.39.9.59 1.41.59.51 0 1.02-.2 1.41-.59l7.78-7.78 2.81-2.81c.8-.78.8-2.07 0-2.86zM5.41 20L4 18.59l7.72-7.72 1.47 1.35L5.41 20z\"/>\n",
              "  </svg>\n",
              "      </button>\n",
              "      \n",
              "  <style>\n",
              "    .colab-df-container {\n",
              "      display:flex;\n",
              "      flex-wrap:wrap;\n",
              "      gap: 12px;\n",
              "    }\n",
              "\n",
              "    .colab-df-convert {\n",
              "      background-color: #E8F0FE;\n",
              "      border: none;\n",
              "      border-radius: 50%;\n",
              "      cursor: pointer;\n",
              "      display: none;\n",
              "      fill: #1967D2;\n",
              "      height: 32px;\n",
              "      padding: 0 0 0 0;\n",
              "      width: 32px;\n",
              "    }\n",
              "\n",
              "    .colab-df-convert:hover {\n",
              "      background-color: #E2EBFA;\n",
              "      box-shadow: 0px 1px 2px rgba(60, 64, 67, 0.3), 0px 1px 3px 1px rgba(60, 64, 67, 0.15);\n",
              "      fill: #174EA6;\n",
              "    }\n",
              "\n",
              "    [theme=dark] .colab-df-convert {\n",
              "      background-color: #3B4455;\n",
              "      fill: #D2E3FC;\n",
              "    }\n",
              "\n",
              "    [theme=dark] .colab-df-convert:hover {\n",
              "      background-color: #434B5C;\n",
              "      box-shadow: 0px 1px 3px 1px rgba(0, 0, 0, 0.15);\n",
              "      filter: drop-shadow(0px 1px 2px rgba(0, 0, 0, 0.3));\n",
              "      fill: #FFFFFF;\n",
              "    }\n",
              "  </style>\n",
              "\n",
              "      <script>\n",
              "        const buttonEl =\n",
              "          document.querySelector('#df-863c912e-4ab4-423b-9dc2-add80f2c228a button.colab-df-convert');\n",
              "        buttonEl.style.display =\n",
              "          google.colab.kernel.accessAllowed ? 'block' : 'none';\n",
              "\n",
              "        async function convertToInteractive(key) {\n",
              "          const element = document.querySelector('#df-863c912e-4ab4-423b-9dc2-add80f2c228a');\n",
              "          const dataTable =\n",
              "            await google.colab.kernel.invokeFunction('convertToInteractive',\n",
              "                                                     [key], {});\n",
              "          if (!dataTable) return;\n",
              "\n",
              "          const docLinkHtml = 'Like what you see? Visit the ' +\n",
              "            '<a target=\"_blank\" href=https://colab.research.google.com/notebooks/data_table.ipynb>data table notebook</a>'\n",
              "            + ' to learn more about interactive tables.';\n",
              "          element.innerHTML = '';\n",
              "          dataTable['output_type'] = 'display_data';\n",
              "          await google.colab.output.renderOutput(dataTable, element);\n",
              "          const docLink = document.createElement('div');\n",
              "          docLink.innerHTML = docLinkHtml;\n",
              "          element.appendChild(docLink);\n",
              "        }\n",
              "      </script>\n",
              "    </div>\n",
              "  </div>\n",
              "  "
            ]
          },
          "metadata": {},
          "execution_count": 14
        }
      ]
    },
    {
      "cell_type": "code",
      "source": [
        "# Print the shape pof data and classes\n",
        "\n",
        "print(data.shape)\n",
        "\n",
        "print(data['Class'].unique())"
      ],
      "metadata": {
        "colab": {
          "base_uri": "https://localhost:8080/"
        },
        "id": "OlK0NeZ-y3Ie",
        "outputId": "87c68e93-bd17-4745-c3af-3d7cd03ba70c"
      },
      "execution_count": null,
      "outputs": [
        {
          "output_type": "stream",
          "name": "stdout",
          "text": [
            "(898, 35)\n",
            "['BERHI' 'DEGLET' 'DOKOL' 'IRAQI' 'ROTANA' 'SAFAVI' 'SOGAY']\n"
          ]
        }
      ]
    },
    {
      "cell_type": "markdown",
      "source": [
        "### Preprocessing\n",
        "\n",
        "Now that we have a better understanding of our data, let's split the dataset into features and labels.\n",
        "\n",
        "Create X and y datasets using .drop() and .loc() methods"
      ],
      "metadata": {
        "id": "cm_GGJgrzEGn"
      }
    },
    {
      "cell_type": "code",
      "source": [
        "# Create the features dataset\n",
        "X = data.drop('Class', axis = 1)\n",
        "\n",
        "# Create the labels dataset\n",
        "y = data.loc[:,'Class']"
      ],
      "metadata": {
        "id": "lMl-9Or7zBTM"
      },
      "execution_count": null,
      "outputs": []
    },
    {
      "cell_type": "markdown",
      "source": [
        "### Feature Scaling\n",
        "\n",
        "Having features in different units or ranges can be problematic in deep learning. We need to scale all of the values between the 0 and 1 range.\n",
        "\n",
        "Use the minmax_scale() function of the sklearn library."
      ],
      "metadata": {
        "id": "uOvU9kNozlRV"
      }
    },
    {
      "cell_type": "code",
      "source": [
        "# Normalize the features dataset and assign it to a variable.\n",
        "X_scaled = minmax_scale(X)\n",
        "\n",
        "# Create a DataFrame using the new variable\n",
        "\n",
        "X = pd.DataFrame(X_scaled)"
      ],
      "metadata": {
        "id": "sbZIvZtrzkI_"
      },
      "execution_count": null,
      "outputs": []
    },
    {
      "cell_type": "markdown",
      "source": [
        "Then, we print the X data again so we can see the difference.\n",
        "\n",
        "\n",
        "Use the .head() method"
      ],
      "metadata": {
        "id": "zB7BNdHy0EgK"
      }
    },
    {
      "cell_type": "code",
      "source": [
        "# Print the newly created DataFrame\n",
        "\n",
        "X.head()"
      ],
      "metadata": {
        "colab": {
          "base_uri": "https://localhost:8080/",
          "height": 300
        },
        "id": "1yE9B7jg0LvC",
        "outputId": "58e3fbae-1e7c-4f99-9e21-2871e7049b76"
      },
      "execution_count": null,
      "outputs": [
        {
          "output_type": "execute_result",
          "data": {
            "text/plain": [
              "         0         1         2         3         4         5         6   \\\n",
              "0  0.772274  0.772079  0.565604  0.841941  0.446429  0.871512  0.983209   \n",
              "1  0.617835  0.617480  0.436904  0.775906  0.342186  0.773229  1.000000   \n",
              "2  0.964674  0.913374  0.681733  0.933143  0.464896  0.981104  0.992537   \n",
              "3  0.761063  0.757502  0.554467  0.841456  0.430098  0.864727  0.983831   \n",
              "4  0.635159  0.657060  0.482240  0.759716  0.460470  0.784821  0.958955   \n",
              "\n",
              "         7         8         9   ...        24        25        26        27  \\\n",
              "0  0.767108  0.787438  0.000435  ...  0.395739  0.062495  0.053715  0.080752   \n",
              "1  0.611906  0.776970  0.000282  ...  0.350002  0.037387  0.040885  0.046033   \n",
              "2  0.956896  0.736842  0.000467  ...  0.472509  0.083531  0.089677  0.096843   \n",
              "3  0.755891  0.766502  0.000408  ...  0.687121  0.136202  0.278800  0.213061   \n",
              "4  0.633316  0.711253  0.000459  ...  0.464794  0.040608  0.054459  0.086850   \n",
              "\n",
              "         28        29        30        31        32        33  \n",
              "0  0.458253  0.455197  0.546327  0.673513  0.550537  0.494665  \n",
              "1  0.687312  0.599151  0.643352  0.538923  0.516341  0.494501  \n",
              "2  0.139263  0.194220  0.312066  0.777967  0.619782  0.573507  \n",
              "3  0.707125  0.657830  0.665214  0.436260  0.377376  0.366683  \n",
              "4  0.634560  0.615256  0.710963  0.581443  0.485820  0.395128  \n",
              "\n",
              "[5 rows x 34 columns]"
            ],
            "text/html": [
              "\n",
              "  <div id=\"df-ff62b978-9f8b-4d91-924f-895b7ec20282\">\n",
              "    <div class=\"colab-df-container\">\n",
              "      <div>\n",
              "<style scoped>\n",
              "    .dataframe tbody tr th:only-of-type {\n",
              "        vertical-align: middle;\n",
              "    }\n",
              "\n",
              "    .dataframe tbody tr th {\n",
              "        vertical-align: top;\n",
              "    }\n",
              "\n",
              "    .dataframe thead th {\n",
              "        text-align: right;\n",
              "    }\n",
              "</style>\n",
              "<table border=\"1\" class=\"dataframe\">\n",
              "  <thead>\n",
              "    <tr style=\"text-align: right;\">\n",
              "      <th></th>\n",
              "      <th>0</th>\n",
              "      <th>1</th>\n",
              "      <th>2</th>\n",
              "      <th>3</th>\n",
              "      <th>4</th>\n",
              "      <th>5</th>\n",
              "      <th>6</th>\n",
              "      <th>7</th>\n",
              "      <th>8</th>\n",
              "      <th>9</th>\n",
              "      <th>...</th>\n",
              "      <th>24</th>\n",
              "      <th>25</th>\n",
              "      <th>26</th>\n",
              "      <th>27</th>\n",
              "      <th>28</th>\n",
              "      <th>29</th>\n",
              "      <th>30</th>\n",
              "      <th>31</th>\n",
              "      <th>32</th>\n",
              "      <th>33</th>\n",
              "    </tr>\n",
              "  </thead>\n",
              "  <tbody>\n",
              "    <tr>\n",
              "      <th>0</th>\n",
              "      <td>0.772274</td>\n",
              "      <td>0.772079</td>\n",
              "      <td>0.565604</td>\n",
              "      <td>0.841941</td>\n",
              "      <td>0.446429</td>\n",
              "      <td>0.871512</td>\n",
              "      <td>0.983209</td>\n",
              "      <td>0.767108</td>\n",
              "      <td>0.787438</td>\n",
              "      <td>0.000435</td>\n",
              "      <td>...</td>\n",
              "      <td>0.395739</td>\n",
              "      <td>0.062495</td>\n",
              "      <td>0.053715</td>\n",
              "      <td>0.080752</td>\n",
              "      <td>0.458253</td>\n",
              "      <td>0.455197</td>\n",
              "      <td>0.546327</td>\n",
              "      <td>0.673513</td>\n",
              "      <td>0.550537</td>\n",
              "      <td>0.494665</td>\n",
              "    </tr>\n",
              "    <tr>\n",
              "      <th>1</th>\n",
              "      <td>0.617835</td>\n",
              "      <td>0.617480</td>\n",
              "      <td>0.436904</td>\n",
              "      <td>0.775906</td>\n",
              "      <td>0.342186</td>\n",
              "      <td>0.773229</td>\n",
              "      <td>1.000000</td>\n",
              "      <td>0.611906</td>\n",
              "      <td>0.776970</td>\n",
              "      <td>0.000282</td>\n",
              "      <td>...</td>\n",
              "      <td>0.350002</td>\n",
              "      <td>0.037387</td>\n",
              "      <td>0.040885</td>\n",
              "      <td>0.046033</td>\n",
              "      <td>0.687312</td>\n",
              "      <td>0.599151</td>\n",
              "      <td>0.643352</td>\n",
              "      <td>0.538923</td>\n",
              "      <td>0.516341</td>\n",
              "      <td>0.494501</td>\n",
              "    </tr>\n",
              "    <tr>\n",
              "      <th>2</th>\n",
              "      <td>0.964674</td>\n",
              "      <td>0.913374</td>\n",
              "      <td>0.681733</td>\n",
              "      <td>0.933143</td>\n",
              "      <td>0.464896</td>\n",
              "      <td>0.981104</td>\n",
              "      <td>0.992537</td>\n",
              "      <td>0.956896</td>\n",
              "      <td>0.736842</td>\n",
              "      <td>0.000467</td>\n",
              "      <td>...</td>\n",
              "      <td>0.472509</td>\n",
              "      <td>0.083531</td>\n",
              "      <td>0.089677</td>\n",
              "      <td>0.096843</td>\n",
              "      <td>0.139263</td>\n",
              "      <td>0.194220</td>\n",
              "      <td>0.312066</td>\n",
              "      <td>0.777967</td>\n",
              "      <td>0.619782</td>\n",
              "      <td>0.573507</td>\n",
              "    </tr>\n",
              "    <tr>\n",
              "      <th>3</th>\n",
              "      <td>0.761063</td>\n",
              "      <td>0.757502</td>\n",
              "      <td>0.554467</td>\n",
              "      <td>0.841456</td>\n",
              "      <td>0.430098</td>\n",
              "      <td>0.864727</td>\n",
              "      <td>0.983831</td>\n",
              "      <td>0.755891</td>\n",
              "      <td>0.766502</td>\n",
              "      <td>0.000408</td>\n",
              "      <td>...</td>\n",
              "      <td>0.687121</td>\n",
              "      <td>0.136202</td>\n",
              "      <td>0.278800</td>\n",
              "      <td>0.213061</td>\n",
              "      <td>0.707125</td>\n",
              "      <td>0.657830</td>\n",
              "      <td>0.665214</td>\n",
              "      <td>0.436260</td>\n",
              "      <td>0.377376</td>\n",
              "      <td>0.366683</td>\n",
              "    </tr>\n",
              "    <tr>\n",
              "      <th>4</th>\n",
              "      <td>0.635159</td>\n",
              "      <td>0.657060</td>\n",
              "      <td>0.482240</td>\n",
              "      <td>0.759716</td>\n",
              "      <td>0.460470</td>\n",
              "      <td>0.784821</td>\n",
              "      <td>0.958955</td>\n",
              "      <td>0.633316</td>\n",
              "      <td>0.711253</td>\n",
              "      <td>0.000459</td>\n",
              "      <td>...</td>\n",
              "      <td>0.464794</td>\n",
              "      <td>0.040608</td>\n",
              "      <td>0.054459</td>\n",
              "      <td>0.086850</td>\n",
              "      <td>0.634560</td>\n",
              "      <td>0.615256</td>\n",
              "      <td>0.710963</td>\n",
              "      <td>0.581443</td>\n",
              "      <td>0.485820</td>\n",
              "      <td>0.395128</td>\n",
              "    </tr>\n",
              "  </tbody>\n",
              "</table>\n",
              "<p>5 rows × 34 columns</p>\n",
              "</div>\n",
              "      <button class=\"colab-df-convert\" onclick=\"convertToInteractive('df-ff62b978-9f8b-4d91-924f-895b7ec20282')\"\n",
              "              title=\"Convert this dataframe to an interactive table.\"\n",
              "              style=\"display:none;\">\n",
              "        \n",
              "  <svg xmlns=\"http://www.w3.org/2000/svg\" height=\"24px\"viewBox=\"0 0 24 24\"\n",
              "       width=\"24px\">\n",
              "    <path d=\"M0 0h24v24H0V0z\" fill=\"none\"/>\n",
              "    <path d=\"M18.56 5.44l.94 2.06.94-2.06 2.06-.94-2.06-.94-.94-2.06-.94 2.06-2.06.94zm-11 1L8.5 8.5l.94-2.06 2.06-.94-2.06-.94L8.5 2.5l-.94 2.06-2.06.94zm10 10l.94 2.06.94-2.06 2.06-.94-2.06-.94-.94-2.06-.94 2.06-2.06.94z\"/><path d=\"M17.41 7.96l-1.37-1.37c-.4-.4-.92-.59-1.43-.59-.52 0-1.04.2-1.43.59L10.3 9.45l-7.72 7.72c-.78.78-.78 2.05 0 2.83L4 21.41c.39.39.9.59 1.41.59.51 0 1.02-.2 1.41-.59l7.78-7.78 2.81-2.81c.8-.78.8-2.07 0-2.86zM5.41 20L4 18.59l7.72-7.72 1.47 1.35L5.41 20z\"/>\n",
              "  </svg>\n",
              "      </button>\n",
              "      \n",
              "  <style>\n",
              "    .colab-df-container {\n",
              "      display:flex;\n",
              "      flex-wrap:wrap;\n",
              "      gap: 12px;\n",
              "    }\n",
              "\n",
              "    .colab-df-convert {\n",
              "      background-color: #E8F0FE;\n",
              "      border: none;\n",
              "      border-radius: 50%;\n",
              "      cursor: pointer;\n",
              "      display: none;\n",
              "      fill: #1967D2;\n",
              "      height: 32px;\n",
              "      padding: 0 0 0 0;\n",
              "      width: 32px;\n",
              "    }\n",
              "\n",
              "    .colab-df-convert:hover {\n",
              "      background-color: #E2EBFA;\n",
              "      box-shadow: 0px 1px 2px rgba(60, 64, 67, 0.3), 0px 1px 3px 1px rgba(60, 64, 67, 0.15);\n",
              "      fill: #174EA6;\n",
              "    }\n",
              "\n",
              "    [theme=dark] .colab-df-convert {\n",
              "      background-color: #3B4455;\n",
              "      fill: #D2E3FC;\n",
              "    }\n",
              "\n",
              "    [theme=dark] .colab-df-convert:hover {\n",
              "      background-color: #434B5C;\n",
              "      box-shadow: 0px 1px 3px 1px rgba(0, 0, 0, 0.15);\n",
              "      filter: drop-shadow(0px 1px 2px rgba(0, 0, 0, 0.3));\n",
              "      fill: #FFFFFF;\n",
              "    }\n",
              "  </style>\n",
              "\n",
              "      <script>\n",
              "        const buttonEl =\n",
              "          document.querySelector('#df-ff62b978-9f8b-4d91-924f-895b7ec20282 button.colab-df-convert');\n",
              "        buttonEl.style.display =\n",
              "          google.colab.kernel.accessAllowed ? 'block' : 'none';\n",
              "\n",
              "        async function convertToInteractive(key) {\n",
              "          const element = document.querySelector('#df-ff62b978-9f8b-4d91-924f-895b7ec20282');\n",
              "          const dataTable =\n",
              "            await google.colab.kernel.invokeFunction('convertToInteractive',\n",
              "                                                     [key], {});\n",
              "          if (!dataTable) return;\n",
              "\n",
              "          const docLinkHtml = 'Like what you see? Visit the ' +\n",
              "            '<a target=\"_blank\" href=https://colab.research.google.com/notebooks/data_table.ipynb>data table notebook</a>'\n",
              "            + ' to learn more about interactive tables.';\n",
              "          element.innerHTML = '';\n",
              "          dataTable['output_type'] = 'display_data';\n",
              "          await google.colab.output.renderOutput(dataTable, element);\n",
              "          const docLink = document.createElement('div');\n",
              "          docLink.innerHTML = docLinkHtml;\n",
              "          element.appendChild(docLink);\n",
              "        }\n",
              "      </script>\n",
              "    </div>\n",
              "  </div>\n",
              "  "
            ]
          },
          "metadata": {},
          "execution_count": 18
        }
      ]
    },
    {
      "cell_type": "markdown",
      "source": [
        "Our features are ready for training. Now it's time to prepare the labels.\n",
        "\n",
        "Print y to take a look at it."
      ],
      "metadata": {
        "id": "juq_SAT80Qpw"
      }
    },
    {
      "cell_type": "code",
      "source": [
        "# Print the y array\n",
        "\n",
        "y"
      ],
      "metadata": {
        "colab": {
          "base_uri": "https://localhost:8080/"
        },
        "id": "hEnBegdv0PzK",
        "outputId": "a3edf59e-8644-4236-fcc2-629c47c56a12"
      },
      "execution_count": null,
      "outputs": [
        {
          "output_type": "execute_result",
          "data": {
            "text/plain": [
              "0      BERHI\n",
              "1      BERHI\n",
              "2      BERHI\n",
              "3      BERHI\n",
              "4      BERHI\n",
              "       ...  \n",
              "893    SOGAY\n",
              "894    SOGAY\n",
              "895    SOGAY\n",
              "896    SOGAY\n",
              "897    SOGAY\n",
              "Name: Class, Length: 898, dtype: object"
            ]
          },
          "metadata": {},
          "execution_count": 19
        }
      ]
    },
    {
      "cell_type": "markdown",
      "source": [
        "Artificial intelligence algorithms can't use any string data when training a model because mathematical operations can't be done on them.\n",
        "\n",
        "Use the LabelEncoder of the sklearn library to converting strings to integer. "
      ],
      "metadata": {
        "id": "0Ak2oZ8W06ZT"
      }
    },
    {
      "cell_type": "code",
      "source": [
        "# Create an LabelEncoder object.\n",
        "encoder = LabelEncoder()\n",
        "\n",
        "# Convert string classes to integers using fit_transform() method\n",
        "y = encoder.fit_transform(y)\n"
      ],
      "metadata": {
        "id": "TZnaxgwe04hC"
      },
      "execution_count": null,
      "outputs": []
    },
    {
      "cell_type": "markdown",
      "source": [
        "Then, we print y to check the result."
      ],
      "metadata": {
        "id": "eYLWTRUR2SPB"
      }
    },
    {
      "cell_type": "code",
      "source": [
        "# Print the y array\n",
        "y"
      ],
      "metadata": {
        "colab": {
          "base_uri": "https://localhost:8080/"
        },
        "id": "6KfSd9DF2XOq",
        "outputId": "4a4a487f-a9ef-4895-f041-42ce2bedd69f"
      },
      "execution_count": null,
      "outputs": [
        {
          "output_type": "execute_result",
          "data": {
            "text/plain": [
              "array([0, 0, 0, 0, 0, 0, 0, 0, 0, 0, 0, 0, 0, 0, 0, 0, 0, 0, 0, 0, 0, 0,\n",
              "       0, 0, 0, 0, 0, 0, 0, 0, 0, 0, 0, 0, 0, 0, 0, 0, 0, 0, 0, 0, 0, 0,\n",
              "       0, 0, 0, 0, 0, 0, 0, 0, 0, 0, 0, 0, 0, 0, 0, 0, 0, 0, 0, 0, 0, 1,\n",
              "       1, 1, 1, 1, 1, 1, 1, 1, 1, 1, 1, 1, 1, 1, 1, 1, 1, 1, 1, 1, 1, 1,\n",
              "       1, 1, 1, 1, 1, 1, 1, 1, 1, 1, 1, 1, 1, 1, 1, 1, 1, 1, 1, 1, 1, 1,\n",
              "       1, 1, 1, 1, 1, 1, 1, 1, 1, 1, 1, 1, 1, 1, 1, 1, 1, 1, 1, 1, 1, 1,\n",
              "       1, 1, 1, 1, 1, 1, 1, 1, 1, 1, 1, 1, 1, 1, 1, 1, 1, 1, 1, 1, 1, 1,\n",
              "       1, 1, 1, 1, 1, 1, 1, 1, 1, 2, 2, 2, 2, 2, 2, 2, 2, 2, 2, 2, 2, 2,\n",
              "       2, 2, 2, 2, 2, 2, 2, 2, 2, 2, 2, 2, 2, 2, 2, 2, 2, 2, 2, 2, 2, 2,\n",
              "       2, 2, 2, 2, 2, 2, 2, 2, 2, 2, 2, 2, 2, 2, 2, 2, 2, 2, 2, 2, 2, 2,\n",
              "       2, 2, 2, 2, 2, 2, 2, 2, 2, 2, 2, 2, 2, 2, 2, 2, 2, 2, 2, 2, 2, 2,\n",
              "       2, 2, 2, 2, 2, 2, 2, 2, 2, 2, 2, 2, 2, 2, 2, 2, 2, 2, 2, 2, 2, 2,\n",
              "       2, 2, 2, 2, 2, 2, 2, 2, 2, 2, 2, 2, 2, 2, 2, 2, 2, 2, 2, 2, 2, 2,\n",
              "       2, 2, 2, 2, 2, 2, 2, 2, 2, 2, 2, 2, 2, 2, 2, 2, 2, 2, 2, 2, 2, 2,\n",
              "       2, 2, 2, 2, 2, 2, 2, 2, 2, 2, 2, 2, 2, 2, 2, 2, 2, 2, 2, 2, 2, 2,\n",
              "       2, 2, 2, 2, 2, 2, 2, 2, 2, 2, 2, 2, 2, 2, 2, 2, 2, 2, 2, 2, 2, 2,\n",
              "       2, 2, 2, 2, 2, 2, 2, 2, 2, 2, 2, 2, 2, 2, 2, 3, 3, 3, 3, 3, 3, 3,\n",
              "       3, 3, 3, 3, 3, 3, 3, 3, 3, 3, 3, 3, 3, 3, 3, 3, 3, 3, 3, 3, 3, 3,\n",
              "       3, 3, 3, 3, 3, 3, 3, 3, 3, 3, 3, 3, 3, 3, 3, 3, 3, 3, 3, 3, 3, 3,\n",
              "       3, 3, 3, 3, 3, 3, 3, 3, 3, 3, 3, 3, 3, 3, 3, 3, 3, 3, 3, 3, 3, 4,\n",
              "       4, 4, 4, 4, 4, 4, 4, 4, 4, 4, 4, 4, 4, 4, 4, 4, 4, 4, 4, 4, 4, 4,\n",
              "       4, 4, 4, 4, 4, 4, 4, 4, 4, 4, 4, 4, 4, 4, 4, 4, 4, 4, 4, 4, 4, 4,\n",
              "       4, 4, 4, 4, 4, 4, 4, 4, 4, 4, 4, 4, 4, 4, 4, 4, 4, 4, 4, 4, 4, 4,\n",
              "       4, 4, 4, 4, 4, 4, 4, 4, 4, 4, 4, 4, 4, 4, 4, 4, 4, 4, 4, 4, 4, 4,\n",
              "       4, 4, 4, 4, 4, 4, 4, 4, 4, 4, 4, 4, 4, 4, 4, 4, 4, 4, 4, 4, 4, 4,\n",
              "       4, 4, 4, 4, 4, 4, 4, 4, 4, 4, 4, 4, 4, 4, 4, 4, 4, 4, 4, 4, 4, 4,\n",
              "       4, 4, 4, 4, 4, 4, 4, 4, 4, 4, 4, 4, 4, 4, 4, 4, 4, 4, 4, 4, 4, 4,\n",
              "       4, 4, 4, 4, 4, 4, 4, 4, 4, 4, 4, 5, 5, 5, 5, 5, 5, 5, 5, 5, 5, 5,\n",
              "       5, 5, 5, 5, 5, 5, 5, 5, 5, 5, 5, 5, 5, 5, 5, 5, 5, 5, 5, 5, 5, 5,\n",
              "       5, 5, 5, 5, 5, 5, 5, 5, 5, 5, 5, 5, 5, 5, 5, 5, 5, 5, 5, 5, 5, 5,\n",
              "       5, 5, 5, 5, 5, 5, 5, 5, 5, 5, 5, 5, 5, 5, 5, 5, 5, 5, 5, 5, 5, 5,\n",
              "       5, 5, 5, 5, 5, 5, 5, 5, 5, 5, 5, 5, 5, 5, 5, 5, 5, 5, 5, 5, 5, 5,\n",
              "       5, 5, 5, 5, 5, 5, 5, 5, 5, 5, 5, 5, 5, 5, 5, 5, 5, 5, 5, 5, 5, 5,\n",
              "       5, 5, 5, 5, 5, 5, 5, 5, 5, 5, 5, 5, 5, 5, 5, 5, 5, 5, 5, 5, 5, 5,\n",
              "       5, 5, 5, 5, 5, 5, 5, 5, 5, 5, 5, 5, 5, 5, 5, 5, 5, 5, 5, 5, 5, 5,\n",
              "       5, 5, 5, 5, 5, 5, 5, 5, 5, 5, 5, 5, 5, 5, 5, 5, 5, 5, 5, 5, 5, 5,\n",
              "       5, 5, 5, 5, 5, 5, 5, 5, 5, 5, 5, 5, 6, 6, 6, 6, 6, 6, 6, 6, 6, 6,\n",
              "       6, 6, 6, 6, 6, 6, 6, 6, 6, 6, 6, 6, 6, 6, 6, 6, 6, 6, 6, 6, 6, 6,\n",
              "       6, 6, 6, 6, 6, 6, 6, 6, 6, 6, 6, 6, 6, 6, 6, 6, 6, 6, 6, 6, 6, 6,\n",
              "       6, 6, 6, 6, 6, 6, 6, 6, 6, 6, 6, 6, 6, 6, 6, 6, 6, 6, 6, 6, 6, 6,\n",
              "       6, 6, 6, 6, 6, 6, 6, 6, 6, 6, 6, 6, 6, 6, 6, 6, 6, 6])"
            ]
          },
          "metadata": {},
          "execution_count": 21
        }
      ]
    },
    {
      "cell_type": "markdown",
      "source": [
        "### Splitting \n",
        "\n",
        "Great, that worked out as we wanted it to. We now split the dataset into training, validation and test datasets. In general, the ratio for splitting is 80% for training, 10% for validation and 10% for test sets.\n",
        "\n",
        "Use train_Test_split function of the sklearn library."
      ],
      "metadata": {
        "id": "R_UueMHO2abU"
      }
    },
    {
      "cell_type": "code",
      "source": [
        "# First, create X_train, y_train and X_temporary and y_temporary datasets from X and y.\n",
        "X_train, X_temporary, y_train, y_temporary = train_test_split(X, y, train_size = 0.8)\n",
        "\n",
        "# Using the X_temporary and y_temporary dataset we just created create validation and test datasets.\n",
        "X_val, X_test, y_val, y_test = train_test_split(X_temporary, y_temporary, train_size = 0.5)\n"
      ],
      "metadata": {
        "id": "kMlXEL1t2v0K"
      },
      "execution_count": null,
      "outputs": []
    },
    {
      "cell_type": "markdown",
      "source": [
        "Let's print the total length of th initial dataset and lengths of the newly created datasets to check our results.\n",
        "\n",
        "Use the len() function to print the lengths."
      ],
      "metadata": {
        "id": "uJ1ltNKT3Pfx"
      }
    },
    {
      "cell_type": "code",
      "source": [
        "# Print the lengths of the X, X_train, X_val and X_test\n",
        "\n",
        "print(f'Length of the dataset: {len(X)}')\n",
        "print(f'Length of the training dataset: {len(X_train)}')\n",
        "print(f'Length of the validation dataset: {len(X_val)}')\n",
        "print(f'Length of the test dataset: {len(X_test)}')"
      ],
      "metadata": {
        "colab": {
          "base_uri": "https://localhost:8080/"
        },
        "id": "41Hp_w3F2-lP",
        "outputId": "04603c69-2dfd-434c-f0e8-0421ce5bcd7c"
      },
      "execution_count": null,
      "outputs": [
        {
          "output_type": "stream",
          "name": "stdout",
          "text": [
            "Length of the dataset: 898\n",
            "Length of the training dataset: 718\n",
            "Length of the validation dataset: 90\n",
            "Length of the test dataset: 90\n"
          ]
        }
      ]
    },
    {
      "cell_type": "markdown",
      "source": [
        "### Constructing the Neural Network\n",
        "\n",
        "And with that our data is ready to be used in a model. We can move on to the exciting part: constructing a deep learning model. We'll use TensorFlow for this. To speed up the training time activate the GPU of Google Colab.\n",
        "\n",
        "Import TensorFlow"
      ],
      "metadata": {
        "id": "JVs3A5aY3QIL"
      }
    },
    {
      "cell_type": "code",
      "source": [
        "# Import TensorFlow\n",
        "import tensorflow as tf"
      ],
      "metadata": {
        "id": "_8fbO0H74gO0"
      },
      "execution_count": null,
      "outputs": []
    },
    {
      "cell_type": "markdown",
      "source": [
        "Let's start by creating a model object using Sequential API of Keras.\n",
        "\n",
        "Use tf.keras.Sequential() to create a model object"
      ],
      "metadata": {
        "id": "R-Lr3Uso4nvq"
      }
    },
    {
      "cell_type": "code",
      "source": [
        "# Create a model object\n",
        "\n",
        "model = tf.keras.Sequential()"
      ],
      "metadata": {
        "id": "Vla1hQYO4mpf"
      },
      "execution_count": null,
      "outputs": []
    },
    {
      "cell_type": "markdown",
      "source": [
        "### Input Layer\n",
        "\n",
        "First, we construct an input layer and assing it to a variable. The first argument is the number of nodes we want in that hidden layer. Only for the input layer we have to set input_shape argument which is number of columns , in this case 34. For the activation function we specify \"ReLU\".\n",
        "\n",
        "Use tf.keras.layers.Dense() to create the layer.\n",
        "\n",
        "Use .add() method of the object to add the layer."
      ],
      "metadata": {
        "id": "8n29r9JP40ob"
      }
    },
    {
      "cell_type": "code",
      "source": [
        "# Create an input layer \n",
        "input_layer = tf.keras.layers.Dense(4096, input_shape = (34,), activation = 'relu')\n",
        "\n",
        "# Add input layer to model object\n",
        "model.add(input_layer)"
      ],
      "metadata": {
        "id": "S_1RWCoM4zwZ"
      },
      "execution_count": null,
      "outputs": []
    },
    {
      "cell_type": "markdown",
      "source": [
        "### Hidden Layer\n",
        "\n",
        "Next, we need to add the hidden layers. We'll add 4 hidden layers each with 4096 nodes. Again, we specify ReLU as the activation functions and 0.5 dropouts.\n",
        "\n",
        "Use tf.keras.layers.Dense() to create the layers.\n",
        "\n",
        "Use .add() method of the object to add the layer."
      ],
      "metadata": {
        "id": "KaW5FKZDA1mG"
      }
    },
    {
      "cell_type": "code",
      "source": [
        "# Add the first hidden layer with 4096 nodes and relu activation function\n",
        "model.add(tf.keras.layers.Dense(4096, activation = 'relu'))\n",
        "\n",
        "# Add 0.5 dropout\n",
        "model.add(tf.keras.layers.Dropout(0.5))\n",
        "\n",
        "# Add the second hidden layer with 4096 nodes and relu activation function\n",
        "model.add(tf.keras.layers.Dense(4096, activation = 'relu'))\n",
        "\n",
        "# Add 0.5 dropout\n",
        "model.add(tf.keras.layers.Dropout(0.5))\n",
        "\n",
        "# Add the third hidden layer with 4096 nodes and relu activation function\n",
        "model.add(tf.keras.layers.Dense(4096, activation = 'relu'))\n",
        "\n",
        "# Add 0.5 dropout\n",
        "model.add(tf.keras.layers.Dropout(0.5))\n",
        "\n",
        "# Add the fourth hidden layer with 4096 nodes and relu activation function\n",
        "model.add(tf.keras.layers.Dense(4096, activation = 'relu'))\n",
        "\n",
        "# Add 0.5 dropout\n",
        "model.add(tf.keras.layers.Dropout(0.5))\n"
      ],
      "metadata": {
        "id": "Ov3eQHu-BMUn"
      },
      "execution_count": null,
      "outputs": []
    },
    {
      "cell_type": "markdown",
      "source": [
        "### Output Layer\n",
        "\n",
        "As the last part of our neural network, we add the output layer. The number of nodes will be equal to the number of target classes which is 7 in our case. We'll use the softmax activation function in the output layer."
      ],
      "metadata": {
        "id": "eQm1ooIBCvQD"
      }
    },
    {
      "cell_type": "code",
      "source": [
        "# Add the output layer\n",
        "model.add(tf.keras.layers.Dense(7, activation = 'softmax'))"
      ],
      "metadata": {
        "id": "6OOxeLJJCr-N"
      },
      "execution_count": null,
      "outputs": []
    },
    {
      "cell_type": "markdown",
      "source": [
        "### Optimizer \n",
        "\n",
        "Now we have the structure of our model. To configure the model for training we'll use the .compile() method. Inside the compile method we have to define the following:\n",
        "\n",
        "* \"Adam\" for optimizer\n",
        "\n",
        "* \"Sparse Categorical Crossentropy\" for the loss function\n",
        "\n",
        "Construct the model with the .compile() method"
      ],
      "metadata": {
        "id": "CzCG-0IlDFcd"
      }
    },
    {
      "cell_type": "code",
      "source": [
        "# Compile the model\n",
        "model.compile(optimizer = 'adam', loss = 'sparse_categorical_crossentropy', metrics = ['accuracy'])"
      ],
      "metadata": {
        "id": "qb_JFTuEDEtv"
      },
      "execution_count": null,
      "outputs": []
    },
    {
      "cell_type": "markdown",
      "source": [
        "### Training the model\n",
        "\n",
        "It's time to train the model. We'll give the X_train and y_train datasets as the first wto arguments. These will be used for training. And with the validation_data parameter we'll give the X_val and y_val as a tuple.\n",
        "\n",
        "* Use .fit() method of the model object for the training."
      ],
      "metadata": {
        "id": "qMfNo_bMDjVv"
      }
    },
    {
      "cell_type": "code",
      "source": [
        "# Train the model for 100 epochs\n",
        "results = model.fit(X_train, y_train, epochs = 100, validation_data = (X_val, y_val))"
      ],
      "metadata": {
        "colab": {
          "base_uri": "https://localhost:8080/"
        },
        "id": "wgCPlGJ1ETQm",
        "outputId": "1ccb15a6-eaca-41f4-ba48-b27ead9009a3"
      },
      "execution_count": null,
      "outputs": [
        {
          "output_type": "stream",
          "name": "stdout",
          "text": [
            "Epoch 1/100\n",
            "23/23 [==============================] - 4s 26ms/step - loss: 1.6604 - accuracy: 0.3691 - val_loss: 0.8462 - val_accuracy: 0.6667\n",
            "Epoch 2/100\n",
            "23/23 [==============================] - 0s 17ms/step - loss: 0.8242 - accuracy: 0.6908 - val_loss: 0.8757 - val_accuracy: 0.6556\n",
            "Epoch 3/100\n",
            "23/23 [==============================] - 0s 17ms/step - loss: 0.6946 - accuracy: 0.7354 - val_loss: 0.6356 - val_accuracy: 0.7333\n",
            "Epoch 4/100\n",
            "23/23 [==============================] - 0s 18ms/step - loss: 0.5670 - accuracy: 0.7953 - val_loss: 0.8901 - val_accuracy: 0.7444\n",
            "Epoch 5/100\n",
            "23/23 [==============================] - 0s 17ms/step - loss: 0.5715 - accuracy: 0.7841 - val_loss: 0.4733 - val_accuracy: 0.8222\n",
            "Epoch 6/100\n",
            "23/23 [==============================] - 0s 17ms/step - loss: 0.4897 - accuracy: 0.8036 - val_loss: 0.5923 - val_accuracy: 0.8111\n",
            "Epoch 7/100\n",
            "23/23 [==============================] - 0s 17ms/step - loss: 0.5878 - accuracy: 0.7688 - val_loss: 0.5785 - val_accuracy: 0.8222\n",
            "Epoch 8/100\n",
            "23/23 [==============================] - 0s 18ms/step - loss: 0.4594 - accuracy: 0.8162 - val_loss: 0.5351 - val_accuracy: 0.7889\n",
            "Epoch 9/100\n",
            "23/23 [==============================] - 0s 18ms/step - loss: 0.4128 - accuracy: 0.8315 - val_loss: 0.6187 - val_accuracy: 0.8333\n",
            "Epoch 10/100\n",
            "23/23 [==============================] - 0s 22ms/step - loss: 0.5357 - accuracy: 0.7883 - val_loss: 0.6418 - val_accuracy: 0.7333\n",
            "Epoch 11/100\n",
            "23/23 [==============================] - 1s 23ms/step - loss: 0.4074 - accuracy: 0.8287 - val_loss: 0.5056 - val_accuracy: 0.8333\n",
            "Epoch 12/100\n",
            "23/23 [==============================] - 1s 25ms/step - loss: 0.4675 - accuracy: 0.8022 - val_loss: 0.4783 - val_accuracy: 0.8556\n",
            "Epoch 13/100\n",
            "23/23 [==============================] - 0s 18ms/step - loss: 0.3938 - accuracy: 0.8301 - val_loss: 0.5478 - val_accuracy: 0.8000\n",
            "Epoch 14/100\n",
            "23/23 [==============================] - 0s 18ms/step - loss: 0.3791 - accuracy: 0.8426 - val_loss: 0.4854 - val_accuracy: 0.8667\n",
            "Epoch 15/100\n",
            "23/23 [==============================] - 0s 18ms/step - loss: 0.3573 - accuracy: 0.8579 - val_loss: 0.7423 - val_accuracy: 0.7667\n",
            "Epoch 16/100\n",
            "23/23 [==============================] - 0s 17ms/step - loss: 0.4928 - accuracy: 0.8189 - val_loss: 0.4536 - val_accuracy: 0.8667\n",
            "Epoch 17/100\n",
            "23/23 [==============================] - 0s 17ms/step - loss: 0.3770 - accuracy: 0.8384 - val_loss: 0.5378 - val_accuracy: 0.8111\n",
            "Epoch 18/100\n",
            "23/23 [==============================] - 0s 19ms/step - loss: 0.4094 - accuracy: 0.8496 - val_loss: 0.5965 - val_accuracy: 0.8556\n",
            "Epoch 19/100\n",
            "23/23 [==============================] - 0s 19ms/step - loss: 0.3556 - accuracy: 0.8677 - val_loss: 0.5345 - val_accuracy: 0.8778\n",
            "Epoch 20/100\n",
            "23/23 [==============================] - 0s 19ms/step - loss: 0.6461 - accuracy: 0.7813 - val_loss: 0.8339 - val_accuracy: 0.7333\n",
            "Epoch 21/100\n",
            "23/23 [==============================] - 0s 18ms/step - loss: 0.4664 - accuracy: 0.8189 - val_loss: 0.5169 - val_accuracy: 0.7889\n",
            "Epoch 22/100\n",
            "23/23 [==============================] - 0s 21ms/step - loss: 0.4021 - accuracy: 0.8538 - val_loss: 0.6085 - val_accuracy: 0.8000\n",
            "Epoch 23/100\n",
            "23/23 [==============================] - 0s 20ms/step - loss: 0.3516 - accuracy: 0.8788 - val_loss: 0.5105 - val_accuracy: 0.7889\n",
            "Epoch 24/100\n",
            "23/23 [==============================] - 0s 18ms/step - loss: 0.3688 - accuracy: 0.8538 - val_loss: 0.5355 - val_accuracy: 0.8222\n",
            "Epoch 25/100\n",
            "23/23 [==============================] - 0s 18ms/step - loss: 0.3601 - accuracy: 0.8593 - val_loss: 0.4884 - val_accuracy: 0.8778\n",
            "Epoch 26/100\n",
            "23/23 [==============================] - 0s 18ms/step - loss: 0.3115 - accuracy: 0.8705 - val_loss: 0.6701 - val_accuracy: 0.8111\n",
            "Epoch 27/100\n",
            "23/23 [==============================] - 0s 20ms/step - loss: 0.3619 - accuracy: 0.8649 - val_loss: 0.7115 - val_accuracy: 0.7778\n",
            "Epoch 28/100\n",
            "23/23 [==============================] - 0s 19ms/step - loss: 0.4895 - accuracy: 0.8384 - val_loss: 0.5647 - val_accuracy: 0.8000\n",
            "Epoch 29/100\n",
            "23/23 [==============================] - 0s 18ms/step - loss: 0.5095 - accuracy: 0.8092 - val_loss: 0.6204 - val_accuracy: 0.8556\n",
            "Epoch 30/100\n",
            "23/23 [==============================] - 0s 20ms/step - loss: 0.3410 - accuracy: 0.8830 - val_loss: 0.9326 - val_accuracy: 0.7556\n",
            "Epoch 31/100\n",
            "23/23 [==============================] - 0s 19ms/step - loss: 0.3560 - accuracy: 0.8482 - val_loss: 0.4674 - val_accuracy: 0.8667\n",
            "Epoch 32/100\n",
            "23/23 [==============================] - 0s 19ms/step - loss: 0.3325 - accuracy: 0.8816 - val_loss: 0.6639 - val_accuracy: 0.8222\n",
            "Epoch 33/100\n",
            "23/23 [==============================] - 0s 19ms/step - loss: 0.3322 - accuracy: 0.8816 - val_loss: 0.5429 - val_accuracy: 0.8667\n",
            "Epoch 34/100\n",
            "23/23 [==============================] - 0s 19ms/step - loss: 0.3671 - accuracy: 0.8733 - val_loss: 0.4048 - val_accuracy: 0.8889\n",
            "Epoch 35/100\n",
            "23/23 [==============================] - 0s 19ms/step - loss: 0.3533 - accuracy: 0.8691 - val_loss: 0.3888 - val_accuracy: 0.8778\n",
            "Epoch 36/100\n",
            "23/23 [==============================] - 0s 19ms/step - loss: 0.3538 - accuracy: 0.8900 - val_loss: 0.4797 - val_accuracy: 0.8333\n",
            "Epoch 37/100\n",
            "23/23 [==============================] - 0s 20ms/step - loss: 0.3968 - accuracy: 0.8468 - val_loss: 0.5074 - val_accuracy: 0.7667\n",
            "Epoch 38/100\n",
            "23/23 [==============================] - 0s 19ms/step - loss: 0.3749 - accuracy: 0.8552 - val_loss: 0.5347 - val_accuracy: 0.8556\n",
            "Epoch 39/100\n",
            "23/23 [==============================] - 0s 18ms/step - loss: 0.3086 - accuracy: 0.8928 - val_loss: 0.7626 - val_accuracy: 0.8333\n",
            "Epoch 40/100\n",
            "23/23 [==============================] - 0s 18ms/step - loss: 0.3629 - accuracy: 0.8663 - val_loss: 0.4552 - val_accuracy: 0.8556\n",
            "Epoch 41/100\n",
            "23/23 [==============================] - 0s 17ms/step - loss: 0.3564 - accuracy: 0.8677 - val_loss: 0.5980 - val_accuracy: 0.8222\n",
            "Epoch 42/100\n",
            "23/23 [==============================] - 0s 17ms/step - loss: 0.2519 - accuracy: 0.9011 - val_loss: 0.5258 - val_accuracy: 0.8778\n",
            "Epoch 43/100\n",
            "23/23 [==============================] - 0s 18ms/step - loss: 0.3070 - accuracy: 0.8983 - val_loss: 0.5583 - val_accuracy: 0.8667\n",
            "Epoch 44/100\n",
            "23/23 [==============================] - 0s 18ms/step - loss: 0.3257 - accuracy: 0.8900 - val_loss: 0.6004 - val_accuracy: 0.8556\n",
            "Epoch 45/100\n",
            "23/23 [==============================] - 0s 19ms/step - loss: 0.2832 - accuracy: 0.8969 - val_loss: 0.5575 - val_accuracy: 0.8333\n",
            "Epoch 46/100\n",
            "23/23 [==============================] - 0s 19ms/step - loss: 0.3275 - accuracy: 0.8844 - val_loss: 0.4571 - val_accuracy: 0.8000\n",
            "Epoch 47/100\n",
            "23/23 [==============================] - 0s 20ms/step - loss: 0.3245 - accuracy: 0.8802 - val_loss: 0.4964 - val_accuracy: 0.8778\n",
            "Epoch 48/100\n",
            "23/23 [==============================] - 0s 19ms/step - loss: 0.2792 - accuracy: 0.9123 - val_loss: 0.7155 - val_accuracy: 0.8222\n",
            "Epoch 49/100\n",
            "23/23 [==============================] - 0s 20ms/step - loss: 0.2844 - accuracy: 0.8942 - val_loss: 0.4810 - val_accuracy: 0.8889\n",
            "Epoch 50/100\n",
            "23/23 [==============================] - 0s 18ms/step - loss: 0.2815 - accuracy: 0.8942 - val_loss: 0.5879 - val_accuracy: 0.8667\n",
            "Epoch 51/100\n",
            "23/23 [==============================] - 0s 20ms/step - loss: 0.2815 - accuracy: 0.8955 - val_loss: 0.5710 - val_accuracy: 0.7889\n",
            "Epoch 52/100\n",
            "23/23 [==============================] - 0s 20ms/step - loss: 0.3062 - accuracy: 0.8886 - val_loss: 0.5115 - val_accuracy: 0.8778\n",
            "Epoch 53/100\n",
            "23/23 [==============================] - 1s 26ms/step - loss: 0.2635 - accuracy: 0.8969 - val_loss: 0.4892 - val_accuracy: 0.8778\n",
            "Epoch 54/100\n",
            "23/23 [==============================] - 0s 19ms/step - loss: 0.3653 - accuracy: 0.8774 - val_loss: 0.5810 - val_accuracy: 0.8000\n",
            "Epoch 55/100\n",
            "23/23 [==============================] - 0s 18ms/step - loss: 0.2548 - accuracy: 0.9095 - val_loss: 0.5177 - val_accuracy: 0.8444\n",
            "Epoch 56/100\n",
            "23/23 [==============================] - 0s 19ms/step - loss: 0.2648 - accuracy: 0.9011 - val_loss: 0.5074 - val_accuracy: 0.9000\n",
            "Epoch 57/100\n",
            "23/23 [==============================] - 1s 23ms/step - loss: 0.2296 - accuracy: 0.9081 - val_loss: 0.6868 - val_accuracy: 0.8444\n",
            "Epoch 58/100\n",
            "23/23 [==============================] - 0s 18ms/step - loss: 0.2428 - accuracy: 0.9123 - val_loss: 0.5620 - val_accuracy: 0.8222\n",
            "Epoch 59/100\n",
            "23/23 [==============================] - 0s 19ms/step - loss: 0.2927 - accuracy: 0.8788 - val_loss: 0.5313 - val_accuracy: 0.8111\n",
            "Epoch 60/100\n",
            "23/23 [==============================] - 0s 19ms/step - loss: 0.2390 - accuracy: 0.9039 - val_loss: 0.5065 - val_accuracy: 0.8444\n",
            "Epoch 61/100\n",
            "23/23 [==============================] - 0s 18ms/step - loss: 0.2298 - accuracy: 0.9192 - val_loss: 0.6151 - val_accuracy: 0.8778\n",
            "Epoch 62/100\n",
            "23/23 [==============================] - 0s 19ms/step - loss: 0.2811 - accuracy: 0.8914 - val_loss: 0.5521 - val_accuracy: 0.8000\n",
            "Epoch 63/100\n",
            "23/23 [==============================] - 0s 18ms/step - loss: 0.3224 - accuracy: 0.8760 - val_loss: 0.5552 - val_accuracy: 0.8222\n",
            "Epoch 64/100\n",
            "23/23 [==============================] - 0s 20ms/step - loss: 0.3831 - accuracy: 0.8482 - val_loss: 0.5491 - val_accuracy: 0.8889\n",
            "Epoch 65/100\n",
            "23/23 [==============================] - 0s 21ms/step - loss: 0.2323 - accuracy: 0.9067 - val_loss: 0.6049 - val_accuracy: 0.9000\n",
            "Epoch 66/100\n",
            "23/23 [==============================] - 0s 21ms/step - loss: 0.3120 - accuracy: 0.8872 - val_loss: 0.4535 - val_accuracy: 0.8667\n",
            "Epoch 67/100\n",
            "23/23 [==============================] - 0s 17ms/step - loss: 0.2225 - accuracy: 0.9150 - val_loss: 0.3956 - val_accuracy: 0.9000\n",
            "Epoch 68/100\n",
            "23/23 [==============================] - 0s 17ms/step - loss: 0.2675 - accuracy: 0.9109 - val_loss: 0.4737 - val_accuracy: 0.8778\n",
            "Epoch 69/100\n",
            "23/23 [==============================] - 0s 19ms/step - loss: 0.2303 - accuracy: 0.9136 - val_loss: 0.4740 - val_accuracy: 0.9111\n",
            "Epoch 70/100\n",
            "23/23 [==============================] - 1s 22ms/step - loss: 0.2514 - accuracy: 0.9011 - val_loss: 0.5508 - val_accuracy: 0.8778\n",
            "Epoch 71/100\n",
            "23/23 [==============================] - 0s 18ms/step - loss: 0.2573 - accuracy: 0.8969 - val_loss: 0.4583 - val_accuracy: 0.8889\n",
            "Epoch 72/100\n",
            "23/23 [==============================] - 0s 19ms/step - loss: 0.2514 - accuracy: 0.9095 - val_loss: 0.6168 - val_accuracy: 0.8222\n",
            "Epoch 73/100\n",
            "23/23 [==============================] - 0s 21ms/step - loss: 0.2573 - accuracy: 0.8983 - val_loss: 0.5394 - val_accuracy: 0.8889\n",
            "Epoch 74/100\n",
            "23/23 [==============================] - 0s 19ms/step - loss: 0.2123 - accuracy: 0.9206 - val_loss: 0.4800 - val_accuracy: 0.8667\n",
            "Epoch 75/100\n",
            "23/23 [==============================] - 0s 19ms/step - loss: 0.1791 - accuracy: 0.9248 - val_loss: 0.4863 - val_accuracy: 0.8778\n",
            "Epoch 76/100\n",
            "23/23 [==============================] - 0s 21ms/step - loss: 0.1894 - accuracy: 0.9192 - val_loss: 0.4256 - val_accuracy: 0.8889\n",
            "Epoch 77/100\n",
            "23/23 [==============================] - 0s 19ms/step - loss: 0.2538 - accuracy: 0.9109 - val_loss: 0.6687 - val_accuracy: 0.8444\n",
            "Epoch 78/100\n",
            "23/23 [==============================] - 0s 20ms/step - loss: 0.2425 - accuracy: 0.9067 - val_loss: 0.4169 - val_accuracy: 0.9111\n",
            "Epoch 79/100\n",
            "23/23 [==============================] - 0s 18ms/step - loss: 0.2068 - accuracy: 0.9206 - val_loss: 0.3626 - val_accuracy: 0.9000\n",
            "Epoch 80/100\n",
            "23/23 [==============================] - 0s 19ms/step - loss: 0.1965 - accuracy: 0.9220 - val_loss: 0.5174 - val_accuracy: 0.8778\n",
            "Epoch 81/100\n",
            "23/23 [==============================] - 0s 18ms/step - loss: 0.2453 - accuracy: 0.9136 - val_loss: 0.4822 - val_accuracy: 0.8444\n",
            "Epoch 82/100\n",
            "23/23 [==============================] - 0s 18ms/step - loss: 0.2795 - accuracy: 0.8969 - val_loss: 0.4788 - val_accuracy: 0.8556\n",
            "Epoch 83/100\n",
            "23/23 [==============================] - 0s 18ms/step - loss: 0.2112 - accuracy: 0.9150 - val_loss: 0.4842 - val_accuracy: 0.9000\n",
            "Epoch 84/100\n",
            "23/23 [==============================] - 0s 19ms/step - loss: 0.3401 - accuracy: 0.8886 - val_loss: 0.5116 - val_accuracy: 0.8667\n",
            "Epoch 85/100\n",
            "23/23 [==============================] - 0s 18ms/step - loss: 0.2187 - accuracy: 0.9178 - val_loss: 0.5286 - val_accuracy: 0.9000\n",
            "Epoch 86/100\n",
            "23/23 [==============================] - 0s 18ms/step - loss: 0.3339 - accuracy: 0.8705 - val_loss: 0.4717 - val_accuracy: 0.8778\n",
            "Epoch 87/100\n",
            "23/23 [==============================] - 0s 20ms/step - loss: 0.2270 - accuracy: 0.9248 - val_loss: 0.4149 - val_accuracy: 0.8889\n",
            "Epoch 88/100\n",
            "23/23 [==============================] - 0s 19ms/step - loss: 0.2194 - accuracy: 0.9053 - val_loss: 0.9488 - val_accuracy: 0.8111\n",
            "Epoch 89/100\n",
            "23/23 [==============================] - 0s 18ms/step - loss: 0.2370 - accuracy: 0.9178 - val_loss: 0.4670 - val_accuracy: 0.8889\n",
            "Epoch 90/100\n",
            "23/23 [==============================] - 0s 18ms/step - loss: 0.2221 - accuracy: 0.8955 - val_loss: 0.6266 - val_accuracy: 0.8667\n",
            "Epoch 91/100\n",
            "23/23 [==============================] - 0s 18ms/step - loss: 0.2724 - accuracy: 0.8928 - val_loss: 0.5137 - val_accuracy: 0.9000\n",
            "Epoch 92/100\n",
            "23/23 [==============================] - 0s 18ms/step - loss: 0.2607 - accuracy: 0.8983 - val_loss: 0.4626 - val_accuracy: 0.8667\n",
            "Epoch 93/100\n",
            "23/23 [==============================] - 1s 24ms/step - loss: 0.2292 - accuracy: 0.9011 - val_loss: 0.4466 - val_accuracy: 0.8667\n",
            "Epoch 94/100\n",
            "23/23 [==============================] - 0s 21ms/step - loss: 0.2027 - accuracy: 0.9053 - val_loss: 0.5479 - val_accuracy: 0.8667\n",
            "Epoch 95/100\n",
            "23/23 [==============================] - 0s 21ms/step - loss: 0.2321 - accuracy: 0.9095 - val_loss: 0.4197 - val_accuracy: 0.9000\n",
            "Epoch 96/100\n",
            "23/23 [==============================] - 0s 20ms/step - loss: 0.2317 - accuracy: 0.9109 - val_loss: 0.5193 - val_accuracy: 0.8778\n",
            "Epoch 97/100\n",
            "23/23 [==============================] - 0s 20ms/step - loss: 0.2258 - accuracy: 0.9178 - val_loss: 0.4208 - val_accuracy: 0.8778\n",
            "Epoch 98/100\n",
            "23/23 [==============================] - 0s 22ms/step - loss: 0.2495 - accuracy: 0.9164 - val_loss: 0.6366 - val_accuracy: 0.8778\n",
            "Epoch 99/100\n",
            "23/23 [==============================] - 0s 18ms/step - loss: 0.2134 - accuracy: 0.9192 - val_loss: 0.4673 - val_accuracy: 0.8556\n",
            "Epoch 100/100\n",
            "23/23 [==============================] - 0s 19ms/step - loss: 0.3063 - accuracy: 0.8858 - val_loss: 0.5692 - val_accuracy: 0.8889\n"
          ]
        }
      ]
    },
    {
      "cell_type": "markdown",
      "source": [
        "### Visualize the Result\n",
        "\n",
        "After the model is trained we can create a graph to visualize the chamge of loss over time. Results are held in:\n",
        "\n",
        "* results.history[\"loss\"]\n",
        "\n",
        "* results.history[\"val_loss\"]\n",
        "\n",
        "Use plt.show() to display the graph."
      ],
      "metadata": {
        "id": "2Ha2LieWFlrg"
      }
    },
    {
      "cell_type": "code",
      "source": [
        "# Plot the training loss\n",
        "plt.plot(results.history['loss'], label = 'Train')\n",
        "\n",
        "# Plot the validation loss\n",
        "plt.plot(results.history['val_loss'], label = 'Test')\n",
        "\n",
        "# Name the x and y axises\n",
        "plt.ylabel('Loss')\n",
        "plt.xlabel('Epoch')\n",
        "\n",
        "# Put legend table\n",
        "plt.legend()\n",
        "\n",
        "# Show the plot\n",
        "plt.show()"
      ],
      "metadata": {
        "colab": {
          "base_uri": "https://localhost:8080/",
          "height": 279
        },
        "id": "uf0xBTZKFMnK",
        "outputId": "0e187ead-c873-4769-97ad-9bc69b9a15b5"
      },
      "execution_count": null,
      "outputs": [
        {
          "output_type": "display_data",
          "data": {
            "text/plain": [
              "<Figure size 432x288 with 1 Axes>"
            ],
            "image/png": "[encoded data removed]"
          },
          "metadata": {
            "needs_background": "light"
          }
        }
      ]
    },
    {
      "cell_type": "markdown",
      "source": [
        "### Performance Evaluation\n",
        "\n",
        "Finally, we are going to use the test dataset we created to evaluate the performance of the model.\n",
        "\n",
        "Use test_on_batch() method with test dataset as parameter"
      ],
      "metadata": {
        "id": "dpP1MXZ_Gzvu"
      }
    },
    {
      "cell_type": "code",
      "source": [
        "# Evaluate the performance\n",
        "test_result = model.test_on_batch(X_test, y_test)\n",
        "\n",
        "# Print the result\n",
        "print(test_result)"
      ],
      "metadata": {
        "colab": {
          "base_uri": "https://localhost:8080/"
        },
        "id": "4tjpTs2CGmw4",
        "outputId": "e203a60c-e89a-4e1d-9169-695ac918a5d2"
      },
      "execution_count": null,
      "outputs": [
        {
          "output_type": "stream",
          "name": "stdout",
          "text": [
            "[0.2716849446296692, 0.9222221970558167]\n"
          ]
        }
      ]
    },
    {
      "cell_type": "markdown",
      "source": [
        "### AI9041 Convolution and Filters\n",
        "\n",
        "Hello and welcome back! Look around, we perceive the world in 3D. Beautifully composed music, images, videos. They are all in 3D for us humans, but what about computers? What do they see, how do they perceive the world around them? Well, they only see numbers. The images are numbers, the videos are numbers, the audios are numbers, even texts are numbers. Of course these numbers relate to each other, but how do computers know how?\n",
        "\n",
        " \n",
        "\n",
        "Let’s start with an example. Here we have images of some cars and airplanes, we want to differentiate these two classes. Computers see these images as numbers and if we want to teach computers how to classify them, these numbers need to make sense. Each number alone might not be enough to tell anything about the image. But all of them together will hold useful information. So, computers have to comprehend these numbers in their context, where they are located and how they relate to each other. For this reason, spatial information can be very important. In this video, we will talk about spatial information, convolution and some conventional image processing techniques. Images are 2-dimensional arrays or matrices. In grayscale images, there is only 1 channel and in colored images, there are three channels RGB: red, green, and blue. A pixel in the grayscale image is a single value. And a pixel in an RGB image is an array of 3 values. The value can usually be between 0 to 255 or it can be scaled to 0 to 1. Here 0 represents no color and 1 represents full color. Each pixel can be used as a feature. Thus, the input to the neural network,, is the total number of pixels in the image. For example, in this 32 by 32 image, there are 1024 pixels in total. Since it is grayscale, each pixel only has 1 value, so in order to feed this to our neural network, we need an input layer of 1024 units.\n",
        "\n",
        " \n",
        "\n",
        "This number is big and it will cost us some computation time. But there is a bigger problem with using pixels as features. The model cannot identify which pixels are closer to each other and which ones are far. As you can see, this pixel is closer to this one compared to this pixel. However, a neural network does not discriminate between different pixels. If we want our model to perform better, we need features that consider neighboring pixels, that give us this spatial information. For this, we need to study one of the conventional methods that were used to extract information from the images: Convolution. It is a simple mathematical operation where a weighted sum is calculated of each element and its neighbors. This helps the computer to somewhat understand the spatial context of the data. In convolution, we have a predefined kernel which is also referred to as convolutional filter. We multiply the elements of the kernel, with the elements in the window in the top left corner of the image. Element by element. Then we add these products. And the sum of the products is a new pixel value which is written on the output grid. Then the kernel slides one step to the right side, and the sum of products with this window is calculated, and it is written on the output grid. The kernel slides again and the process is repeated until the kernel has slid over the entire image and the output grid is complete. You might have noticed that the output does not have the same dimensions as the input image due to the edges. But don’t worry now, we will talk about them in upcoming videos.\n",
        "\n",
        " \n",
        "\n",
        "Convolution is a linear process. This means the value of the output pixel is a linear combination of the neighboring input pixels. The most important application of convolution is that, it can extract features that account for the spatial context of the image. For example, consider this vertical edge detection filter. Whenever this filter sees a sudden jump vertically, the corresponding pixel in the output will spike. Similarly, we have a horizontal edge detection which detects the horizontal edges. There are other types of edge detection filters. For example, the Sobel filter. There is also a Laplacian filter. It highlights regions of rapid intensity change and is therefore often used for edge detection. These convolutional kernels are used to extract the important features from the image. One kernel might not be enough to extract the features. So, multiple kernels are used to compute multiple feature maps. And these feature maps can be fed into our neural network. Now, our neural network has context spatial information on more than just the pixels. Convolutional filter can denoise an input. For example, using the so-called mean filter, convolution can help to reduce the unwanted noise from an image. The mean filter averages the content of each window of the input image, and outputs a smoother version of it without any sudden jumps. Now, the salt and pepper noise in the input is removed by taking the local averages. So, when the pixel is black and neighboring pixels are white, the result will be very light gray. And when the pixel is white and all its neighbors are black, the result would be dark gray. Thus, it smoothens the input. So far, we have seen examples from images because it is easier for us humans to comprehend how convolution works with visual data. Images are 2D data but the convolutional filters can be applied to 1D or 3D data as well, they don’t always have to be 2D. For example, we might want to use 1D convolution for audio or textual data, 2D for images and 3D for videos.\n",
        "\n",
        " \n",
        "\n",
        "In this video, we learned that using pixels directly as features may not give all the required information computers need to understand the data. We learned what convolution is, how it is performed and we discussed different types of convolutional kernels. Finally, we discussed how these kernels are used to extract features, which deliver the needed spatial information. The convolutional filters that we discussed were engineered by great computer scientists and mathematicians, but there are only a limited number of defined convolutional filters. And this, limits the information we can extract from the input. But what if the filter values were not fixed and were learned by our model? Now, we can have as many filters as we like and now more information can be extracted. How to do it? Well, stay tuned, that is for our next video. Convolutional Neural Networks, or as we call them CNNs. See you there!"
      ],
      "metadata": {
        "id": "odQKKzXCj5BT"
      }
    },
    {
      "cell_type": "markdown",
      "source": [
        "### AI9042 Convolutional Neural Network\n",
        "\n",
        "Hello again! In the previous video, we learned about convolution and convolutional kernels or filters. We also discussed some of the predefined convolutional filters. But what about the ones that are not predefined? In this video, we will find out how the filter values can be learned by the model, and how feature extraction can happen without manually set filters. All of this will help us learn the most crucial component in almost all the deep learning architectures: Convolutional Neural Networks (CNNs).\n",
        "\n",
        " \n",
        "\n",
        "Convolutional Neural Networks improve the performance of classification models. In addition, they serve as the basis for more complicated tasks and, can be used to solve some common computer vision problems. One such problem is: Semantic segmentation. In semantic segmentation, every pixel in the image is classified. In practice, such models can be used to segment invasive and non-invasive tumor tissues in medical images. Another computer vision problem: Object detection. It is the model which detects different objects in the image and draws bounding boxes around them. Object detection is often used by street surveillance systems that are able to count the people on the streets. Instance Segmentation. Instance segmentation is a combination of semantic segmentation and object detection. It detects each object uniquely and segments it. It is used in autonomous vehicles. It identifies different cars and classifies each pixel of them. These tasks are pretty exciting, aren’t they? In order to understand the complex architectures of these models, we need to understand what CNNs do and how they do it?\n",
        "\n",
        " \n",
        "\n",
        "Convolutional Neural Networks are made of convolutional kernels with learnable filter values. We refer to these filter values as weights because, in convolution, these values are used to take the weighted sum of the input window. Similar to artificial neural networks, we also have a bias term for these filters to accommodate biases of the data. Also, similar to ANNs, these weights and biases are randomly initialized and learned iteratively. In short, we want to learn the features and automate the extraction process so that hand-crafted features are not required. Instead of hard-coded or handcrafted boring filters, we might have some interesting filters like these. You can see some of them will function as edge detectors or blob detectors. When you look at people around you, you see everyone has a different face, unless they are identical twins of course. Even though everyone has a nose, two eyes, two ears, lips, and hair, your brain can still identify everyone individually. What if you only relied on pixel-level information? Or even the information about the edges, sizes, and colors of these facial features? You might have some problems recognizing your friends. This is because your brain does not rely on low-level or simple high-level features. It combines the information from these edges, sizes, and colors and creates even complex features like the shape of the nose, hairstyle, or facial expressions.\n",
        "\n",
        " \n",
        "\n",
        "So why should we limit ourselves to only a simple convolutional neural network? Instead, we can have multiple convolutional layers in the network. Each layer has filters with weights and biases, and an activation function. Here every layer extracts the information from the previous layer and builds up complex information from simple pixel-wise raw data. We saw how Artificial Neural Networks try to mimic the neural networks of our brain. The weights and biases of the neural network are learned according to the loss function. The input to output pipeline is defined, which has components like Convolutional layers and some fully connected neural network layers. The loss is defined, and the aim is to minimize the loss. The CNN model is trained similarly to the ANN, through backpropagation and gradient descent. Nevertheless, the model might learn different features for different types of problems. For example, the model used for classifying different animals may want to use very different features than the model that is trying to locate the animal’s position in the image. The model used for classification might want to extract features like the shape of ears, length of tail, or atmosphere around the animal. Whereas the model used for locating the animals might want to use features like a sudden change in the pixel values or maybe contrastive colors. One problem associated with the convolutional operation is that, it does not work on the borders of the input. When we apply the convolution to an image, the kernel is fit to the upper left corner and slides right at each step. In this process, the borders do not have their pixels in the output and therefore the dimension is reduced. And having multiple convolutional layers means reducing the dimensions of features multiple times. If there is important information on the border, the results might miss it, and we need to fix this problem.\n",
        "\n",
        " \n",
        "\n",
        "For example, if there is a boat in the center and the water on the edges of the images, the model considers the water to be an important marker to classify an object as a boat. It might not classify it as a boat if it doesn’t see water in the scene. To prevent information loss at the borders, we concatenate some numbers to the borders of the input frame. This process is called padding. We can pad by zeros or any other constant, or we can pad by mirroring the edge. Padding helps to retain the shape of the input when extracting the features and allows us to take edges and corners of the input into account. Now we can keep the feature maps with the same dimension as the input image. But some features extracted from these convolutional layers can be redundant, useless, or even add noise to our model. Therefore we also have to make sure to use only the useful or more meaningful features. This will increase the model’s performance, and reduce the computational costs by decreasing the parameters. The Pooling layer is responsible for reducing the size of the Convolved Features. There are two most common types of pooling: max pooling and average pooling. In the max-pooling layer, the input is divided into grids, and the maximum value of each block is the layer’s output. In the average pooling layer, each block’s average value is the layer’s output. Usually, max pooling is used in convolutional neural networks because it significantly removes the noise. There are no weights or biases of the pooling layer. We can say that there are no learnable parameters in the pooling layer, which significantly reduces the feature block size. With max-pooling layers added to our network after every convolutional layer, a typical convolutional neural network model for classification looks like this.\n",
        "\n",
        " \n",
        "\n",
        "In the first half of the architecture, features are extracted from the image using convolutional and pooling layers. We can say that this block has all the necessary information about the input encoded into it. We flatten it to 1D so that our fully-connected neural network can take it as an input and perform the classification task. It takes millions of samples to train a good classification model based on this architecture. And deep learning models have to be trained from scratch every time. Wouldn’t it be great if there was a way to transfer already learned information from a trained model to an untrained model? We have just seen that CNN based feature extractors can be used to extract some useful features that we can input to our network. Fortunately, there are some existing models that have a well-trained feature extractor. So instead of training the feature extractor from scratch, we can use the weights of pretrained models and only train the classification part of the model according to the given problem. In this case, we already have optimized values for the weights and biases, and there is no need to adjust them again. This process is called transfer learning and it greatly helps when we are training a CNN model with less data.\n",
        "\n",
        " \n",
        "\n",
        "Wow. The good news is that, you have learned how machines can extract the features themselves, and now you do not need to worry about finding useful features for the model. The model will find them by itself. We have learned a very important chapter of deep learning: CNNs. We have also discussed pooling layers and padding. That is all for now. Now, it is time to practice what you have learned. In the next video, we will build a convolutional neural network that takes images as input and extracts the features, and then classifies them. See you there!"
      ],
      "metadata": {
        "id": "mzgBQH3wk1uM"
      }
    },
    {
      "cell_type": "markdown",
      "source": [
        "### AI9051 Build a Convolutional Neural Network\n",
        "\n",
        "Hello again! In this project we will gain some hands-on experience in “Convolutional Neural Networks”, CNNs. With the help of TensorFlow’s Sequential API we learnt in the previous project, we’ll create a model object and add convolutional layers, dropouts etc. After that we’ll compile and train the model and check the results. Before we start, don’t forget to change the Runtime type to GPU in Google Colab. The dataset we’ll use for this project is called CIFAR-10. This time, we will not have numerical data and there are no predefined features. Instead, the dataset consists of 60 000 32 by 32 color images of 10 classes, with 6000 images per class. The classes are: airplane, automobile, bird, cat, deer, dog, frog, horse, ship and truck. This is a multiclass classification problem and it is perfectly suitable for a convolutional neural network to solve.\n",
        "\n",
        " \n",
        "\n",
        "Let’s dive into coding! We start by importing the required libraries. In this project we will need Tensorflow, NumPy and matplotlib. The CIFAR-10 dataset is included in the Keras module. It is already divided into train and test datasets so we can easily download it and assign it to the X_train, y_train, X_test and y_test variables. If this wouldn’t be the case, we would have to create these sets manually. We can print the lengths of the X_train and X_test sets using the len function to see how they are distributed. The ratio is 5 to 1. Before we move on with the preprocessing of the data, let’s take a look at a sample to see what we are dealing with. We pick a random index in the X test set and print it. The numbers we see here are pixel values. This is how computers see images. But like this, it doesn’t mean much to us. Let’s visualize this sample. We can use a function included in the Matplotlib library, imshow. imshow takes a Numpy array as input and shows us the corresponding image. Let’s also print the shape of the image. This tuple means that we have a 32 by 32 image with 3 channels. Note that RGB images, in other words color images, have 3 channels for red, green and blue. Great! With this knowledge we can adjust our dataset.\n",
        "\n",
        " \n",
        "\n",
        "Remember that we need three unique datasets to train, validate and test a deep learning model. Since we already have train and test sets, we just need some data for validation. We can use the last 10 000 images of the train set for this. Let’s set it up. Then, we check the lengths of the sets again. 4 to 1 to 1. This ratio is appropriate. As we did with the numerical data in our last project, normalizing the pixel values of the image will greatly help with model training. Pixel values in the images are between 0 and 255. By dividing these values by 255 we’ll scale them between 0 and 1. That was it for the preprocessing of the data! We can create our model now. First things first; let’s create a model object. Now, here comes the exciting part, are you ready to add the convolution layers? With Keras’s Conv2D layer, we add our first convolution layer. There are parameters we need to specify: For the “Number of nodes”, we put 32 and for the “Kernel size” we specify 3 by 3. There is also the parameter “Strides”: This parameter specifies the strides of the convolution kernel along the height and width of the image. For example, if the stride is 1, the filter will move 1 pixel at a time. Next, we need to specify the “Padding” and “Activation function”. As you might remember, we pad to prevent information loss on the borders of the images. We want the padding to be the same as the border values and we put ReLU as the activation function. We could use any activation function here, activation functions are hyperparameters so we have to figure out the best one by trial and error. Other functions that could fit this problem are: “TanH”, “Leaky ReLU” or “ELU”. The last parameter we set is the “Input shape”. Our input has the shape (32,32,3).\n",
        "\n",
        " \n",
        "\n",
        "The next part is to add one convolution layer, one max pooling layer and one convolution layer again. Remember that we add the max pooling layer to reduce the size of the image and make some detected features more robust. This also speeds up the training. We will specify 64 nodes for the convolution layers this time. This is a number we choose randomly and can adjust later on. The remaining parameters are the same as in the input layer. Now we move on to the classification part. In order to connect the 2D convolution layers and 1D dense layers we have to bring them to the same dimensions. This is where the “flatten” method comes to our help. In other words we take all pixel values and put them on a 1D array one by one. After that, we add two dense layers. Each with 64 nodes, ReLU activations and 0.5 dropouts. Don’t forget that these are arbitrary numbers that can be adjusted later on to improve the performance. It’s time for the output layer. Since we have 10 classes we add 10 nodes and use the Softmax activation function. Remember that for multiclass classification problems, we use Softmax at the output layer. Finally, we compile the model. We define the optimizer “Adam”, our go-to optimizer, and since we are trying to solve a multiclass classification problem we use the “Sparse Categorical Cross Entropy” loss function. With this, our model is ready to be trained!\n",
        "\n",
        " \n",
        "\n",
        "In our dataset we have 60000 images, we use 40000 of them for training. But we have to be careful! Training with all of these pictures at the same time would quickly drain our memory and other hardware resources. To prevent this, we use a technique called mini-batching. With mini-batching, instead of looking at all samples at the same time, the model will only see a small number of samples at a time. This method has many advantages; mini-batching increases model training significantly by speeding up the training and using less memory. Also if we have more than one GPU we can use these GPUs to train different batches at the same time. So, we need to add a new parameter here called “batch_size”. And as you can probably guess, it is another hyperparameter, meaning we’ll have to find the optimum value for it. Sometimes lower is better and other times higher is better. But since computers work with binary numbers, choosing a number which is a power of 2 is highly recommended so that the computation speed is increased. Let’s try it out with a batch size of 128 for 50 epochs. This will take some time.\n",
        "\n",
        " \n",
        "\n",
        "Our training is done! And what comes after the training? The performance evaluation. We’ll start by creating a graph to visualize the change of loss over time. Now, let’s do the same thing for accuracy. We see in the graphs that, around the 20th epoch, the model started to overfit. We can say that because both training and evaluation lines start to get further apart from each other. One method of preventing this would be using the “Early Stopping” method. Early stopping is stopping the training process around the epoch which model starts to overfit. So if we train the model only for 20 epochs we would prevent overfitting. We can also use the test dataset to calculate the loss and accuracy and get more insights about performance of the model. We have a model with 1.21 loss and over 70% accuracy. If these results are enough for the problem at hand, we don’t have to further optimize the model. But remember that we want the loss to be as close to 0 as possible. And accuracy as close to 100% as possible. So, if necessary, we can do hyperparameter optimization to try getting closer to these values. Let’s check the ship image from previous cells to see if it was classified correctly. We use the reshape method because the predict method expects a batch of images to predict. But we want to make prediction on a single image. By reshaping the image to (1,32,32,3) we say that we have one image of 32 by 32 by 3. Then we print the prediction results.The output gives the probability of an image belonging to each class. To find the highest probability we can use argmax and max methods. argmax returns the index of the highest value, which is the predicted class, and max returns the probability. Let’s find these and assign them to variables.\n",
        "\n",
        " \n",
        "\n",
        "Let’s print the prediction. This image belongs to class 8 with probability of 0.99. So,this means that there is a ninety nine percent probability that it belongs to class 8. We know that class 8 is the “ship” class. So we can say that model predicted this image correctly. We said earlier that we have a slight overfitting situation. But we can overcome this by fine-tuning the hyperparameters. Now change the following parameters to see if you come up with a better performing model: number of convolutional layers, number of kernels in convolutional layers, kernel size, strides, activation functions, number of hidden layers in classification part, number of nodes in hidden layers in classification part, optimizer, batch size, number of epochs. After that, check a couple of images yourself to see if they are predicted correctly. You can use the course hub to exchange with our experts and your peers and share your results if you like!\n",
        "\n",
        " \n",
        "\n",
        "In this project we learned how to create a convolutional neural network model to classify images. In this exercise, we also explored a practical concept called mini-batching , which is highly important when it comes to training CNNs. See you in the next session!"
      ],
      "metadata": {
        "id": "ouvDApARp9rU"
      }
    },
    {
      "cell_type": "markdown",
      "source": [
        "In this project, we will build a convolutional neural network to solve a multiclass image classification problem. For this we'll use the \"CIFAR-10\" dataset available on Keras. It includes 60000 32 by 32 images of 10 classes.\n",
        "\n",
        "#### Importing the required libraries\n",
        "\n",
        "We'll start with importing required libraries.\n",
        "\n",
        "Use the keyword \"import\"."
      ],
      "metadata": {
        "id": "QD2Q8IDWYjKM"
      }
    },
    {
      "cell_type": "code",
      "source": [
        "# Import TensorFlow\n",
        "import tensorflow as tf\n",
        "\n",
        "# Import Numpy and Matplotlib\n",
        "import matplotlib.pyplot as plt\n",
        "import numpy as np"
      ],
      "metadata": {
        "id": "fW8YdE9bkDbh"
      },
      "execution_count": null,
      "outputs": []
    },
    {
      "cell_type": "markdown",
      "source": [
        "### Dataset\n",
        "\n",
        "Let's download the CIFAR-10 dataset which is included in Keras and assign it to the corresponding variables X_train, y_train, X_test, y_test. \n",
        "\n",
        "Use the datasets.cifar10.load_data() function of the Keras."
      ],
      "metadata": {
        "id": "91pjPgeWaDHh"
      }
    },
    {
      "cell_type": "code",
      "source": [
        "# Download the cifar-10 dataset included in Keras.\n",
        "(X_train, y_train), (X_test, y_test) = tf.keras.datasets.cifar10.load_data()"
      ],
      "metadata": {
        "id": "GxR2fdECaB23"
      },
      "execution_count": null,
      "outputs": []
    },
    {
      "cell_type": "markdown",
      "source": [
        "Now, we can print the number of samples in the X_train and X_test datasets to see how the dataset is distributed.\n",
        "\n",
        "Use f-strings for this."
      ],
      "metadata": {
        "id": "3sH9Iz-Da0Jg"
      }
    },
    {
      "cell_type": "code",
      "source": [
        "# Print the number of samples\n",
        "print(f\"X_train: {len(X_train)}\")\n",
        "print(f\"X_test: {len(X_test)}\")"
      ],
      "metadata": {
        "colab": {
          "base_uri": "https://localhost:8080/"
        },
        "id": "bz6rOkZ-ak7y",
        "outputId": "13fd2ee6-533b-458f-db3f-ff1860e94976"
      },
      "execution_count": null,
      "outputs": [
        {
          "output_type": "stream",
          "name": "stdout",
          "text": [
            "X_train: 50000\n",
            "X_test: 10000\n"
          ]
        }
      ]
    },
    {
      "cell_type": "markdown",
      "source": [
        "Before we move on with the preprocessing of the data, we can print a random sample to see that the data looks like."
      ],
      "metadata": {
        "id": "TivTAiUBbcvl"
      }
    },
    {
      "cell_type": "code",
      "source": [
        "# Print a sample from X_test dataset\n",
        "print(X_test[789])"
      ],
      "metadata": {
        "colab": {
          "base_uri": "https://localhost:8080/"
        },
        "id": "T5AevnWDbYOz",
        "outputId": "6780b234-7e24-45ba-a74d-caa791bb8297"
      },
      "execution_count": null,
      "outputs": [
        {
          "output_type": "stream",
          "name": "stdout",
          "text": [
            "[[[100 111 134]\n",
            "  [ 98 110 132]\n",
            "  [ 98 109 131]\n",
            "  ...\n",
            "  [ 69  89 114]\n",
            "  [ 67  87 113]\n",
            "  [ 66  86 111]]\n",
            "\n",
            " [[ 98 109 131]\n",
            "  [ 95 106 128]\n",
            "  [ 94 105 127]\n",
            "  ...\n",
            "  [ 65  85 110]\n",
            "  [ 64  84 109]\n",
            "  [ 63  83 107]]\n",
            "\n",
            " [[ 94 105 127]\n",
            "  [ 92 103 125]\n",
            "  [ 92 103 125]\n",
            "  ...\n",
            "  [ 63  83 108]\n",
            "  [ 62  82 107]\n",
            "  [ 60  80 105]]\n",
            "\n",
            " ...\n",
            "\n",
            " [[ 13  27  40]\n",
            "  [ 12  26  39]\n",
            "  [ 12  26  39]\n",
            "  ...\n",
            "  [  4   6  21]\n",
            "  [  5   7  22]\n",
            "  [  4   7  22]]\n",
            "\n",
            " [[ 12  24  38]\n",
            "  [ 14  26  39]\n",
            "  [  9  21  34]\n",
            "  ...\n",
            "  [  3   5  19]\n",
            "  [  3   5  20]\n",
            "  [  5   7  22]]\n",
            "\n",
            " [[ 14  23  34]\n",
            "  [ 12  21  31]\n",
            "  [  9  19  29]\n",
            "  ...\n",
            "  [  4   4  17]\n",
            "  [  4   5  18]\n",
            "  [  5   5  18]]]\n"
          ]
        }
      ]
    },
    {
      "cell_type": "markdown",
      "source": [
        "The numbers we see here are pixel values. This is how computers see images. But like this, it doesn't maen much to us. Let's visualize this sample.\n",
        "\n",
        "Convert the pixel values into an image by using the imshow() function of the Matplotlib library.\n",
        "\n",
        "Print the shape of the image using shape."
      ],
      "metadata": {
        "id": "kPnbc7H2b0if"
      }
    },
    {
      "cell_type": "code",
      "source": [
        "# Use the .imshow() function and show the plot\n",
        "plt.imshow(X_test[789])\n",
        "plt.show()\n",
        "# Print the shape of the sample image\n",
        "print(X_test[789].shape)"
      ],
      "metadata": {
        "colab": {
          "base_uri": "https://localhost:8080/",
          "height": 283
        },
        "id": "bvn23gqIbxUX",
        "outputId": "4638dcfa-ed40-44ed-abbf-4c0195b67ecf"
      },
      "execution_count": null,
      "outputs": [
        {
          "output_type": "display_data",
          "data": {
            "text/plain": [
              "<Figure size 432x288 with 1 Axes>"
            ],
            "image/png": "[encoded data removed]"
          },
          "metadata": {
            "needs_background": "light"
          }
        },
        {
          "output_type": "stream",
          "name": "stdout",
          "text": [
            "(32, 32, 3)\n"
          ]
        }
      ]
    },
    {
      "cell_type": "markdown",
      "source": [
        "### Preprocessing\n",
        "\n",
        "Great! With this knowledge we can adjust our dataset for further use.\n",
        "\n",
        "We need three datasets: train, validate, and test. We can separate 10000 images from the train dataset and use it as the validation dataset.\n",
        "\n",
        "You can use list slicing for this."
      ],
      "metadata": {
        "id": "haB4K0nkcW28"
      }
    },
    {
      "cell_type": "code",
      "source": [
        "# Create the validation datasets and assign the last 1000 images of X_train and y_train\n",
        "X_val = X_train[40000:]\n",
        "y_val = y_train[40000:]\n",
        "\n",
        "# Create new train datasets and assign the first 40000 images of X_train and y_train\n",
        "X_train = X_train[:40000]\n",
        "y_train = y_train[:40000]\n"
      ],
      "metadata": {
        "id": "va9BlfZ-cu6I"
      },
      "execution_count": null,
      "outputs": []
    },
    {
      "cell_type": "markdown",
      "source": [
        "Let's check the number of samples in each dataset to see the final results.\n",
        "\n",
        "Use f-strings for this."
      ],
      "metadata": {
        "id": "5rZwxlo_e4pA"
      }
    },
    {
      "cell_type": "code",
      "source": [
        "# Print the lengths of the each dataset\n",
        "print(f\"X_train: {len(X_train)}\")\n",
        "print(f\"X_val: {len(X_val)}\")\n",
        "print(f\"X_test: {len(X_test)}\")"
      ],
      "metadata": {
        "colab": {
          "base_uri": "https://localhost:8080/"
        },
        "id": "DlQyQ42rc2lj",
        "outputId": "b34707e9-cd35-4a08-c926-8f4a74afba73"
      },
      "execution_count": null,
      "outputs": [
        {
          "output_type": "stream",
          "name": "stdout",
          "text": [
            "X_train: 40000\n",
            "X_val: 10000\n",
            "X_test: 10000\n"
          ]
        }
      ]
    },
    {
      "cell_type": "markdown",
      "source": [
        "### Normalization\n",
        "\n",
        "Since pixel values are between 0 and 255, dividing these values by 255 will scale each of them to values between 0 and 1. \n",
        "\n",
        "Divide each dataset by 255."
      ],
      "metadata": {
        "id": "I-3KmOZpfF1G"
      }
    },
    {
      "cell_type": "code",
      "source": [
        "# Divide each dataset by 255\n",
        "X_train = X_train/255\n",
        "X_val = X_train/255\n",
        "X_test = X_test/255"
      ],
      "metadata": {
        "id": "LPWwPmqtgylM"
      },
      "execution_count": null,
      "outputs": []
    },
    {
      "cell_type": "markdown",
      "source": [
        "### Constructing the neural network\n",
        "\n",
        "That was it for the preprocessing of the data!\n",
        "\n",
        "Now we can create out model. First things first, we start by creating a model object using Sequential API of Keras.\n",
        "\n",
        "Use tf.keras.Sequential() to create a model object."
      ],
      "metadata": {
        "id": "msRRQ9Evg13a"
      }
    },
    {
      "cell_type": "code",
      "source": [
        "# Create a model object\n",
        "model = tf.keras.Sequential()"
      ],
      "metadata": {
        "id": "7Ot4t1QKhLbq"
      },
      "execution_count": null,
      "outputs": []
    },
    {
      "cell_type": "markdown",
      "source": [
        "### Feature extraction layers\n",
        "\n",
        "For the first two layers, we add a convolution and max pooling layer.\n",
        "\n",
        "Use tf.keras.layers.Conv2D() and tf.keras.layers.MaxPooling2D() to create the layers.\n",
        "\n",
        "Use .add() method of the object to add the layer."
      ],
      "metadata": {
        "id": "DYE8f5Z5hRJl"
      }
    },
    {
      "cell_type": "code",
      "source": [
        "# Add a concolution and max pooling layer\n",
        "model.add(tf.keras.layers.Conv2D(32, \n",
        "                                 kernel_size = (3, 3), \n",
        "                                 strides = (1, 1), \n",
        "                                 padding = \"same\", \n",
        "                                 activation = \"relu\", \n",
        "                                 input_shape = (32, 32, 3)))\n",
        "\n",
        "model.add(tf.keras.layers.MaxPooling2D((2,2)))"
      ],
      "metadata": {
        "id": "68xvnJOIhlFM"
      },
      "execution_count": null,
      "outputs": []
    },
    {
      "cell_type": "markdown",
      "source": [
        "Then we add more layers. One concolution, one max pooling, and one convolution layer again.\n",
        "\n",
        "Use tf.keras.layers.Conv2D() and tf.keras.layers.MaxPooling2D() to create the layers.\n",
        "\n",
        "Use .add() method of the object to add the layer."
      ],
      "metadata": {
        "id": "22dlXUUHidb1"
      }
    },
    {
      "cell_type": "code",
      "source": [
        "# Add more convolution and max pooling layers\n",
        "model.add(tf.keras.layers.Conv2D(64, \n",
        "                                 kernel_size = (3, 3), \n",
        "                                 strides = (1, 1), \n",
        "                                 padding = \"same\", \n",
        "                                 activation = \"relu\"))\n",
        "model.add(tf.keras.layers.MaxPooling2D((2, 2)))\n",
        "model.add(tf.keras.layers.Conv2D(64, \n",
        "                                 kernel_size = (3, 3), \n",
        "                                 strides = (1, 1), \n",
        "                                 padding = \"same\", \n",
        "                                 activation = \"relu\"))"
      ],
      "metadata": {
        "id": "a1jTi5I9iN3X"
      },
      "execution_count": null,
      "outputs": []
    },
    {
      "cell_type": "markdown",
      "source": [
        "### Flatten \n",
        "\n",
        "To connect the 2D convolution and 1D dense layers we have to \"flatten\" the convolution layer.\n",
        "\n",
        "Use tf.keras.layers.Flatten() to flatten the layers.\n",
        "\n",
        "Use .add() method of the object to add the layer."
      ],
      "metadata": {
        "id": "_DfBVaF1liZM"
      }
    },
    {
      "cell_type": "code",
      "source": [
        "# Flatten the convolution layer\n",
        "model.add(tf.keras.layers.Flatten())"
      ],
      "metadata": {
        "id": "jQcUcyVLmVtp"
      },
      "execution_count": null,
      "outputs": []
    },
    {
      "cell_type": "markdown",
      "source": [
        "### Classification Layers\n",
        "\n",
        "Now that we have the features extracted, we can move on to the classification part. We add two dense layers each with 64 nodes, 0.5 dropout and ReLU activation functions.\n",
        "\n",
        "Use tf.keras.layers.Dense() to create the layers.\n",
        "\n",
        "Use .add() method of the object to add the layer."
      ],
      "metadata": {
        "id": "6JtKUnIgmWrs"
      }
    },
    {
      "cell_type": "code",
      "source": [
        "# Add the dense layer and dropout layer\n",
        "model.add(tf.keras.layers.Dense(64, activation = \"relu\"))\n",
        "model.add(tf.keras.layers.Dropout(0.5))\n",
        "\n",
        "# Add the dense layer and dropout layer\n",
        "model.add(tf.keras.layers.Dense(64, activation = \"relu\"))\n",
        "model.add(tf.keras.layers.Dropout(0.5))\n"
      ],
      "metadata": {
        "id": "5w8qEeQMoEcI"
      },
      "execution_count": null,
      "outputs": []
    },
    {
      "cell_type": "markdown",
      "source": [
        "### Output Layer\n",
        "\n",
        "As the last part of our neural network, we add the output layer. The number of nodes will be equal to the number of target classes which is 10 in our case. We'll use the softmax activation function in the output layer.\n",
        "\n",
        "Use tf.keras.layers.Dense() to create the layer.\n",
        "\n",
        "Use .add() method of the object to add the layer."
      ],
      "metadata": {
        "id": "DkJfWop-pbq1"
      }
    },
    {
      "cell_type": "code",
      "source": [
        "# Add the output layer\n",
        "model.add(tf.keras.layers.Dense(10, activation = \"softmax\"))"
      ],
      "metadata": {
        "id": "gpBdhV0lp3Xn"
      },
      "execution_count": null,
      "outputs": []
    },
    {
      "cell_type": "markdown",
      "source": [
        "### Optimizer\n",
        "\n",
        "Now we have the structure of our model. To configure the model for training we'll use the .compile() method. Inside the compile method we have to define the following:\n",
        "\n",
        "* \"Adam\" for optimizer\n",
        "\n",
        "* \"Sparse Categorical Crossentropy\" for the loss function\n",
        "\n",
        "Construct the model with the .compile() method."
      ],
      "metadata": {
        "id": "Xuf7XhzXqFYE"
      }
    },
    {
      "cell_type": "code",
      "source": [
        "# Compile the model\n",
        "model.compile(optimizer = \"adam\", \n",
        "              loss = \"sparse_categorical_crossentropy\", \n",
        "              metrics = [\"accuracy\"])"
      ],
      "metadata": {
        "id": "5_979XkYqh2k"
      },
      "execution_count": null,
      "outputs": []
    },
    {
      "cell_type": "markdown",
      "source": [
        "### Training the Model\n",
        "\n",
        "It's time to train the model. We'll give the X_train and y_train datasets as the first two arguments. These will be used for training. And with the validation_data parameter we'll give the X_val and y_val as a tuple.\n",
        "\n",
        "Use .fit() method of the model object for the training."
      ],
      "metadata": {
        "id": "kyYN19LCqk5m"
      }
    },
    {
      "cell_type": "code",
      "source": [
        "# Train the model for 50 epochs\n",
        "results = model.fit(X_train, y_train, \n",
        "                    batch_size = 128, \n",
        "                    epochs = 50, \n",
        "                    validation_data = (X_val, y_val))"
      ],
      "metadata": {
        "colab": {
          "base_uri": "https://localhost:8080/",
          "height": 433
        },
        "id": "jiTf3vTFrXsO",
        "outputId": "8c0c13ea-1659-426f-8538-e3f62977d030"
      },
      "execution_count": null,
      "outputs": [
        {
          "output_type": "stream",
          "name": "stdout",
          "text": [
            "Epoch 1/50\n",
            "313/313 [==============================] - ETA: 0s - loss: 2.0269 - accuracy: 0.2218"
          ]
        },
        {
          "output_type": "error",
          "ename": "ValueError",
          "evalue": "ignored",
          "traceback": [
            "\u001b[0;31m---------------------------------------------------------------------------\u001b[0m",
            "\u001b[0;31mValueError\u001b[0m                                Traceback (most recent call last)",
            "\u001b[0;32m<ipython-input-16-1ca608dcd8f7>\u001b[0m in \u001b[0;36m<module>\u001b[0;34m\u001b[0m\n\u001b[1;32m      3\u001b[0m                     \u001b[0mbatch_size\u001b[0m \u001b[0;34m=\u001b[0m \u001b[0;36m128\u001b[0m\u001b[0;34m,\u001b[0m\u001b[0;34m\u001b[0m\u001b[0;34m\u001b[0m\u001b[0m\n\u001b[1;32m      4\u001b[0m                     \u001b[0mepochs\u001b[0m \u001b[0;34m=\u001b[0m \u001b[0;36m50\u001b[0m\u001b[0;34m,\u001b[0m\u001b[0;34m\u001b[0m\u001b[0;34m\u001b[0m\u001b[0m\n\u001b[0;32m----> 5\u001b[0;31m                     validation_data = (X_val, y_val))\n\u001b[0m",
            "\u001b[0;32m/usr/local/lib/python3.7/dist-packages/keras/utils/traceback_utils.py\u001b[0m in \u001b[0;36merror_handler\u001b[0;34m(*args, **kwargs)\u001b[0m\n\u001b[1;32m     65\u001b[0m     \u001b[0;32mexcept\u001b[0m \u001b[0mException\u001b[0m \u001b[0;32mas\u001b[0m \u001b[0me\u001b[0m\u001b[0;34m:\u001b[0m  \u001b[0;31m# pylint: disable=broad-except\u001b[0m\u001b[0;34m\u001b[0m\u001b[0;34m\u001b[0m\u001b[0m\n\u001b[1;32m     66\u001b[0m       \u001b[0mfiltered_tb\u001b[0m \u001b[0;34m=\u001b[0m \u001b[0m_process_traceback_frames\u001b[0m\u001b[0;34m(\u001b[0m\u001b[0me\u001b[0m\u001b[0;34m.\u001b[0m\u001b[0m__traceback__\u001b[0m\u001b[0;34m)\u001b[0m\u001b[0;34m\u001b[0m\u001b[0;34m\u001b[0m\u001b[0m\n\u001b[0;32m---> 67\u001b[0;31m       \u001b[0;32mraise\u001b[0m \u001b[0me\u001b[0m\u001b[0;34m.\u001b[0m\u001b[0mwith_traceback\u001b[0m\u001b[0;34m(\u001b[0m\u001b[0mfiltered_tb\u001b[0m\u001b[0;34m)\u001b[0m \u001b[0;32mfrom\u001b[0m \u001b[0;32mNone\u001b[0m\u001b[0;34m\u001b[0m\u001b[0;34m\u001b[0m\u001b[0m\n\u001b[0m\u001b[1;32m     68\u001b[0m     \u001b[0;32mfinally\u001b[0m\u001b[0;34m:\u001b[0m\u001b[0;34m\u001b[0m\u001b[0;34m\u001b[0m\u001b[0m\n\u001b[1;32m     69\u001b[0m       \u001b[0;32mdel\u001b[0m \u001b[0mfiltered_tb\u001b[0m\u001b[0;34m\u001b[0m\u001b[0;34m\u001b[0m\u001b[0m\n",
            "\u001b[0;32m/usr/local/lib/python3.7/dist-packages/keras/engine/data_adapter.py\u001b[0m in \u001b[0;36m_check_data_cardinality\u001b[0;34m(data)\u001b[0m\n\u001b[1;32m   1651\u001b[0m                            for i in tf.nest.flatten(single_data)))\n\u001b[1;32m   1652\u001b[0m     \u001b[0mmsg\u001b[0m \u001b[0;34m+=\u001b[0m \u001b[0;34m\"Make sure all arrays contain the same number of samples.\"\u001b[0m\u001b[0;34m\u001b[0m\u001b[0;34m\u001b[0m\u001b[0m\n\u001b[0;32m-> 1653\u001b[0;31m     \u001b[0;32mraise\u001b[0m \u001b[0mValueError\u001b[0m\u001b[0;34m(\u001b[0m\u001b[0mmsg\u001b[0m\u001b[0;34m)\u001b[0m\u001b[0;34m\u001b[0m\u001b[0;34m\u001b[0m\u001b[0m\n\u001b[0m\u001b[1;32m   1654\u001b[0m \u001b[0;34m\u001b[0m\u001b[0m\n\u001b[1;32m   1655\u001b[0m \u001b[0;34m\u001b[0m\u001b[0m\n",
            "\u001b[0;31mValueError\u001b[0m: Data cardinality is ambiguous:\n  x sizes: 40000\n  y sizes: 10000\nMake sure all arrays contain the same number of samples."
          ]
        }
      ]
    },
    {
      "cell_type": "markdown",
      "source": [
        "### Visualize the Result\n",
        "\n",
        "After the model is trained, we can create a graph to visualize the change of loss over time. Results are held in:\n",
        "\n",
        "* results.history[\"loss\"]\n",
        "\n",
        "* results.history[\"val_loss\"]\n",
        "\n",
        "Use plt.show() to display the graph."
      ],
      "metadata": {
        "id": "R5lDBN6wr2bV"
      }
    },
    {
      "cell_type": "code",
      "source": [
        "# Plot the training loss\n",
        "plt.plot(results.history[\"loss\"], label = \"loss\")\n",
        "\n",
        "# Plot the validation loss\n",
        "plt.plot(results.history[\"val_score\"], label = \"val_score\")\n",
        "\n",
        "# Name the x and y axises\n",
        "plt.xlabel(\"Epoch\")\n",
        "plt.ylabel(\"Loss\")\n",
        "\n",
        "# Put legend table\n",
        "plt.legend()\n",
        "\n",
        "# Show the plot\n",
        "plt.show()\n",
        "\n",
        "\n"
      ],
      "metadata": {
        "id": "069SUUT0sSOR"
      },
      "execution_count": null,
      "outputs": []
    },
    {
      "cell_type": "markdown",
      "source": [
        "Now do the same thing for accuracy.\n",
        "\n",
        "Accuracy scores can be found in:\n",
        "\n",
        "  * results.history[\"accuracy\"]\n",
        "\n",
        "  * results.history[\"val_accuracy\"]"
      ],
      "metadata": {
        "id": "zGd_KMLTBaTK"
      }
    },
    {
      "cell_type": "code",
      "source": [
        "# Plot the training accuracy\n",
        "plt.plot(results.history[\"accuracy\"], label = \"accuracy\")\n",
        "\n",
        "# Plot the validation accuracy\n",
        "plt.plot(results.history[\"val_accuracy\"], label = [\"val_accuracy\"])\n",
        "\n",
        "# Name the x and y axises\n",
        "plt.xlabel(\"Epoch\")\n",
        "plt.ylabel(\"Accuracy\")\n",
        "\n",
        "# Put legend table\n",
        "plt.legend()\n",
        "\n",
        "# Show the plot\n",
        "plt.show()"
      ],
      "metadata": {
        "id": "PFNi1ZvkvNqh"
      },
      "execution_count": null,
      "outputs": []
    },
    {
      "cell_type": "markdown",
      "source": [
        "Performance evaluation\n",
        "\n",
        "Let's use the dataset we created to evaluate the performance of the model.\n",
        "\n",
        "Use test_on_batch() method with test dataset as parameter."
      ],
      "metadata": {
        "id": "FSPejw_cCRBK"
      }
    },
    {
      "cell_type": "code",
      "source": [
        "# Evaluate the performance\n",
        "model.evaluate(X_test, y_test)"
      ],
      "metadata": {
        "id": "bU3qWLONCkgT"
      },
      "execution_count": null,
      "outputs": []
    },
    {
      "cell_type": "markdown",
      "source": [
        "Try a prediction\n",
        "\n",
        "Next, we take the sample we selected at the beginning and make a prediction on it.\n",
        "\n",
        "Reshape the image to (1, 32, 32, 3)\n",
        "\n",
        "Use the .prediction() method of the model object."
      ],
      "metadata": {
        "id": "7qx-TyKACq_K"
      }
    },
    {
      "cell_type": "code",
      "source": [
        "# Make prediction on the reshaped sample\n",
        "prediction_result = model.predict(X_test[789].reshape(1, 32, 32, 3))\n",
        "\n",
        "# Print the prediction result\n",
        "prediction_result\n"
      ],
      "metadata": {
        "id": "m60ZG5jSC8AL"
      },
      "execution_count": null,
      "outputs": []
    },
    {
      "cell_type": "markdown",
      "source": [
        "Finally, we find the predicted class and prediction probability and print the results.\n",
        "\n",
        "Use .argmax() to find the class.\n",
        "\n",
        "Use .max() to find the probability."
      ],
      "metadata": {
        "id": "AlRcEyhNDD4K"
      }
    },
    {
      "cell_type": "code",
      "source": [
        "# Find the predicted class\n",
        "predicted_class = prediction_result.argmax()\n",
        "\n",
        "# Find the prediction probability\n",
        "predicted_probability = prediction_result.max()\n",
        "\n",
        "# Print the results\n",
        "print(f\"This image belongs to class {predicted_class} with {predicted_probability} probability %\")"
      ],
      "metadata": {
        "id": "zgIGi2d2E1_y"
      },
      "execution_count": null,
      "outputs": []
    },
    {
      "cell_type": "markdown",
      "source": [
        "### AI9061 Recurrent Neural Networks\n",
        "\n",
        "Hello and welcome back! Before we begin, I would like to ask you a question this time. Let’s say, you ate pizza for lunch, would you like to eat pizza for dinner as well? Most likely you would not, right? So, your decision is influenced by an event that has happened before. If we want our deep learning model to suggest what to eat for dinner today, we need to provide the information regarding what we had for lunch. Similarly, financial markets use information from the past, to predict future stock value. Brokers see the market trends if they are rising or falling, before they make any decision. This problem can be formulated, and a deep learning model can be used to predict the stock prices, using the information from the past. In this video, we will learn how to train deep learning models to understand temporal information. We will discuss Recurrent Neural Networks, or RNNs. One of the most exciting deep learning models.\n",
        "\n",
        " \n",
        "\n",
        "We understand the importance of temporal information. Now, it is time to teach computers how to make use of information from the past. One of the decades-old ways of solving this problem is a recurrent neural network. A traditional recurrent neural network has an input layer, a hidden state, and an output layer. The hidden state is different from the hidden layer of an Artificial Neural Network. It represents information from previous time steps. RNNs are designed to process the sequential data. Sequential data is the one in which each data point is connected to the previous, and/or the future datapoint. The hidden state is responsible for summarizing and storing information from the past. Since the RNN model takes the data points from the past, it has to track the time. A timestep refers to the number of inputs that has been passed to the network as a sequence. A timestep of 10 means, the previous 9 data points and the current point will be used to predict the output. A typical RNN model takes the current input x at time step t, and “the hidden state a” of time step t-1. The RNN model returns the output y of time step t and “the hidden state a” of time step t. Because the hidden state passed through the network, the timestep of the hidden state is updated to t. Let’s check these steps together. The model takes input and multiplies it by its associated weight – it takes the hidden state and multiplies it by its associated weights – adds these two products and a bias – and applies the activation function. The result of these steps, will give us the input to the output layer and also the hidden state for the next time step. Then, the same steps will be implemented for the next input. This is how we can use RNNs to take into account the historical information. You can see that if we increase the length of the input sequence, the model size does not change, because it has one hidden state that gets updated over time.\n",
        "\n",
        " \n",
        "\n",
        "Now, let’s see different types of RNNs and their applications. One-to-many. We can input an image, and it can generate a sequence of words (a sentence) that is the caption of the image. Many-to-one. Consider the example from financial markets where the previous information sequence is passed as input and the model predicts the future price. Many-to-many, where the length of the input and output is the same. For example, object tracking in a video. In this case, video frames are the input and the location of the object in each frame is the output. There can also be many-to-many RNNs with different lengths of input and output. You probably have used Google translate before. The length of the sentence in English, might not be the same as the translated French sentence. We learned, why we may want to use temporal information in our models and how RNNs can do that to generate an output or a sequence of output. We discussed different architectures of the RNNs and their applications. However, like everything else, RNNs are not perfect. RNNs are slow. Sometimes very slow. Plus, it is difficult for the hidden state to represent the information from long ago, and thus, it has difficulty accessing information from the far past. On top of that, RNNs are sometimes very hard to train. The backpropagation is done at each point in time. RNN can do great things, but training an RNN is a tricky task. In the next video, we will talk about some tips and tricks, to train an RNN. Stay tuned."
      ],
      "metadata": {
        "id": "VhkUJtnUGoGV"
      }
    },
    {
      "cell_type": "markdown",
      "source": [
        "### AI9062 Training Recurrent Neural Networks\n",
        "\n",
        "Welcome Back! In the last video, we learned how recurrent neural networks can account for information from the past, when computing the output. We also discussed some exciting applications of RNNs. But training an RNN is not a simple task. In this video, we will learn how to train a recurrent neural network, and address the problems associated with the training.\n",
        "\n",
        " \n",
        "\n",
        "The first step of training is to compute the loss. In the case of a recurrent neural network, the final loss, is the sum of the loss at every time step. Backpropagation is done at each point in time. It means that, if the input sequence of length10 is fed to the network, the backpropagation will calculate the gradient from the first time step, to the last time step. And then all these parameters will be updated accordingly. If the sequences are long, the hidden state has the burden of representing the information from all the previous time steps. This means that, the computation from the first time step might be impacting the computation on the output on the 78 time step, for example. We use the same weights for hidden states throughout all the time steps. And if we compute the gradient, the gradient at the first step has weight W, with the power of 78. This might cause the gradients to explode, which means the gradient goes to infinity. And the RNN might not be able to learn, because the gradient descent will not be meaningful and the training will be very unstable.\n",
        "\n",
        " \n",
        "\n",
        "For example, let’s say you want to train a text prediction model that takes words as input as you type them, and it predicts the next word that you might type. If you face the exploding gradient problem, your loss will explode and your training will not be successful. To cope with the exploding gradient problem, a technique called gradient clipping can be used during backpropagation. Here we cap the maximum value of the gradient. If the gradient exceeds a certain maximum value threshold, we assign the capping value to it. This way no number will reach infinity. You may also face a problem of vanishing gradients, where the gradients become zero or very close to zero. This usually happens when RNNs are not able to capture long term dependencies in the input sequence. If you encounter the vanishing gradient problem in your text prediction model, the whole context of the text might be missed, because your predictions will be based just on the last few words. To solve the vanishing gradients problem, the architecture of the simple RNN unit has to be modified and we need to introduce two modified versions of RNNs. The 2 most commonly used types of RNNs to address these issues are Gated Recurrent Units, GRUs, and Long Short-Term Memory Units, LSTMs. GRUs and LSTMs deal with the vanishing gradient problem of traditional RNNs. Here is how.\n",
        "\n",
        " \n",
        "\n",
        "The GRU has two gates, a reset gate and an update gate. Gates are nothing but neural networks, each gate has its own weights and biases. In the GRU, we refer to the hidden state as the candidate cell. And this candidate cell will also serve as the output. The update gate decides if the cell state should be updated with the candidate state, the current activation value, or not. The reset gate is used to decide whether the previous cell state is important or not. Sometimes the reset gate is not used in a simple GRU. The cell state for the next time step is dependent on the update gate. It may update the cell state by adding some useful information and by removing some information that is not required. Let’s see how this architecture works with an example. We can use the text prediction model we mentioned. Imagine you are typing the sentence and the model needs to predict the next word. Useless or redundant information is dropped and only useful information is carried to the next time step by the candidate cell. This does not let the candidate cell to be overwhelmed with information and thus, it can simply solve the vanishing gradient problem. Now that you are aware of RNN and GRU, let’s quickly learn how LSTM works. Similar to GRUs in many ways, LSTMs are used to address the issue of disappearing gradients. In LSTMs there are three gates: Input gate, forget gate and output gate. LSTMs have cell state as well as hidden state.\n",
        "\n",
        " \n",
        "\n",
        "The input gate decides what relevant information can be added from the current step. The forget gate controls what is kept vs forgotten, from the previous cell state. In layman’s terms, it will decide how much information from the previous state should be kept and forget the rest. The output gate controls which parts of the cell are output to the hidden state. It will determine what the next hidden state will be. Like GRUs, LSTMs only keep the useful information and tend to discard what is unnecessary. This solves our vanishing gradients problem. The key difference between GRUs and LSTMs is that, GRUs have two gates that are reset and update, while LSTMs have three gates that are input, output, and forget. GRUs are less complex than LSTMs because they have fewer gates. If the dataset is small then GRUs are preferred, otherwise LSTMs for larger datasets. This was a tough lesson but you made it. In this video, we learned how RNNs are trained. What are the major issues RNNs run into, and what causes exploding and vanishing gradient problems? We learned how to solve exploding gradient problems with the gradient clipping technique and vanishing gradient problems with GRU and LSTM. With this video, your lesson on RNN is completed. Now it is time to practice with some practical examples. See you there."
      ],
      "metadata": {
        "id": "WnDpEqaGLToz"
      }
    },
    {
      "cell_type": "markdown",
      "source": [
        "### Build a Recurrent Neural Network\n",
        "\n",
        "Welcome to the last guided project of this course! In this project, we will build a recurrent neural network for sentiment classification. In sentiment classification, we identify if a text includes positive, negative or neutral opinions and label them. This method can be used to understand how people feel about a product or service based on comments they leave. For this exercise, we’ll explore how people feel about movies. We will use the “IMDB Movie Review Dataset”. This dataset provides 50000 highly polarized movie reviews categorized as positive or negative, so we have a binary classification problem. We’ll tackle this problem by creating a LSTM neural network. As always we’ll start with preprocessing the data, then we’ll construct and train our model and finally evaluate and fine-tune it.\n",
        "\n",
        " \n",
        "\n",
        "Let’s start by importing the required libraries. We’ll use Tensorflow, NumPy and Matplotlib. Next, we need to get our data. For this, we download the IMDB dataset which is included in Keras and already divided into train and test sets. We can directly assign it to the corresponding variables. While downloading this dataset from TensorFlow, there is another parameter we can set; num_words. If we specify the number ‘n’ for this parameter, only the most frequent ‘n’ words will be downloaded, otherwise all words will be kept. We want to include the most frequently used 10000 words. Of course, we can select a higher number but doing so will require a lot of memory. Let’s also have a look inside our dataset. We print X_train[0] and check the data we have. We can see that we have an array of lists where each list corresponds to a different movie review. Inside these lists we see a lot of numbers. The actual movie reviews consisted of words, but because we can’t do mathematical operations on string data, these words had to be converted to numbers. Luckily, this was already done for us; each word is mapped to a specific number in the dataset. For example the word “good” is mapped to the number 49, the word “bad” is mapped to the number 75. If this wasn’t done by default, we could easily create a script where we assign numbers to words. Now let’s print the lengths of the X_train and X_test variables to see the number of samples and the distribution between the datasets. There are 25000 reviews, or samples, in each set. This means a 50-50 split. Remember that we need three datasets for deep learning training: train, validation and test datasets with a split ratio of 80-10-10. First let’s combine the existing train and test sets to create one big dataset. After that we’ll split it. To do that we concatenate both “samples” lists and “labels” lists. Now we have two datasets of samples and labels.\n",
        "\n",
        " \n",
        "\n",
        "Before dividing these datasets, we can already do some preprocessing operations, so we won’t have to do this three times for each dataset later. What we’ll be doing now is called ‘padding’. Since the movie reviews are of different lengths, we can add some zeros to the beginning of the reviews, just like we did on CNNs, so that all samples will be at the same length. The max_len parameter here will resize all reviews to 1024words. Any samples below this length will get extra zeros and any reviews above this length will be trimmed. If we hadn’t specified any number for the max_len parameter here, all sequences would have been padded to the length of the longest individual sequence. In our case this would significantly increase the training time. By the way, when you get to the hyperparameter tuning part later, you can try different maximum lengths and see if you can find the best performing one. Padding is done! Now we can split the samples and labels to train, validation and test datasets with a 80-10-10 ratio. We simply use the indices to define them. To be safe, we print the lengths to check if everything worked out. Great! Our dataset is ready to use!\n",
        "\n",
        " \n",
        "\n",
        "We can start to build our model. First, we create a model object. The first layer we will add is a so-called “embedding layer”. Word embedding is a method to represent words or text in a numerical way. It allows us to encode meaning to words by representing them in the form of vectors in a vector space. Here, words that are expected to have a similar meaning are closer to each other. In our case, we will translate 10000 words we have to a 256-dimensional plane. Remember that the input layer is the data we have. Layer we are adding here is not the input layer but the layer after that. By using the input_dim parameter, we specify that the input layer includes 10000 words as inputs, this means that we add the input layer without adding another layer separately, but with using the input_dim parameter. After embedding, we add dropout. Next, we’ll add an LSTM gate, in other words, an LSTM layer. We specify the number of nodes. Now we add dropout to the LSTM layer. And a dense layer with dropout. And lastly, we add an output layer. Remember that in multi-class classification problems the number of nodes in the output layer would be equal to the number of classes and we would use softmax activation function. In this project, we are trying to make a binary classification. So the output layer will have only one node and a sigmoid activation function. With the sigmoid activation function, the network will output a value between 0 and 1. So if the value is below 0.5 it will be class 0 which means the class of negative reviews and if above,the class will be 1 for positive reviews.\n",
        "\n",
        " \n",
        "\n",
        "Let’s build the model using the compile method. As always we’ll use the adam optimizer. This time we’ll be using the “Binary Cross Entropy” loss function because this is a binary classification problem. Remember that if we had more than two classes we would have to use “Sparse Categorical Cross Entropy”. We are almost there! Now we train it for 5 epochs because training this model takes so much time since there are many parameters the model has to adjust. You try different numbers of epochs to find the best performing model. Great, our model is done! Let’s see how well it performs. As usual, we can create graphs to review the change of the loss and accuracy. Let’s visualize the change of the loss first. And then the change of the accuracy.\n",
        "\n",
        " \n",
        "\n",
        "We can see from both graphs that there is no overfitting. The lines in both graphs converge in a good way. But we only trained this model for 5 epochs. Would training for longer lead to a better model or just overfitting? You’ll figure out that in the hyperparameter tuning part. Let’s evaluate the model using X_test and y_test datasets. The loss value is 0.24 and the accuracy is 0.90. Even though the accuracy is relatively high, maybe we can improve its performance with hyperparameter tuning. Now let’s pick a single sample randomly and see if the model predicts correctly. The predict method works on batches of data but since we are predicting only on one sample, we have to reshape the sample. We are going to reshape the review to 1 by 1024. Remember that we padded each review to have the length of 1024. Then we print the prediction result and the label that the sample has in the dataset to compare them. Our model output 0.2. Remember that if the output is smaller than 0.5 we say it belongs to 0. And since the result is very close to zero we can say that model predicted this review as a “negative” one. The label is also zero so we can conclude that the model made a correct prediction.\n",
        "\n",
        " \n",
        "\n",
        "It’s time for fine-tuning the model. But before that, remember the parameter we set at the beginning? You can play with the num_words parameter of the “load_dataset” function and the maxlen parameter of the “pad_sequences” function to see how those affect the model training and performance. After doing that, change the following parameters: number of units on the LSTM layer, dropout rate, recurrent dropout rate, optimizer and try to find the best performing model.\n",
        "\n",
        " \n",
        "\n",
        "Now we know how basic sentiment analysis works. In this project we learned how to create a RNN using TensorFlow, how to do embedding and padding and how to use LSTM in a real life problem. We also saw how binary and multi-class classification differentiate in practice. This means we have taken our first step towards one of the major artificial intelligence topics: natural language processing.\n",
        "\n",
        " \n",
        "\n",
        "Congrats! You made it to the end of the last guided project. As we always say, it is your turn to practice more now!"
      ],
      "metadata": {
        "id": "AOEbc2D0vaaB"
      }
    },
    {
      "cell_type": "markdown",
      "source": [
        "### AI9071 Build a Recurrent Neural Network\n",
        "\n",
        "Welcome to the last guided project of this course! In this project, we will build a recurrent neural network for sentiment classification. In sentiment classification, we identify if a text includes positive, negative or neutral opinions and label them. This method can be used to understand how people feel about a product or service based on comments they leave. For this exercise, we’ll explore how people feel about movies. We will use the “IMDB Movie Review Dataset”. This dataset provides 50000 highly polarized movie reviews categorized as positive or negative, so we have a binary classification problem. We’ll tackle this problem by creating a LSTM neural network. As always we’ll start with preprocessing the data, then we’ll construct and train our model and finally evaluate and fine-tune it.\n",
        "\n",
        " \n",
        "\n",
        "Let’s start by importing the required libraries. We’ll use Tensorflow, NumPy and Matplotlib. Next, we need to get our data. For this, we download the IMDB dataset which is included in Keras and already divided into train and test sets. We can directly assign it to the corresponding variables. While downloading this dataset from TensorFlow, there is another parameter we can set; num_words. If we specify the number ‘n’ for this parameter, only the most frequent ‘n’ words will be downloaded, otherwise all words will be kept. We want to include the most frequently used 10000 words. Of course, we can select a higher number but doing so will require a lot of memory. Let’s also have a look inside our dataset. We print X_train[0] and check the data we have. We can see that we have an array of lists where each list corresponds to a different movie review. Inside these lists we see a lot of numbers. The actual movie reviews consisted of words, but because we can’t do mathematical operations on string data, these words had to be converted to numbers. Luckily, this was already done for us; each word is mapped to a specific number in the dataset. For example the word “good” is mapped to the number 49, the word “bad” is mapped to the number 75. If this wasn’t done by default, we could easily create a script where we assign numbers to words. Now let’s print the lengths of the X_train and X_test variables to see the number of samples and the distribution between the datasets. There are 25000 reviews, or samples, in each set. This means a 50-50 split. Remember that we need three datasets for deep learning training: train, validation and test datasets with a split ratio of 80-10-10. First let’s combine the existing train and test sets to create one big dataset. After that we’ll split it. To do that we concatenate both “samples” lists and “labels” lists. Now we have two datasets of samples and labels.\n",
        "\n",
        " \n",
        "\n",
        "Before dividing these datasets, we can already do some preprocessing operations, so we won’t have to do this three times for each dataset later. What we’ll be doing now is called ‘padding’. Since the movie reviews are of different lengths, we can add some zeros to the beginning of the reviews, just like we did on CNNs, so that all samples will be at the same length. The max_len parameter here will resize all reviews to 1024words. Any samples below this length will get extra zeros and any reviews above this length will be trimmed. If we hadn’t specified any number for the max_len parameter here, all sequences would have been padded to the length of the longest individual sequence. In our case this would significantly increase the training time. By the way, when you get to the hyperparameter tuning part later, you can try different maximum lengths and see if you can find the best performing one. Padding is done! Now we can split the samples and labels to train, validation and test datasets with a 80-10-10 ratio. We simply use the indices to define them. To be safe, we print the lengths to check if everything worked out. Great! Our dataset is ready to use!\n",
        "\n",
        " \n",
        "\n",
        "We can start to build our model. First, we create a model object. The first layer we will add is a so-called “embedding layer”. Word embedding is a method to represent words or text in a numerical way. It allows us to encode meaning to words by representing them in the form of vectors in a vector space. Here, words that are expected to have a similar meaning are closer to each other. In our case, we will translate 10000 words we have to a 256-dimensional plane. Remember that the input layer is the data we have. Layer we are adding here is not the input layer but the layer after that. By using the input_dim parameter, we specify that the input layer includes 10000 words as inputs, this means that we add the input layer without adding another layer separately, but with using the input_dim parameter. After embedding, we add dropout. Next, we’ll add an LSTM gate, in other words, an LSTM layer. We specify the number of nodes. Now we add dropout to the LSTM layer. And a dense layer with dropout. And lastly, we add an output layer. Remember that in multi-class classification problems the number of nodes in the output layer would be equal to the number of classes and we would use softmax activation function. In this project, we are trying to make a binary classification. So the output layer will have only one node and a sigmoid activation function. With the sigmoid activation function, the network will output a value between 0 and 1. So if the value is below 0.5 it will be class 0 which means the class of negative reviews and if above,the class will be 1 for positive reviews.\n",
        "\n",
        " \n",
        "\n",
        "Let’s build the model using the compile method. As always we’ll use the adam optimizer. This time we’ll be using the “Binary Cross Entropy” loss function because this is a binary classification problem. Remember that if we had more than two classes we would have to use “Sparse Categorical Cross Entropy”. We are almost there! Now we train it for 5 epochs because training this model takes so much time since there are many parameters the model has to adjust. You try different numbers of epochs to find the best performing model. Great, our model is done! Let’s see how well it performs. As usual, we can create graphs to review the change of the loss and accuracy. Let’s visualize the change of the loss first. And then the change of the accuracy.\n",
        "\n",
        " \n",
        "\n",
        "We can see from both graphs that there is no overfitting. The lines in both graphs converge in a good way. But we only trained this model for 5 epochs. Would training for longer lead to a better model or just overfitting? You’ll figure out that in the hyperparameter tuning part. Let’s evaluate the model using X_test and y_test datasets. The loss value is 0.24 and the accuracy is 0.90. Even though the accuracy is relatively high, maybe we can improve its performance with hyperparameter tuning. Now let’s pick a single sample randomly and see if the model predicts correctly. The predict method works on batches of data but since we are predicting only on one sample, we have to reshape the sample. We are going to reshape the review to 1 by 1024. Remember that we padded each review to have the length of 1024. Then we print the prediction result and the label that the sample has in the dataset to compare them. Our model output 0.2. Remember that if the output is smaller than 0.5 we say it belongs to 0. And since the result is very close to zero we can say that model predicted this review as a “negative” one. The label is also zero so we can conclude that the model made a correct prediction.\n",
        "\n",
        " \n",
        "\n",
        "It’s time for fine-tuning the model. But before that, remember the parameter we set at the beginning? You can play with the num_words parameter of the “load_dataset” function and the maxlen parameter of the “pad_sequences” function to see how those affect the model training and performance. After doing that, change the following parameters: number of units on the LSTM layer, dropout rate, recurrent dropout rate, optimizer and try to find the best performing model.\n",
        "\n",
        " \n",
        "\n",
        "Now we know how basic sentiment analysis works. In this project we learned how to create a RNN using TensorFlow, how to do embedding and padding and how to use LSTM in a real life problem. We also saw how binary and multi-class classification differentiate in practice. This means we have taken our first step towards one of the major artificial intelligence topics: natural language processing.\n",
        "\n",
        " \n",
        "\n",
        "Congrats! You made it to the end of the last guided project. As we always say, it is your turn to practice more now!"
      ],
      "metadata": {
        "id": "xzfJavvHFdFF"
      }
    },
    {
      "cell_type": "markdown",
      "source": [
        "### Building a Recurrent Neural Network\n",
        "\n",
        "#### Sentiment Analysis\n",
        "\n",
        "In thist project, we will build a Long Short - Term Memory (LSTM) neural network to solve a binary sentiment analysis problem.\n",
        "\n",
        "For this we'll use the \"IMDB Movie Review Dataset\" available on Keras. It includes 50000 highly polarized movie reviews categorized as positive or negative."
      ],
      "metadata": {
        "id": "c6Ssdky0wO4c"
      }
    },
    {
      "cell_type": "markdown",
      "source": [
        "### Importing the Required Libraires\n",
        "\n",
        "We'll start with importing required libraries.\n",
        "\n",
        "Use the keyword \"import\"."
      ],
      "metadata": {
        "id": "POKTKzJiwwKb"
      }
    },
    {
      "cell_type": "code",
      "source": [
        "# Import TensorFlow\n",
        "import tensorflow as tf\n",
        "\n",
        "# Import NumPy and Matplotlib\n",
        "import numpy as np\n",
        "import matplotlib.pyplot as plt\n"
      ],
      "metadata": {
        "id": "k-FOjk97Gw-U"
      },
      "execution_count": null,
      "outputs": []
    },
    {
      "cell_type": "markdown",
      "source": [
        "### Dataset\n",
        "\n",
        "Let's download the IMDB dataset which is included in Keras and assign it to the corresponding variables X_train, y_train, X_test, y_test. We want to include the most frequently used 10000 words so we specify 10000 for the num_words parameter.\n",
        "\n",
        "* Use the datasets.imdb.load_data() function of the Keras"
      ],
      "metadata": {
        "id": "h_ji8yHhxOCI"
      }
    },
    {
      "cell_type": "code",
      "source": [
        "# Download the IMDB dataset included in Keras\n",
        "# Set the parameter num_words to 10000\n",
        "(X_train, y_train), (X_test, y_test) = tf.keras.datasets.imdb.load_data(num_words = 10000)"
      ],
      "metadata": {
        "colab": {
          "base_uri": "https://localhost:8080/"
        },
        "id": "pzAD5dgtx8y5",
        "outputId": "e3c69322-0feb-40fe-ffc5-45ba208187cb"
      },
      "execution_count": null,
      "outputs": [
        {
          "output_type": "stream",
          "name": "stdout",
          "text": [
            "Downloading data from https://storage.googleapis.com/tensorflow/tf-keras-datasets/imdb.npz\n",
            "17465344/17464789 [==============================] - 0s 0us/step\n",
            "17473536/17464789 [==============================] - 0s 0us/step\n"
          ]
        }
      ]
    },
    {
      "cell_type": "markdown",
      "source": [
        "Before we move on, we can print a single sample to see what the data looks like.\n",
        "\n",
        "* Use the print() function for this."
      ],
      "metadata": {
        "id": "xVbIQq7jyTTX"
      }
    },
    {
      "cell_type": "code",
      "source": [
        "# Print a sample\n",
        "print(X_train[0])"
      ],
      "metadata": {
        "colab": {
          "base_uri": "https://localhost:8080/"
        },
        "id": "2tVR-6WJyQGt",
        "outputId": "da610039-f153-486e-f003-7e13b64b0d01"
      },
      "execution_count": null,
      "outputs": [
        {
          "output_type": "stream",
          "name": "stdout",
          "text": [
            "[1, 14, 22, 16, 43, 530, 973, 1622, 1385, 65, 458, 4468, 66, 3941, 4, 173, 36, 256, 5, 25, 100, 43, 838, 112, 50, 670, 2, 9, 35, 480, 284, 5, 150, 4, 172, 112, 167, 2, 336, 385, 39, 4, 172, 4536, 1111, 17, 546, 38, 13, 447, 4, 192, 50, 16, 6, 147, 2025, 19, 14, 22, 4, 1920, 4613, 469, 4, 22, 71, 87, 12, 16, 43, 530, 38, 76, 15, 13, 1247, 4, 22, 17, 515, 17, 12, 16, 626, 18, 2, 5, 62, 386, 12, 8, 316, 8, 106, 5, 4, 2223, 5244, 16, 480, 66, 3785, 33, 4, 130, 12, 16, 38, 619, 5, 25, 124, 51, 36, 135, 48, 25, 1415, 33, 6, 22, 12, 215, 28, 77, 52, 5, 14, 407, 16, 82, 2, 8, 4, 107, 117, 5952, 15, 256, 4, 2, 7, 3766, 5, 723, 36, 71, 43, 530, 476, 26, 400, 317, 46, 7, 4, 2, 1029, 13, 104, 88, 4, 381, 15, 297, 98, 32, 2071, 56, 26, 141, 6, 194, 7486, 18, 4, 226, 22, 21, 134, 476, 26, 480, 5, 144, 30, 5535, 18, 51, 36, 28, 224, 92, 25, 104, 4, 226, 65, 16, 38, 1334, 88, 12, 16, 283, 5, 16, 4472, 113, 103, 32, 15, 16, 5345, 19, 178, 32]\n"
          ]
        }
      ]
    },
    {
      "cell_type": "markdown",
      "source": [
        "Then, we print the number of samples in the X_train and X_test datasets to see how the dataset is distributed.\n",
        "\n",
        "* Use f-strings for this."
      ],
      "metadata": {
        "id": "VZ3ZCZFmy9Gx"
      }
    },
    {
      "cell_type": "code",
      "source": [
        "# Print the number of samples\n",
        "print(f\"X_train: {len(X_train)}\")\n",
        "print(f\"X_test: {len(X_test)}\")"
      ],
      "metadata": {
        "colab": {
          "base_uri": "https://localhost:8080/"
        },
        "id": "RAKPH3V-1OJV",
        "outputId": "4687e7d1-caa5-45ba-8bf5-66bc2c39084c"
      },
      "execution_count": null,
      "outputs": [
        {
          "output_type": "stream",
          "name": "stdout",
          "text": [
            "X_train: 25000\n",
            "X_test: 25000\n"
          ]
        }
      ]
    },
    {
      "cell_type": "markdown",
      "source": [
        "### Preprocessing\n",
        "\n",
        "Concatenate\n",
        "\n",
        "To split the dataset with 80-10-10 ratio we'll first concatenate train and test datasets to create one big dataset.\n",
        "\n",
        "* Use contenate() function of the NumPy library for this."
      ],
      "metadata": {
        "id": "Oa669rUe1Xx1"
      }
    },
    {
      "cell_type": "code",
      "source": [
        "# Concatenate X_train and X_test and assing it to a variable X\n",
        "X = np.concatenate((X_train, X_test), axis = 0)   \n",
        "\n",
        "# Concatenate y_train and y_test and assing it to a variable y\n",
        "y = np.concatenate((y_train, y_test), axis = 0)\n"
      ],
      "metadata": {
        "id": "dUlqBhwG1rjJ"
      },
      "execution_count": null,
      "outputs": []
    },
    {
      "cell_type": "markdown",
      "source": [
        "### Padding\n",
        "\n",
        "Since all reviews are at different lengths, we'll use padding to make all of them same length.\n",
        "\n",
        "* Use preprocessing.sequence.pad_sequences() function for this."
      ],
      "metadata": {
        "id": "id92fWmD23Hu"
      }
    },
    {
      "cell_type": "code",
      "source": [
        "# Pad all reviews in the X dataset to the length maxlen=1024\n",
        "X = tf.keras.preprocessing.sequence.pad_sequences(X, maxlen=1024)"
      ],
      "metadata": {
        "id": "StRShZ162lai"
      },
      "execution_count": null,
      "outputs": []
    },
    {
      "cell_type": "markdown",
      "source": [
        "### Splitting\n",
        "\n",
        "Now, split X and y into train, validation and test dataset and assign those to corresponding values.\n",
        "\n",
        "* You can use list slicing methods for this.\n",
        "\n",
        "* For this dataset, a 80-10-10 split corresponds to 40000 - 10000 - 10000 number of samples relatively."
      ],
      "metadata": {
        "id": "DtCkvHDn3a8Z"
      }
    },
    {
      "cell_type": "code",
      "source": [
        "# Create the training datasets\n",
        "X_train = X[:40000]\n",
        "y_train = y[:40000]\n",
        "\n",
        "# Create the validation datasets\n",
        "X_val = X[40000:45000]\n",
        "y_val = y[40000:45000]\n",
        "\n",
        "# Create the test datasets\n",
        "X_test = X[45000:50000]\n",
        "y_test = y[45000:50000]\n"
      ],
      "metadata": {
        "id": "I-iIXN1E3Zd5"
      },
      "execution_count": null,
      "outputs": []
    },
    {
      "cell_type": "markdown",
      "source": [
        "To check if that worked out, print the number of samples in each dataset again.\n",
        "\n",
        "* Use f-strings for this."
      ],
      "metadata": {
        "id": "zgsPx6M14OX9"
      }
    },
    {
      "cell_type": "code",
      "source": [
        "# Print the number of samples\n",
        "print(f\"X_train: {len(X_train)}\")\n",
        "print(f\"y_train: {len(y_train)}\")\n",
        "print(f\"X_val: {len(X_val)}\")\n",
        "print(f\"y_val: {len(y_val)}\")\n",
        "print(f\"X_test: {len(X_test)}\")\n",
        "print(f\"y_test: {len(y_test)}\")"
      ],
      "metadata": {
        "colab": {
          "base_uri": "https://localhost:8080/"
        },
        "id": "spjxpoVz4hjn",
        "outputId": "b69119f4-2356-4424-83c8-de4fa08affd1"
      },
      "execution_count": null,
      "outputs": [
        {
          "output_type": "stream",
          "name": "stdout",
          "text": [
            "X_train: 40000\n",
            "y_train: 40000\n",
            "X_val: 5000\n",
            "y_val: 5000\n",
            "X_test: 5000\n",
            "y_test: 5000\n"
          ]
        }
      ]
    },
    {
      "cell_type": "markdown",
      "source": [
        "### Constructing the Neural Network\n",
        "\n",
        "That was it for the preprocessing of the data!\n",
        "\n",
        "Now we can create our model. First things first, we start by creating a model object using Sequential API of Keras.\n",
        "\n",
        "* Use tf.keras.Sequential() to create a model object."
      ],
      "metadata": {
        "id": "e3mJKk4T5fvU"
      }
    },
    {
      "cell_type": "code",
      "source": [
        "model = tf.keras.Sequential()"
      ],
      "metadata": {
        "id": "2xifGO554jev"
      },
      "execution_count": null,
      "outputs": []
    },
    {
      "cell_type": "markdown",
      "source": [
        "### Embedding Layer\n",
        "\n",
        "For the first layer, we add an embedding layer.\n",
        "\n",
        "* Use tf.keras.layers.Embedding() for the embedding layer.\n",
        "\n",
        "* Use .add() method of the object to add the layer."
      ],
      "metadata": {
        "id": "1P3-Wf3g6D7d"
      }
    },
    {
      "cell_type": "code",
      "source": [
        "# Add an embedding layer and a dropout.\n",
        "model.add(tf.keras.layers.Embedding(input_dim = 10000, output_dim = 256))\n",
        "model.add(tf.keras.layers.Dropout(0.7))"
      ],
      "metadata": {
        "id": "rrDYFCEz6aPe"
      },
      "execution_count": null,
      "outputs": []
    },
    {
      "cell_type": "markdown",
      "source": [
        "Then we add a LSTM layer and a dense layer; each with a dropout.\n",
        "\n",
        "* Use tf.keras.layers.LSTM() and tf.keras.layers.Dense() to create the layers.\n",
        "\n",
        "* Use .add() method of the object to add the layer."
      ],
      "metadata": {
        "id": "q0OLBlOp6eza"
      }
    },
    {
      "cell_type": "code",
      "source": [
        "# Add a LSTM layer with dropout\n",
        "model.add(tf.keras.layers.LSTM(256))\n",
        "model.add(tf.keras.layers.Dropout(0.7))\n",
        "\n",
        "# Add a Dense layer with dropout\n",
        "model.add(tf.keras.layers.Dense(128, activation = \"relu\"))\n",
        "model.add(tf.keras.layers.Dropout(0.7))\n"
      ],
      "metadata": {
        "id": "vLQA4ccH6x0P"
      },
      "execution_count": null,
      "outputs": []
    },
    {
      "cell_type": "markdown",
      "source": [
        "### Output Layer\n",
        "\n",
        "As the last part of out neural network, we add the output layer. The number of nodes will be one since we are making binary classification. We'll use the sigmoid activation function in the output layer.\n",
        "\n",
        "* Use tf.keras.layers.Dense() to create the layer.\n",
        "\n",
        "* Use .add() method of the object to add the layer."
      ],
      "metadata": {
        "id": "Osw-BSAG8NRH"
      }
    },
    {
      "cell_type": "code",
      "source": [
        "# Add the output layer\n",
        "model.add(tf.keras.layers.Dense(1, activation = \"sigmoid\"))"
      ],
      "metadata": {
        "id": "mvFVWEJc8IXC"
      },
      "execution_count": null,
      "outputs": []
    },
    {
      "cell_type": "markdown",
      "source": [
        "### Optimizer\n",
        "\n",
        "Now we have the structure of our model. To configure the model for training we'll use the .compile() method. Inside the compile method we have to define the following:\n",
        "\n",
        "  * \"Adam\" for optimizer\n",
        "\n",
        "  * \"Binary Crossentropy\" for the loss function\n",
        "\n",
        "* Construct the model with the .compile() method."
      ],
      "metadata": {
        "id": "Mb1U5aLU9R-G"
      }
    },
    {
      "cell_type": "code",
      "source": [
        "model.compile(optimizer = \"adam\", loss = \"binary_crossentropy\", metrics = [\"accuracy\"])"
      ],
      "metadata": {
        "id": "HuxBKfvW9QuP"
      },
      "execution_count": null,
      "outputs": []
    },
    {
      "cell_type": "markdown",
      "source": [
        "### Training the Model\n",
        "\n",
        "It's time to train the model. We'll give the X_train and y_train datasets as the first two arguments. These will be used for training. And with the validation data parameter we'll give the X_val and y_val as a tuple.\n",
        "\n",
        "* Use .fit() method of the model object for the training."
      ],
      "metadata": {
        "id": "CaZzJ_EN953o"
      }
    },
    {
      "cell_type": "code",
      "source": [
        "# Train the model for 5 epochs with batch size of 128\n",
        "results = model.fit(X_train, y_train, epochs = 5, validation_data = (X_val, y_val))"
      ],
      "metadata": {
        "colab": {
          "base_uri": "https://localhost:8080/"
        },
        "id": "QVOf-_XX-Vtu",
        "outputId": "2d362db1-5979-4c68-b634-067d3a0072eb"
      },
      "execution_count": null,
      "outputs": [
        {
          "output_type": "stream",
          "name": "stdout",
          "text": [
            "Epoch 1/5\n",
            "1250/1250 [==============================] - 101s 75ms/step - loss: 0.4954 - accuracy: 0.7600 - val_loss: 0.3882 - val_accuracy: 0.8312\n",
            "Epoch 2/5\n",
            "1250/1250 [==============================] - 86s 69ms/step - loss: 0.4142 - accuracy: 0.8181 - val_loss: 0.6084 - val_accuracy: 0.6974\n",
            "Epoch 3/5\n",
            "1250/1250 [==============================] - 87s 69ms/step - loss: 0.5875 - accuracy: 0.6735 - val_loss: 0.4376 - val_accuracy: 0.8106\n",
            "Epoch 4/5\n",
            "1250/1250 [==============================] - 88s 70ms/step - loss: 0.3920 - accuracy: 0.8287 - val_loss: 0.2414 - val_accuracy: 0.9024\n",
            "Epoch 5/5\n",
            "1250/1250 [==============================] - 87s 70ms/step - loss: 0.2363 - accuracy: 0.9140 - val_loss: 0.2337 - val_accuracy: 0.9072\n"
          ]
        }
      ]
    },
    {
      "cell_type": "markdown",
      "source": [
        "### Visualize the results\n",
        "\n",
        "After the model is trained, we can create a graph to visualize the change of loss over time. Results are held in:\n",
        "\n",
        "* results.history[\"loss\"]\n",
        "\n",
        "* results.history[\"val_loss\"]\n",
        "\n",
        "Use plt.show() to display the graph."
      ],
      "metadata": {
        "id": "rnH7xDCs-apQ"
      }
    },
    {
      "cell_type": "code",
      "source": [
        "# Plot the training loss\n",
        "plt.plot(results.history[\"loss\"], label = \"Train\")\n",
        "\n",
        "# Plot the validation loss\n",
        "plt.plot(results.history[\"val_loss\"], label = \"Validation\")\n",
        "\n",
        "# Name the x and y axises\n",
        "plt.xlabel(\"Epoch\")\n",
        "plt.ylabel(\"Loss\")\n",
        "\n",
        "# Put legend table\n",
        "plt.legend()\n",
        "\n",
        "# Show the plot\n",
        "plt.show()\n"
      ],
      "metadata": {
        "colab": {
          "base_uri": "https://localhost:8080/",
          "height": 279
        },
        "id": "kcCvGdMP_TIv",
        "outputId": "267e043e-3f3a-4ef7-913d-97ec56eb6bc6"
      },
      "execution_count": null,
      "outputs": [
        {
          "output_type": "display_data",
          "data": {
            "text/plain": [
              "<Figure size 432x288 with 1 Axes>"
            ],
            "image/png": "[encoded data removed]"
          },
          "metadata": {
            "needs_background": "light"
          }
        }
      ]
    },
    {
      "cell_type": "markdown",
      "source": [
        "Now, do the same thing for accuracy.\n",
        "\n",
        "* Accuracy scores can be found in:\n",
        "\n",
        "* results.history[\"accuracy\"]\n",
        "\n",
        "* results.history[\"val_accuracy\"]"
      ],
      "metadata": {
        "id": "wMYt2pXBBa-j"
      }
    },
    {
      "cell_type": "code",
      "source": [
        "# Plot the training accuracy\n",
        "plt.plot(results.history[\"accuracy\"], label = \"Train\")\n",
        "\n",
        "# Plot the validation accuracy\n",
        "plt.plot(results.history[\"val_accuracy\"], label = \"Validation\")\n",
        "\n",
        "# Name the x and y axises\n",
        "plt.xlabel(\"Epoch\")\n",
        "plt.ylabel(\"Accuracy\")\n",
        "\n",
        "# Put legend table\n",
        "plt.legend()\n",
        "\n",
        "# Show the plot\n",
        "plt.show()\n"
      ],
      "metadata": {
        "colab": {
          "base_uri": "https://localhost:8080/",
          "height": 279
        },
        "id": "iaQMzM0ICHIx",
        "outputId": "f8d51255-8fd6-4be5-c2e0-82bf4bf55470"
      },
      "execution_count": null,
      "outputs": [
        {
          "output_type": "display_data",
          "data": {
            "text/plain": [
              "<Figure size 432x288 with 1 Axes>"
            ],
            "image/png": "[encoded data removed]"
          },
          "metadata": {
            "needs_background": "light"
          }
        }
      ]
    },
    {
      "cell_type": "markdown",
      "source": [
        "### Performance Evaluation\n",
        "\n",
        "Let's use the test dataset we created to evaluate the performance of the model.\n",
        "\n",
        "* Use test_on_batch() method with test dataset as parameter."
      ],
      "metadata": {
        "id": "jrMKdbF7C2By"
      }
    },
    {
      "cell_type": "code",
      "source": [
        "# Evaluate the performance\n",
        "model.evaluate(X_test, y_test)"
      ],
      "metadata": {
        "colab": {
          "base_uri": "https://localhost:8080/"
        },
        "id": "fWu7tOj9DQcZ",
        "outputId": "1906f353-d8c0-4043-d73e-3b7120ad0a55"
      },
      "execution_count": null,
      "outputs": [
        {
          "output_type": "stream",
          "name": "stdout",
          "text": [
            "157/157 [==============================] - 4s 26ms/step - loss: 0.2292 - accuracy: 0.9040\n"
          ]
        },
        {
          "output_type": "execute_result",
          "data": {
            "text/plain": [
              "[0.22921982407569885, 0.9039999842643738]"
            ]
          },
          "metadata": {},
          "execution_count": 20
        }
      ]
    },
    {
      "cell_type": "markdown",
      "source": [
        "### Try a Prediction\n",
        "\n",
        "Next, we take a sample and make a prediction on it.\n",
        "\n",
        "* Reshape the review to (1, 1024).\n",
        "\n",
        "* Use the .prediction() method of the model object."
      ],
      "metadata": {
        "id": "drxchXsVDTQc"
      }
    },
    {
      "cell_type": "code",
      "source": [
        "# Make prediction on the reshaped sample\n",
        "prediction_result = model.predict(X_test[789].reshape(1, 1024))"
      ],
      "metadata": {
        "id": "440zcq2QDf0v"
      },
      "execution_count": null,
      "outputs": []
    },
    {
      "cell_type": "code",
      "source": [
        "print(f\"Label: {y_test[789]} | Prediction: {prediction_result}\")"
      ],
      "metadata": {
        "colab": {
          "base_uri": "https://localhost:8080/"
        },
        "id": "U0W5IeKQFDNN",
        "outputId": "6dfeb417-e8dc-4987-c595-4d5f6fe9fb1d"
      },
      "execution_count": null,
      "outputs": [
        {
          "output_type": "stream",
          "name": "stdout",
          "text": [
            "Label: 0 | Prediction: [[0.05775834]]\n"
          ]
        }
      ]
    },
    {
      "cell_type": "markdown",
      "source": [
        "### AI9081 Wrap Up\n",
        "\n",
        "Hello and welcome back! Congrats, we have come to the end of our course. Before we say goodbye, let’s quickly cover what we have learned so far, shall we? First, we introduced the structure of neural networks, how they are built of perceptrons, and their components: the input, hidden and output layers. And how the depth of one of these components, hidden layers, gave deep learning its name. After understanding its structure, we saw how information is transferred through a neural network model with forward propagation. Then we checked out how to improve an ANN model with training by changing its learnable parameters between each layer, so called weights and biases. We dove deeper into learnable parameter and hyperparameter terms. We learned about gradients and discovered how backpropagation is used to compute the gradients, in order to train a neural network model.\n",
        "\n",
        " \n",
        "\n",
        "In the second chapter, we talked about how machines perceive everything as numbers. So, it was time to understand how machines find their way between all the numbers. We learned what convolution is and how it is performed. We also introduced different types of convolutional kernels and how they extract features which deliver the needed spatial information. We discussed that while there are some ready to use predefined kernels, designed by incredible engineers, the kernel values can also be defined by the model. We looked at how feature extraction can happen without manually set filters. And with this knowledge in mind, we introduced the structure of one of the most crucial methods of deep learning: Convolutional Neural Networks.\n",
        "\n",
        " \n",
        "\n",
        "The last type of neural networks we introduced were Recurrent Neural Networks. We started with why we want to use temporal information in our models and explained how RNNs can do this for us. We learned how the hidden state represents information from previous time steps, different architectures of RNNs and their applications. We talked about the limitations of RNNs and of course how we can overcome them. The problem of exploding and vanishing gradients we may run into and how gradient clipping techniques, GRU and LSTM can help us solve these problems. And through all the way, we can proudly say that we also gained some pretty good hands-on experience with the projects we completed together.\n",
        "\n",
        " \n",
        "\n",
        "Remember, this is not the end, but only the beginning of your deep learning journey. Be ready to always discover more."
      ],
      "metadata": {
        "id": "j9ysY_paGmFR"
      }
    },
    {
      "cell_type": "code",
      "source": [],
      "metadata": {
        "id": "yLlqhc6-GrUH"
      },
      "execution_count": null,
      "outputs": []
    }
  ]
}